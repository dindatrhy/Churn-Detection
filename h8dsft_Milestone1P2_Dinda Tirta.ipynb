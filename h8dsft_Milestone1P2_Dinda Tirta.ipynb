{
  "nbformat": 4,
  "nbformat_minor": 0,
  "metadata": {
    "colab": {
      "name": "h8dsft_Milestone1P2_Dinda Tirta.ipynb",
      "provenance": [],
      "collapsed_sections": []
    },
    "kernelspec": {
      "display_name": "Python 3",
      "name": "python3"
    },
    "language_info": {
      "name": "python"
    },
    "accelerator": "GPU"
  },
  "cells": [
    {
      "cell_type": "markdown",
      "metadata": {
        "id": "IGWMLsdgIYW3"
      },
      "source": [
        "# Introduction\n",
        "\n",
        "\n",
        "\n",
        "\n",
        "\n",
        "Dinda Tirta Rahayu\n",
        "\n",
        "FTDS Batch 004 "
      ]
    },
    {
      "cell_type": "markdown",
      "metadata": {
        "id": "flLOc5eYIpuh"
      },
      "source": [
        "---------\n",
        "# The Problem\n",
        "\n",
        "### What is Churn?\n",
        "\n",
        "A churned user is a user who has stopped using an app. There are two kinds of actions a user takes related to churn: either lapsing in use (which means no more sessions being recorded) or uninstalling the app from the device itself. But essentially, churn rate is the number of users that leave your app in a given period of time.\n",
        "\n",
        "\n",
        "\n",
        "### The Benefit of Measuring Churn\n",
        "\n",
        "If Telco user churn is high, you could be spending a lot of money on user acquisition but not getting the maximum ROI from the user. By identifying what the issues are, Telco can improve user retention and therefore revenue. \n",
        "\n",
        "However, Telco apps should measure churn to ensure that enough users are staying put, hitting the required milestones within Telco apps to remain profitable.\n",
        "\n",
        "**So, here we try to build churn customer prediction for detecting which customers are likely to leave a service or to cancel a subscription to a service.**"
      ]
    },
    {
      "cell_type": "markdown",
      "metadata": {
        "id": "vVCOt8nLCiKE"
      },
      "source": [
        "-----------\n",
        "# Import the Libraries"
      ]
    },
    {
      "cell_type": "code",
      "metadata": {
        "colab": {
          "base_uri": "https://localhost:8080/"
        },
        "id": "nvs9SMkuMnMS",
        "outputId": "a82bd18e-d9af-490f-ce6b-c992018c0956"
      },
      "source": [
        "import pathlib\n",
        "import os\n",
        "import matplotlib.pyplot as plt\n",
        "import pandas as pd\n",
        "import numpy as np\n",
        "import seaborn as sns\n",
        "import tensorflow as tf\n",
        "from tensorflow.keras import layers\n",
        "import plotly.graph_objects as go\n",
        "from plotly.offline import download_plotlyjs, init_notebook_mode, plot, iplot\n",
        "from statsmodels.stats.outliers_influence import variance_inflation_factor\n",
        "\n",
        "from sklearn.preprocessing import OneHotEncoder\n",
        "from sklearn.preprocessing import LabelBinarizer\n",
        "from sklearn.feature_selection import chi2\n",
        "from sklearn.feature_selection import SelectKBest\n",
        "from matplotlib import pyplot\n",
        "from sklearn.model_selection import train_test_split\n",
        "print(tf.__version__)\n",
        "print(tf.keras.__version__)\n",
        "from tensorflow import keras\n",
        "\n",
        "np.set_printoptions(precision=4)\n",
        "\n",
        "from xgboost import XGBClassifier\n",
        "import warnings\n",
        "warnings.filterwarnings('ignore')"
      ],
      "execution_count": 5,
      "outputs": [
        {
          "output_type": "stream",
          "name": "stdout",
          "text": [
            "2.7.0\n",
            "2.7.0\n"
          ]
        }
      ]
    },
    {
      "cell_type": "markdown",
      "metadata": {
        "id": "6z83zkQ7B_qc"
      },
      "source": [
        "------------------\n",
        "# Kaggle Installation"
      ]
    },
    {
      "cell_type": "code",
      "metadata": {
        "colab": {
          "base_uri": "https://localhost:8080/"
        },
        "id": "cg5fcooFwUIc",
        "outputId": "ebfb3213-24e2-428b-cda0-2a667bf38584"
      },
      "source": [
        "# Install Kaggle library in Google Collaboratory.\n",
        "\n",
        "## Install Kaggle library\n",
        "!pip install kaggle\n",
        "\n",
        "## Make a directory named `.kaggle` \n",
        "!mkdir ~/.kaggle\n",
        "\n",
        "## Copy the kaggle.json into this new directory \n",
        "!cp kaggle.json ~/.kaggle/\n",
        "\n",
        "## Change permission for this directory : \n",
        "!chmod 600 ~/.kaggle/kaggle.json"
      ],
      "execution_count": 6,
      "outputs": [
        {
          "output_type": "stream",
          "name": "stdout",
          "text": [
            "Requirement already satisfied: kaggle in /usr/local/lib/python3.7/dist-packages (1.5.12)\n",
            "Requirement already satisfied: certifi in /usr/local/lib/python3.7/dist-packages (from kaggle) (2021.10.8)\n",
            "Requirement already satisfied: requests in /usr/local/lib/python3.7/dist-packages (from kaggle) (2.23.0)\n",
            "Requirement already satisfied: tqdm in /usr/local/lib/python3.7/dist-packages (from kaggle) (4.62.3)\n",
            "Requirement already satisfied: urllib3 in /usr/local/lib/python3.7/dist-packages (from kaggle) (1.24.3)\n",
            "Requirement already satisfied: python-dateutil in /usr/local/lib/python3.7/dist-packages (from kaggle) (2.8.2)\n",
            "Requirement already satisfied: python-slugify in /usr/local/lib/python3.7/dist-packages (from kaggle) (5.0.2)\n",
            "Requirement already satisfied: six>=1.10 in /usr/local/lib/python3.7/dist-packages (from kaggle) (1.15.0)\n",
            "Requirement already satisfied: text-unidecode>=1.3 in /usr/local/lib/python3.7/dist-packages (from python-slugify->kaggle) (1.3)\n",
            "Requirement already satisfied: chardet<4,>=3.0.2 in /usr/local/lib/python3.7/dist-packages (from requests->kaggle) (3.0.4)\n",
            "Requirement already satisfied: idna<3,>=2.5 in /usr/local/lib/python3.7/dist-packages (from requests->kaggle) (2.10)\n",
            "mkdir: cannot create directory ‘/root/.kaggle’: File exists\n"
          ]
        }
      ]
    },
    {
      "cell_type": "code",
      "metadata": {
        "colab": {
          "base_uri": "https://localhost:8080/"
        },
        "id": "xVc0TL24xGzd",
        "outputId": "f4e26a0d-41ab-40a3-acb1-ee448e5660ec"
      },
      "source": [
        "# Download dataset\n",
        "\n",
        "%%time\n",
        "!kaggle datasets download -d blastchar/telco-customer-churn"
      ],
      "execution_count": 7,
      "outputs": [
        {
          "output_type": "stream",
          "name": "stdout",
          "text": [
            "telco-customer-churn.zip: Skipping, found more recently modified local copy (use --force to force download)\n",
            "CPU times: user 13.3 ms, sys: 8.66 ms, total: 21.9 ms\n",
            "Wall time: 627 ms\n"
          ]
        }
      ]
    },
    {
      "cell_type": "code",
      "metadata": {
        "colab": {
          "base_uri": "https://localhost:8080/"
        },
        "id": "EIJN471Sz59C",
        "outputId": "710dc7ac-8634-44a7-8647-bb4ea4d5c3ec"
      },
      "source": [
        "# Every dataset that downloaded from Kaggle, is in format `.zip`. So, we must unzip it before we can using the dataset.\n",
        "\n",
        "!unzip ./telco-customer-churn.zip"
      ],
      "execution_count": 8,
      "outputs": [
        {
          "output_type": "stream",
          "name": "stdout",
          "text": [
            "Archive:  ./telco-customer-churn.zip\n",
            "  inflating: WA_Fn-UseC_-Telco-Customer-Churn.csv  \n"
          ]
        }
      ]
    },
    {
      "cell_type": "markdown",
      "metadata": {
        "id": "6u7Y24XgCRg_"
      },
      "source": [
        "-------------\n",
        "# Loading Dataset"
      ]
    },
    {
      "cell_type": "code",
      "metadata": {
        "id": "TC0qa9k0zy1g",
        "colab": {
          "base_uri": "https://localhost:8080/",
          "height": 313
        },
        "outputId": "514417bd-6e8e-4617-e123-d36c16d292b8"
      },
      "source": [
        "# Read The Dataset\n",
        "\n",
        "df = pd.read_csv('WA_Fn-UseC_-Telco-Customer-Churn.csv')\n",
        "df.head()"
      ],
      "execution_count": 9,
      "outputs": [
        {
          "output_type": "execute_result",
          "data": {
            "text/html": [
              "<div>\n",
              "<style scoped>\n",
              "    .dataframe tbody tr th:only-of-type {\n",
              "        vertical-align: middle;\n",
              "    }\n",
              "\n",
              "    .dataframe tbody tr th {\n",
              "        vertical-align: top;\n",
              "    }\n",
              "\n",
              "    .dataframe thead th {\n",
              "        text-align: right;\n",
              "    }\n",
              "</style>\n",
              "<table border=\"1\" class=\"dataframe\">\n",
              "  <thead>\n",
              "    <tr style=\"text-align: right;\">\n",
              "      <th></th>\n",
              "      <th>customerID</th>\n",
              "      <th>gender</th>\n",
              "      <th>SeniorCitizen</th>\n",
              "      <th>Partner</th>\n",
              "      <th>Dependents</th>\n",
              "      <th>tenure</th>\n",
              "      <th>PhoneService</th>\n",
              "      <th>MultipleLines</th>\n",
              "      <th>InternetService</th>\n",
              "      <th>OnlineSecurity</th>\n",
              "      <th>OnlineBackup</th>\n",
              "      <th>DeviceProtection</th>\n",
              "      <th>TechSupport</th>\n",
              "      <th>StreamingTV</th>\n",
              "      <th>StreamingMovies</th>\n",
              "      <th>Contract</th>\n",
              "      <th>PaperlessBilling</th>\n",
              "      <th>PaymentMethod</th>\n",
              "      <th>MonthlyCharges</th>\n",
              "      <th>TotalCharges</th>\n",
              "      <th>Churn</th>\n",
              "    </tr>\n",
              "  </thead>\n",
              "  <tbody>\n",
              "    <tr>\n",
              "      <th>0</th>\n",
              "      <td>7590-VHVEG</td>\n",
              "      <td>Female</td>\n",
              "      <td>0</td>\n",
              "      <td>Yes</td>\n",
              "      <td>No</td>\n",
              "      <td>1</td>\n",
              "      <td>No</td>\n",
              "      <td>No phone service</td>\n",
              "      <td>DSL</td>\n",
              "      <td>No</td>\n",
              "      <td>Yes</td>\n",
              "      <td>No</td>\n",
              "      <td>No</td>\n",
              "      <td>No</td>\n",
              "      <td>No</td>\n",
              "      <td>Month-to-month</td>\n",
              "      <td>Yes</td>\n",
              "      <td>Electronic check</td>\n",
              "      <td>29.85</td>\n",
              "      <td>29.85</td>\n",
              "      <td>No</td>\n",
              "    </tr>\n",
              "    <tr>\n",
              "      <th>1</th>\n",
              "      <td>5575-GNVDE</td>\n",
              "      <td>Male</td>\n",
              "      <td>0</td>\n",
              "      <td>No</td>\n",
              "      <td>No</td>\n",
              "      <td>34</td>\n",
              "      <td>Yes</td>\n",
              "      <td>No</td>\n",
              "      <td>DSL</td>\n",
              "      <td>Yes</td>\n",
              "      <td>No</td>\n",
              "      <td>Yes</td>\n",
              "      <td>No</td>\n",
              "      <td>No</td>\n",
              "      <td>No</td>\n",
              "      <td>One year</td>\n",
              "      <td>No</td>\n",
              "      <td>Mailed check</td>\n",
              "      <td>56.95</td>\n",
              "      <td>1889.5</td>\n",
              "      <td>No</td>\n",
              "    </tr>\n",
              "    <tr>\n",
              "      <th>2</th>\n",
              "      <td>3668-QPYBK</td>\n",
              "      <td>Male</td>\n",
              "      <td>0</td>\n",
              "      <td>No</td>\n",
              "      <td>No</td>\n",
              "      <td>2</td>\n",
              "      <td>Yes</td>\n",
              "      <td>No</td>\n",
              "      <td>DSL</td>\n",
              "      <td>Yes</td>\n",
              "      <td>Yes</td>\n",
              "      <td>No</td>\n",
              "      <td>No</td>\n",
              "      <td>No</td>\n",
              "      <td>No</td>\n",
              "      <td>Month-to-month</td>\n",
              "      <td>Yes</td>\n",
              "      <td>Mailed check</td>\n",
              "      <td>53.85</td>\n",
              "      <td>108.15</td>\n",
              "      <td>Yes</td>\n",
              "    </tr>\n",
              "    <tr>\n",
              "      <th>3</th>\n",
              "      <td>7795-CFOCW</td>\n",
              "      <td>Male</td>\n",
              "      <td>0</td>\n",
              "      <td>No</td>\n",
              "      <td>No</td>\n",
              "      <td>45</td>\n",
              "      <td>No</td>\n",
              "      <td>No phone service</td>\n",
              "      <td>DSL</td>\n",
              "      <td>Yes</td>\n",
              "      <td>No</td>\n",
              "      <td>Yes</td>\n",
              "      <td>Yes</td>\n",
              "      <td>No</td>\n",
              "      <td>No</td>\n",
              "      <td>One year</td>\n",
              "      <td>No</td>\n",
              "      <td>Bank transfer (automatic)</td>\n",
              "      <td>42.30</td>\n",
              "      <td>1840.75</td>\n",
              "      <td>No</td>\n",
              "    </tr>\n",
              "    <tr>\n",
              "      <th>4</th>\n",
              "      <td>9237-HQITU</td>\n",
              "      <td>Female</td>\n",
              "      <td>0</td>\n",
              "      <td>No</td>\n",
              "      <td>No</td>\n",
              "      <td>2</td>\n",
              "      <td>Yes</td>\n",
              "      <td>No</td>\n",
              "      <td>Fiber optic</td>\n",
              "      <td>No</td>\n",
              "      <td>No</td>\n",
              "      <td>No</td>\n",
              "      <td>No</td>\n",
              "      <td>No</td>\n",
              "      <td>No</td>\n",
              "      <td>Month-to-month</td>\n",
              "      <td>Yes</td>\n",
              "      <td>Electronic check</td>\n",
              "      <td>70.70</td>\n",
              "      <td>151.65</td>\n",
              "      <td>Yes</td>\n",
              "    </tr>\n",
              "  </tbody>\n",
              "</table>\n",
              "</div>"
            ],
            "text/plain": [
              "   customerID  gender  SeniorCitizen  ... MonthlyCharges TotalCharges  Churn\n",
              "0  7590-VHVEG  Female              0  ...          29.85        29.85     No\n",
              "1  5575-GNVDE    Male              0  ...          56.95       1889.5     No\n",
              "2  3668-QPYBK    Male              0  ...          53.85       108.15    Yes\n",
              "3  7795-CFOCW    Male              0  ...          42.30      1840.75     No\n",
              "4  9237-HQITU  Female              0  ...          70.70       151.65    Yes\n",
              "\n",
              "[5 rows x 21 columns]"
            ]
          },
          "metadata": {},
          "execution_count": 9
        }
      ]
    },
    {
      "cell_type": "code",
      "metadata": {
        "colab": {
          "base_uri": "https://localhost:8080/"
        },
        "id": "LxvfOKn8Bdfb",
        "outputId": "90e918d8-d813-451c-e3b0-b87417af017a"
      },
      "source": [
        "print(df.shape)\n",
        "print(df.info())"
      ],
      "execution_count": 10,
      "outputs": [
        {
          "output_type": "stream",
          "name": "stdout",
          "text": [
            "(7043, 21)\n",
            "<class 'pandas.core.frame.DataFrame'>\n",
            "RangeIndex: 7043 entries, 0 to 7042\n",
            "Data columns (total 21 columns):\n",
            " #   Column            Non-Null Count  Dtype  \n",
            "---  ------            --------------  -----  \n",
            " 0   customerID        7043 non-null   object \n",
            " 1   gender            7043 non-null   object \n",
            " 2   SeniorCitizen     7043 non-null   int64  \n",
            " 3   Partner           7043 non-null   object \n",
            " 4   Dependents        7043 non-null   object \n",
            " 5   tenure            7043 non-null   int64  \n",
            " 6   PhoneService      7043 non-null   object \n",
            " 7   MultipleLines     7043 non-null   object \n",
            " 8   InternetService   7043 non-null   object \n",
            " 9   OnlineSecurity    7043 non-null   object \n",
            " 10  OnlineBackup      7043 non-null   object \n",
            " 11  DeviceProtection  7043 non-null   object \n",
            " 12  TechSupport       7043 non-null   object \n",
            " 13  StreamingTV       7043 non-null   object \n",
            " 14  StreamingMovies   7043 non-null   object \n",
            " 15  Contract          7043 non-null   object \n",
            " 16  PaperlessBilling  7043 non-null   object \n",
            " 17  PaymentMethod     7043 non-null   object \n",
            " 18  MonthlyCharges    7043 non-null   float64\n",
            " 19  TotalCharges      7043 non-null   object \n",
            " 20  Churn             7043 non-null   object \n",
            "dtypes: float64(1), int64(2), object(18)\n",
            "memory usage: 1.1+ MB\n",
            "None\n"
          ]
        }
      ]
    },
    {
      "cell_type": "markdown",
      "metadata": {
        "id": "iIAqB27dFF7o"
      },
      "source": [
        "------------\n",
        "# Splitting Data Earlier"
      ]
    },
    {
      "cell_type": "code",
      "metadata": {
        "id": "_oCjU6Jm1Szp"
      },
      "source": [
        "X = df.drop(['Churn'], axis=1)\n",
        "y = df['Churn']"
      ],
      "execution_count": 11,
      "outputs": []
    },
    {
      "cell_type": "markdown",
      "metadata": {
        "id": "hZ4gjJ07OHi-"
      },
      "source": [
        "**To prevent data leakage**, here we split data into data train, data validation and data test."
      ]
    },
    {
      "cell_type": "code",
      "metadata": {
        "colab": {
          "base_uri": "https://localhost:8080/"
        },
        "id": "aRNu2ChJ0Rl7",
        "outputId": "689a269b-991f-41e5-fb09-d43bdacabe76"
      },
      "source": [
        "# set aside 20% of train and test data for evaluation\n",
        "X_train, X_test, y_train, y_test = train_test_split(X, y,\n",
        "    test_size=0.2, shuffle = True, random_state = 8)\n",
        "\n",
        "# Use the same function above for the validation set\n",
        "X_train, X_val, y_train, y_val = train_test_split(X_train, y_train, \n",
        "    test_size=0.25, random_state= 8) # 0.25 x 0.8 = 0.2\n",
        "\n",
        "\n",
        "print(\"X_train shape: {}\".format(X_train.shape))\n",
        "print(\"y_train shape: {}\".format(y_train.shape))\n",
        "print(\"X_test shape: {}\".format(X_test.shape))\n",
        "print(\"y_test shape: {}\".format(y_test.shape))\n",
        "print(\"X_val shape: {}\".format(y_train.shape))\n",
        "print(\"y val shape: {}\".format(y_test.shape))"
      ],
      "execution_count": 12,
      "outputs": [
        {
          "output_type": "stream",
          "name": "stdout",
          "text": [
            "X_train shape: (4225, 20)\n",
            "y_train shape: (4225,)\n",
            "X_test shape: (1409, 20)\n",
            "y_test shape: (1409,)\n",
            "X_val shape: (4225,)\n",
            "y val shape: (1409,)\n"
          ]
        }
      ]
    },
    {
      "cell_type": "markdown",
      "metadata": {
        "id": "xiyMFrMVYP9k"
      },
      "source": [
        "----------\n",
        "# Data Cleaning"
      ]
    },
    {
      "cell_type": "code",
      "metadata": {
        "colab": {
          "base_uri": "https://localhost:8080/"
        },
        "id": "YcHwZF9pDeMn",
        "outputId": "227a43d0-e2fe-40a1-ad01-a3abf6875733"
      },
      "source": [
        "print(f'There are {df.isna().any().sum()} columns with missing values in train transaction data.')"
      ],
      "execution_count": 13,
      "outputs": [
        {
          "output_type": "stream",
          "name": "stdout",
          "text": [
            "There are 0 columns with missing values in train transaction data.\n"
          ]
        }
      ]
    },
    {
      "cell_type": "markdown",
      "metadata": {
        "id": "vblYwqP5OL4P"
      },
      "source": [
        "We can see that in the Telco dataset it doesn't contain any missing values."
      ]
    },
    {
      "cell_type": "markdown",
      "metadata": {
        "id": "u4yl7k4fO270"
      },
      "source": [
        "But something wrong in here. **Total Charges columns has whitespaces instead of NaN.**"
      ]
    },
    {
      "cell_type": "code",
      "metadata": {
        "colab": {
          "base_uri": "https://localhost:8080/",
          "height": 361
        },
        "id": "2SxgVzX-Ecmf",
        "outputId": "137c23d2-a455-401c-c387-68a0e2e935c7"
      },
      "source": [
        "X_train.loc[X_train['TotalCharges'] == ' '] # there's a lot of TotalCharges that contains whitespace."
      ],
      "execution_count": 14,
      "outputs": [
        {
          "output_type": "execute_result",
          "data": {
            "text/html": [
              "<div>\n",
              "<style scoped>\n",
              "    .dataframe tbody tr th:only-of-type {\n",
              "        vertical-align: middle;\n",
              "    }\n",
              "\n",
              "    .dataframe tbody tr th {\n",
              "        vertical-align: top;\n",
              "    }\n",
              "\n",
              "    .dataframe thead th {\n",
              "        text-align: right;\n",
              "    }\n",
              "</style>\n",
              "<table border=\"1\" class=\"dataframe\">\n",
              "  <thead>\n",
              "    <tr style=\"text-align: right;\">\n",
              "      <th></th>\n",
              "      <th>customerID</th>\n",
              "      <th>gender</th>\n",
              "      <th>SeniorCitizen</th>\n",
              "      <th>Partner</th>\n",
              "      <th>Dependents</th>\n",
              "      <th>tenure</th>\n",
              "      <th>PhoneService</th>\n",
              "      <th>MultipleLines</th>\n",
              "      <th>InternetService</th>\n",
              "      <th>OnlineSecurity</th>\n",
              "      <th>OnlineBackup</th>\n",
              "      <th>DeviceProtection</th>\n",
              "      <th>TechSupport</th>\n",
              "      <th>StreamingTV</th>\n",
              "      <th>StreamingMovies</th>\n",
              "      <th>Contract</th>\n",
              "      <th>PaperlessBilling</th>\n",
              "      <th>PaymentMethod</th>\n",
              "      <th>MonthlyCharges</th>\n",
              "      <th>TotalCharges</th>\n",
              "    </tr>\n",
              "  </thead>\n",
              "  <tbody>\n",
              "    <tr>\n",
              "      <th>3331</th>\n",
              "      <td>7644-OMVMY</td>\n",
              "      <td>Male</td>\n",
              "      <td>0</td>\n",
              "      <td>Yes</td>\n",
              "      <td>Yes</td>\n",
              "      <td>0</td>\n",
              "      <td>Yes</td>\n",
              "      <td>No</td>\n",
              "      <td>No</td>\n",
              "      <td>No internet service</td>\n",
              "      <td>No internet service</td>\n",
              "      <td>No internet service</td>\n",
              "      <td>No internet service</td>\n",
              "      <td>No internet service</td>\n",
              "      <td>No internet service</td>\n",
              "      <td>Two year</td>\n",
              "      <td>No</td>\n",
              "      <td>Mailed check</td>\n",
              "      <td>19.85</td>\n",
              "      <td></td>\n",
              "    </tr>\n",
              "    <tr>\n",
              "      <th>3826</th>\n",
              "      <td>3213-VVOLG</td>\n",
              "      <td>Male</td>\n",
              "      <td>0</td>\n",
              "      <td>Yes</td>\n",
              "      <td>Yes</td>\n",
              "      <td>0</td>\n",
              "      <td>Yes</td>\n",
              "      <td>Yes</td>\n",
              "      <td>No</td>\n",
              "      <td>No internet service</td>\n",
              "      <td>No internet service</td>\n",
              "      <td>No internet service</td>\n",
              "      <td>No internet service</td>\n",
              "      <td>No internet service</td>\n",
              "      <td>No internet service</td>\n",
              "      <td>Two year</td>\n",
              "      <td>No</td>\n",
              "      <td>Mailed check</td>\n",
              "      <td>25.35</td>\n",
              "      <td></td>\n",
              "    </tr>\n",
              "    <tr>\n",
              "      <th>488</th>\n",
              "      <td>4472-LVYGI</td>\n",
              "      <td>Female</td>\n",
              "      <td>0</td>\n",
              "      <td>Yes</td>\n",
              "      <td>Yes</td>\n",
              "      <td>0</td>\n",
              "      <td>No</td>\n",
              "      <td>No phone service</td>\n",
              "      <td>DSL</td>\n",
              "      <td>Yes</td>\n",
              "      <td>No</td>\n",
              "      <td>Yes</td>\n",
              "      <td>Yes</td>\n",
              "      <td>Yes</td>\n",
              "      <td>No</td>\n",
              "      <td>Two year</td>\n",
              "      <td>Yes</td>\n",
              "      <td>Bank transfer (automatic)</td>\n",
              "      <td>52.55</td>\n",
              "      <td></td>\n",
              "    </tr>\n",
              "    <tr>\n",
              "      <th>6754</th>\n",
              "      <td>2775-SEFEE</td>\n",
              "      <td>Male</td>\n",
              "      <td>0</td>\n",
              "      <td>No</td>\n",
              "      <td>Yes</td>\n",
              "      <td>0</td>\n",
              "      <td>Yes</td>\n",
              "      <td>Yes</td>\n",
              "      <td>DSL</td>\n",
              "      <td>Yes</td>\n",
              "      <td>Yes</td>\n",
              "      <td>No</td>\n",
              "      <td>Yes</td>\n",
              "      <td>No</td>\n",
              "      <td>No</td>\n",
              "      <td>Two year</td>\n",
              "      <td>Yes</td>\n",
              "      <td>Bank transfer (automatic)</td>\n",
              "      <td>61.90</td>\n",
              "      <td></td>\n",
              "    </tr>\n",
              "    <tr>\n",
              "      <th>5218</th>\n",
              "      <td>2923-ARZLG</td>\n",
              "      <td>Male</td>\n",
              "      <td>0</td>\n",
              "      <td>Yes</td>\n",
              "      <td>Yes</td>\n",
              "      <td>0</td>\n",
              "      <td>Yes</td>\n",
              "      <td>No</td>\n",
              "      <td>No</td>\n",
              "      <td>No internet service</td>\n",
              "      <td>No internet service</td>\n",
              "      <td>No internet service</td>\n",
              "      <td>No internet service</td>\n",
              "      <td>No internet service</td>\n",
              "      <td>No internet service</td>\n",
              "      <td>One year</td>\n",
              "      <td>Yes</td>\n",
              "      <td>Mailed check</td>\n",
              "      <td>19.70</td>\n",
              "      <td></td>\n",
              "    </tr>\n",
              "    <tr>\n",
              "      <th>4380</th>\n",
              "      <td>2520-SGTTA</td>\n",
              "      <td>Female</td>\n",
              "      <td>0</td>\n",
              "      <td>Yes</td>\n",
              "      <td>Yes</td>\n",
              "      <td>0</td>\n",
              "      <td>Yes</td>\n",
              "      <td>No</td>\n",
              "      <td>No</td>\n",
              "      <td>No internet service</td>\n",
              "      <td>No internet service</td>\n",
              "      <td>No internet service</td>\n",
              "      <td>No internet service</td>\n",
              "      <td>No internet service</td>\n",
              "      <td>No internet service</td>\n",
              "      <td>Two year</td>\n",
              "      <td>No</td>\n",
              "      <td>Mailed check</td>\n",
              "      <td>20.00</td>\n",
              "      <td></td>\n",
              "    </tr>\n",
              "  </tbody>\n",
              "</table>\n",
              "</div>"
            ],
            "text/plain": [
              "      customerID  gender  ...  MonthlyCharges TotalCharges\n",
              "3331  7644-OMVMY    Male  ...           19.85             \n",
              "3826  3213-VVOLG    Male  ...           25.35             \n",
              "488   4472-LVYGI  Female  ...           52.55             \n",
              "6754  2775-SEFEE    Male  ...           61.90             \n",
              "5218  2923-ARZLG    Male  ...           19.70             \n",
              "4380  2520-SGTTA  Female  ...           20.00             \n",
              "\n",
              "[6 rows x 20 columns]"
            ]
          },
          "metadata": {},
          "execution_count": 14
        }
      ]
    },
    {
      "cell_type": "markdown",
      "metadata": {
        "id": "Mqw-GaREPCnf"
      },
      "source": [
        "So, here we try to handle it. We want to replace whitespaces into NaN. After that we handle the missing values."
      ]
    },
    {
      "cell_type": "code",
      "metadata": {
        "id": "j38kkXNGJ97r"
      },
      "source": [
        "X_train['TotalCharges'] = X_train['TotalCharges'].apply(lambda x: x.strip()).replace('', np.nan)\n",
        "X_train['TotalCharges'] = X_train['TotalCharges'].astype('float64')"
      ],
      "execution_count": 15,
      "outputs": []
    },
    {
      "cell_type": "code",
      "metadata": {
        "colab": {
          "base_uri": "https://localhost:8080/",
          "height": 297
        },
        "id": "CSI8Dm5OLkDP",
        "outputId": "a121b0bb-74bc-4ace-cb82-bbbe9777cbd9"
      },
      "source": [
        "sns.distplot(X_train['TotalCharges'], kde=True, hist=True)"
      ],
      "execution_count": 16,
      "outputs": [
        {
          "output_type": "execute_result",
          "data": {
            "text/plain": [
              "<matplotlib.axes._subplots.AxesSubplot at 0x7f1f63f85d90>"
            ]
          },
          "metadata": {},
          "execution_count": 16
        },
        {
          "output_type": "display_data",
          "data": {
            "image/png": "[encoded data removed]",
            "text/plain": [
              "<Figure size 432x288 with 1 Axes>"
            ]
          },
          "metadata": {
            "needs_background": "light"
          }
        }
      ]
    },
    {
      "cell_type": "markdown",
      "metadata": {
        "id": "KrwaprN3Pk1y"
      },
      "source": [
        "The distribution of Total Charges is right skewed. So, here we impute using Median()"
      ]
    },
    {
      "cell_type": "code",
      "metadata": {
        "colab": {
          "base_uri": "https://localhost:8080/"
        },
        "id": "Ui2MqBrQ8olO",
        "outputId": "36e11225-c8ea-4c36-914c-2ed7bd01f9ea"
      },
      "source": [
        "X_train['TotalCharges'] = X_train['TotalCharges'].fillna(X_train['TotalCharges'].median(), axis=0)\n",
        "X_train['TotalCharges']"
      ],
      "execution_count": 17,
      "outputs": [
        {
          "output_type": "execute_result",
          "data": {
            "text/plain": [
              "608     8306.05\n",
              "5007     541.50\n",
              "5329     853.00\n",
              "3485     131.05\n",
              "6530    2298.90\n",
              "         ...   \n",
              "1265    5264.30\n",
              "3229    1046.10\n",
              "3810      44.55\n",
              "2147     348.80\n",
              "4252    1033.90\n",
              "Name: TotalCharges, Length: 4225, dtype: float64"
            ]
          },
          "metadata": {},
          "execution_count": 17
        }
      ]
    },
    {
      "cell_type": "markdown",
      "metadata": {
        "id": "zuR-hVR2Pn2r"
      },
      "source": [
        "Next step, we are going to convert it into float type."
      ]
    },
    {
      "cell_type": "code",
      "metadata": {
        "colab": {
          "base_uri": "https://localhost:8080/",
          "height": 423
        },
        "id": "scN_rhraZUNJ",
        "outputId": "c8193988-d65b-430e-a32d-6439054c9745"
      },
      "source": [
        "num_feature = X_train.select_dtypes('number')\n",
        "num_feature = num_feature.astype('float64')\n",
        "num_feature"
      ],
      "execution_count": 18,
      "outputs": [
        {
          "output_type": "execute_result",
          "data": {
            "text/html": [
              "<div>\n",
              "<style scoped>\n",
              "    .dataframe tbody tr th:only-of-type {\n",
              "        vertical-align: middle;\n",
              "    }\n",
              "\n",
              "    .dataframe tbody tr th {\n",
              "        vertical-align: top;\n",
              "    }\n",
              "\n",
              "    .dataframe thead th {\n",
              "        text-align: right;\n",
              "    }\n",
              "</style>\n",
              "<table border=\"1\" class=\"dataframe\">\n",
              "  <thead>\n",
              "    <tr style=\"text-align: right;\">\n",
              "      <th></th>\n",
              "      <th>SeniorCitizen</th>\n",
              "      <th>tenure</th>\n",
              "      <th>MonthlyCharges</th>\n",
              "      <th>TotalCharges</th>\n",
              "    </tr>\n",
              "  </thead>\n",
              "  <tbody>\n",
              "    <tr>\n",
              "      <th>608</th>\n",
              "      <td>0.0</td>\n",
              "      <td>72.0</td>\n",
              "      <td>114.55</td>\n",
              "      <td>8306.05</td>\n",
              "    </tr>\n",
              "    <tr>\n",
              "      <th>5007</th>\n",
              "      <td>0.0</td>\n",
              "      <td>25.0</td>\n",
              "      <td>20.60</td>\n",
              "      <td>541.50</td>\n",
              "    </tr>\n",
              "    <tr>\n",
              "      <th>5329</th>\n",
              "      <td>0.0</td>\n",
              "      <td>25.0</td>\n",
              "      <td>34.00</td>\n",
              "      <td>853.00</td>\n",
              "    </tr>\n",
              "    <tr>\n",
              "      <th>3485</th>\n",
              "      <td>0.0</td>\n",
              "      <td>2.0</td>\n",
              "      <td>73.25</td>\n",
              "      <td>131.05</td>\n",
              "    </tr>\n",
              "    <tr>\n",
              "      <th>6530</th>\n",
              "      <td>1.0</td>\n",
              "      <td>63.0</td>\n",
              "      <td>36.10</td>\n",
              "      <td>2298.90</td>\n",
              "    </tr>\n",
              "    <tr>\n",
              "      <th>...</th>\n",
              "      <td>...</td>\n",
              "      <td>...</td>\n",
              "      <td>...</td>\n",
              "      <td>...</td>\n",
              "    </tr>\n",
              "    <tr>\n",
              "      <th>1265</th>\n",
              "      <td>1.0</td>\n",
              "      <td>56.0</td>\n",
              "      <td>94.80</td>\n",
              "      <td>5264.30</td>\n",
              "    </tr>\n",
              "    <tr>\n",
              "      <th>3229</th>\n",
              "      <td>0.0</td>\n",
              "      <td>12.0</td>\n",
              "      <td>94.20</td>\n",
              "      <td>1046.10</td>\n",
              "    </tr>\n",
              "    <tr>\n",
              "      <th>3810</th>\n",
              "      <td>0.0</td>\n",
              "      <td>1.0</td>\n",
              "      <td>44.55</td>\n",
              "      <td>44.55</td>\n",
              "    </tr>\n",
              "    <tr>\n",
              "      <th>2147</th>\n",
              "      <td>0.0</td>\n",
              "      <td>18.0</td>\n",
              "      <td>19.00</td>\n",
              "      <td>348.80</td>\n",
              "    </tr>\n",
              "    <tr>\n",
              "      <th>4252</th>\n",
              "      <td>0.0</td>\n",
              "      <td>19.0</td>\n",
              "      <td>56.10</td>\n",
              "      <td>1033.90</td>\n",
              "    </tr>\n",
              "  </tbody>\n",
              "</table>\n",
              "<p>4225 rows × 4 columns</p>\n",
              "</div>"
            ],
            "text/plain": [
              "      SeniorCitizen  tenure  MonthlyCharges  TotalCharges\n",
              "608             0.0    72.0          114.55       8306.05\n",
              "5007            0.0    25.0           20.60        541.50\n",
              "5329            0.0    25.0           34.00        853.00\n",
              "3485            0.0     2.0           73.25        131.05\n",
              "6530            1.0    63.0           36.10       2298.90\n",
              "...             ...     ...             ...           ...\n",
              "1265            1.0    56.0           94.80       5264.30\n",
              "3229            0.0    12.0           94.20       1046.10\n",
              "3810            0.0     1.0           44.55         44.55\n",
              "2147            0.0    18.0           19.00        348.80\n",
              "4252            0.0    19.0           56.10       1033.90\n",
              "\n",
              "[4225 rows x 4 columns]"
            ]
          },
          "metadata": {},
          "execution_count": 18
        }
      ]
    },
    {
      "cell_type": "code",
      "metadata": {
        "colab": {
          "base_uri": "https://localhost:8080/"
        },
        "id": "APK6HrvMYXzV",
        "outputId": "eeffae5c-e459-4282-c389-8f3e57c45d0a"
      },
      "source": [
        "#checking truly distribution of class\n",
        "print('Distribution of Class No :', y_train[y_train == 'No'].shape[0])\n",
        "print('Distribution of Class Yes :', y_train[y_train == 'Yes'].shape[0])"
      ],
      "execution_count": 19,
      "outputs": [
        {
          "output_type": "stream",
          "name": "stdout",
          "text": [
            "Distribution of Class No : 3101\n",
            "Distribution of Class Yes : 1124\n"
          ]
        }
      ]
    },
    {
      "cell_type": "markdown",
      "metadata": {
        "id": "R8_62hNuPygV"
      },
      "source": [
        "### See the outliers in dataset"
      ]
    },
    {
      "cell_type": "code",
      "metadata": {
        "colab": {
          "base_uri": "https://localhost:8080/",
          "height": 542
        },
        "id": "Q7OHdspdZl2T",
        "outputId": "f31f8727-aa10-4ae5-e8b4-ebca70200cac"
      },
      "source": [
        "#checking outliers using boxplot\n",
        "\n",
        "box1 = go.Box(y=X_train['SeniorCitizen'], name = 'SeniorCitizen')\n",
        "box2 = go.Box(y=X_train['tenure'], name = 'tenure')\n",
        "box3 = go.Box(y=X_train['MonthlyCharges'], name='MonthlyCharges')\n",
        "box4= go.Box(y=X_train['TotalCharges'], name='TotalCharges')\n",
        "\n",
        "layout = go.Layout(autosize=False,\n",
        "                   width = 500,\n",
        "                   height = 2500\n",
        ")\n",
        "\n",
        "data_box = [box1, box2, box3, box4]\n",
        "fig = go.Figure(data=data_box, layout=layout)\n",
        "iplot(data_box)"
      ],
      "execution_count": 20,
      "outputs": [
        {
          "output_type": "display_data",
          "data": {
            "text/html": [
              "<html>\n",
              "<head><meta charset=\"utf-8\" /></head>\n",
              "<body>\n",
              "    <div>\n",
              "            <script src=\"https://cdnjs.cloudflare.com/ajax/libs/mathjax/2.7.5/MathJax.js?config=TeX-AMS-MML_SVG\"></script><script type=\"text/javascript\">if (window.MathJax) {MathJax.Hub.Config({SVG: {font: \"STIX-Web\"}});}</script>\n",
              "                <script type=\"text/javascript\">window.PlotlyConfig = {MathJaxConfig: 'local'};</script>\n",
              "        <script src=\"https://cdn.plot.ly/plotly-latest.min.js\"></script>    \n",
              "            <div id=\"f8753c6b-9f47-4756-ab8e-d4e9a80528af\" class=\"plotly-graph-div\" style=\"height:525px; width:100%;\"></div>\n",
              "            <script type=\"text/javascript\">\n",
              "                \n",
              "                    window.PLOTLYENV=window.PLOTLYENV || {};\n",
              "                    \n",
              "                if (document.getElementById(\"f8753c6b-9f47-4756-ab8e-d4e9a80528af\")) {\n",
              "                    Plotly.newPlot(\n",
              "                        'f8753c6b-9f47-4756-ab8e-d4e9a80528af',\n",
              "                        [{\"name\": \"SeniorCitizen\", \"type\": \"box\", \"y\": [0, 0, 0, 0, 1, 0, 0, 0, 0, 0, 0, 0, 0, 0, 1, 0, 0, 0, 0, 0, 0, 0, 1, 0, 0, 0, 0, 0, 0, 0, 0, 1, 0, 0, 0, 0, 0, 0, 0, 0, 0, 0, 0, 0, 0, 0, 0, 1, 1, 0, 0, 0, 1, 0, 0, 0, 0, 0, 1, 1, 1, 0, 0, 0, 0, 0, 0, 0, 1, 0, 0, 0, 0, 0, 0, 0, 0, 0, 0, 0, 0, 0, 0, 0, 0, 1, 0, 0, 1, 0, 0, 1, 0, 0, 0, 0, 0, 0, 0, 0, 0, 0, 0, 0, 0, 0, 0, 0, 0, 1, 0, 0, 0, 0, 0, 0, 0, 0, 0, 1, 0, 0, 0, 0, 0, 0, 1, 0, 0, 0, 0, 0, 1, 0, 1, 0, 0, 1, 0, 0, 0, 1, 1, 1, 0, 1, 0, 0, 0, 0, 0, 0, 0, 0, 0, 0, 0, 0, 0, 1, 0, 0, 0, 0, 0, 0, 0, 0, 0, 0, 0, 0, 0, 1, 0, 0, 0, 0, 0, 0, 1, 1, 0, 0, 0, 0, 0, 0, 0, 0, 0, 1, 0, 0, 1, 1, 1, 0, 0, 0, 0, 0, 0, 0, 0, 0, 0, 0, 0, 0, 0, 0, 1, 0, 0, 0, 0, 0, 0, 0, 0, 0, 0, 0, 0, 0, 0, 0, 0, 0, 0, 0, 1, 0, 0, 0, 0, 0, 0, 0, 0, 0, 0, 0, 0, 1, 0, 0, 1, 1, 0, 0, 1, 0, 0, 0, 0, 0, 0, 0, 0, 1, 0, 0, 0, 0, 0, 0, 0, 0, 0, 1, 0, 0, 0, 1, 0, 0, 0, 0, 0, 0, 0, 0, 0, 0, 0, 0, 0, 0, 1, 0, 0, 0, 0, 0, 0, 0, 1, 0, 1, 1, 0, 0, 0, 0, 0, 0, 0, 0, 1, 0, 1, 0, 0, 0, 0, 0, 0, 0, 0, 0, 0, 0, 0, 0, 1, 0, 0, 0, 0, 0, 1, 0, 0, 0, 0, 0, 0, 0, 0, 0, 0, 0, 0, 0, 0, 1, 0, 0, 0, 0, 1, 0, 0, 1, 0, 0, 0, 0, 1, 0, 0, 0, 0, 0, 0, 0, 0, 1, 0, 0, 0, 0, 0, 1, 0, 0, 1, 0, 0, 1, 1, 0, 0, 0, 0, 0, 0, 0, 1, 0, 0, 0, 0, 0, 0, 0, 0, 1, 0, 1, 0, 0, 0, 0, 0, 0, 0, 0, 0, 0, 0, 0, 0, 0, 0, 0, 0, 1, 0, 0, 0, 0, 1, 1, 0, 0, 0, 0, 0, 0, 0, 0, 1, 0, 0, 0, 0, 0, 0, 1, 0, 1, 0, 0, 1, 0, 1, 0, 0, 0, 0, 0, 0, 0, 0, 0, 0, 1, 0, 0, 0, 1, 0, 0, 0, 0, 0, 0, 0, 1, 0, 0, 0, 0, 1, 0, 0, 0, 0, 0, 0, 0, 0, 0, 0, 0, 0, 0, 0, 0, 0, 1, 0, 0, 0, 0, 0, 0, 0, 0, 0, 1, 0, 0, 0, 0, 0, 0, 0, 1, 0, 1, 0, 1, 0, 0, 0, 0, 1, 0, 1, 0, 0, 0, 0, 0, 0, 1, 0, 1, 0, 0, 0, 0, 0, 1, 1, 0, 1, 0, 0, 0, 0, 0, 0, 0, 0, 0, 1, 0, 0, 0, 0, 0, 0, 0, 0, 0, 0, 0, 0, 0, 0, 0, 0, 0, 1, 0, 0, 1, 0, 0, 0, 0, 1, 1, 0, 0, 0, 1, 0, 0, 0, 0, 0, 0, 0, 0, 0, 0, 0, 0, 0, 0, 0, 0, 0, 0, 0, 0, 0, 0, 0, 1, 0, 0, 0, 0, 0, 0, 0, 0, 0, 0, 1, 0, 0, 0, 0, 0, 0, 0, 0, 0, 0, 0, 0, 0, 0, 0, 0, 0, 0, 0, 0, 0, 0, 0, 1, 0, 0, 0, 0, 0, 0, 0, 0, 1, 0, 0, 0, 0, 0, 0, 1, 1, 0, 0, 1, 0, 0, 0, 0, 0, 0, 1, 0, 0, 0, 0, 0, 1, 0, 1, 0, 0, 0, 0, 1, 0, 0, 0, 0, 0, 1, 1, 0, 1, 0, 0, 0, 0, 0, 0, 0, 0, 0, 1, 0, 1, 0, 0, 0, 0, 0, 0, 0, 1, 0, 0, 1, 0, 1, 0, 0, 1, 0, 0, 0, 0, 0, 0, 0, 0, 0, 1, 0, 0, 0, 0, 0, 0, 0, 0, 0, 0, 0, 0, 0, 0, 0, 0, 0, 0, 0, 0, 0, 0, 0, 1, 0, 0, 0, 1, 0, 0, 0, 0, 0, 1, 0, 0, 0, 0, 1, 1, 0, 0, 0, 0, 0, 0, 0, 1, 0, 0, 0, 0, 0, 0, 0, 0, 0, 1, 0, 0, 0, 0, 0, 1, 0, 0, 0, 0, 0, 0, 0, 0, 0, 0, 0, 0, 0, 0, 0, 0, 0, 0, 0, 0, 0, 1, 0, 0, 0, 1, 0, 0, 0, 1, 0, 0, 0, 0, 0, 0, 1, 0, 0, 0, 1, 0, 0, 1, 0, 0, 1, 0, 0, 0, 0, 0, 0, 0, 0, 0, 0, 0, 0, 0, 0, 0, 0, 0, 0, 0, 0, 0, 0, 0, 0, 1, 1, 0, 0, 0, 0, 0, 0, 0, 1, 0, 1, 0, 0, 0, 0, 0, 1, 1, 0, 0, 0, 0, 0, 1, 0, 0, 0, 0, 0, 0, 1, 1, 0, 0, 1, 0, 0, 0, 0, 0, 0, 0, 0, 1, 0, 0, 0, 0, 0, 1, 0, 0, 1, 0, 0, 0, 0, 0, 0, 0, 0, 0, 0, 1, 0, 1, 0, 1, 0, 0, 0, 0, 0, 0, 0, 0, 0, 0, 1, 0, 0, 0, 0, 0, 0, 1, 0, 1, 1, 0, 1, 1, 0, 0, 0, 0, 0, 0, 0, 0, 0, 0, 0, 0, 1, 0, 0, 1, 0, 0, 1, 1, 0, 0, 0, 0, 0, 0, 1, 1, 1, 1, 0, 0, 0, 1, 1, 1, 0, 0, 0, 0, 1, 0, 0, 0, 0, 0, 0, 0, 0, 0, 0, 0, 0, 0, 0, 0, 0, 0, 0, 0, 0, 0, 0, 0, 0, 0, 0, 0, 0, 0, 0, 1, 1, 0, 0, 0, 0, 1, 0, 0, 0, 0, 0, 1, 0, 0, 0, 0, 0, 0, 0, 0, 1, 0, 0, 0, 0, 0, 0, 1, 1, 0, 0, 0, 0, 0, 0, 0, 0, 0, 0, 0, 0, 0, 1, 0, 0, 0, 0, 0, 0, 1, 0, 0, 0, 0, 0, 0, 0, 0, 0, 0, 0, 1, 0, 0, 1, 0, 1, 0, 0, 0, 0, 0, 1, 1, 0, 0, 0, 0, 0, 0, 1, 0, 1, 0, 0, 1, 0, 0, 0, 0, 0, 0, 0, 0, 0, 0, 0, 0, 0, 1, 1, 0, 0, 0, 0, 0, 0, 1, 1, 0, 0, 0, 0, 0, 0, 0, 0, 0, 0, 0, 1, 0, 0, 0, 0, 0, 0, 0, 0, 0, 1, 0, 0, 1, 0, 1, 0, 0, 1, 0, 0, 0, 1, 0, 0, 0, 0, 0, 0, 0, 0, 0, 0, 0, 0, 0, 0, 0, 0, 0, 1, 0, 0, 0, 0, 0, 0, 0, 0, 0, 1, 0, 0, 0, 0, 1, 1, 0, 0, 0, 0, 1, 0, 1, 0, 0, 0, 0, 0, 0, 0, 0, 1, 0, 0, 0, 1, 0, 1, 0, 1, 0, 0, 0, 0, 0, 0, 0, 0, 0, 0, 0, 0, 0, 0, 0, 0, 0, 0, 0, 1, 1, 0, 0, 0, 0, 0, 0, 0, 0, 0, 0, 0, 1, 1, 0, 0, 0, 0, 0, 0, 0, 1, 0, 0, 0, 0, 0, 0, 0, 0, 0, 0, 1, 0, 1, 0, 0, 0, 0, 0, 0, 0, 0, 0, 0, 1, 0, 1, 0, 0, 0, 0, 0, 0, 0, 0, 0, 1, 1, 1, 1, 0, 0, 0, 0, 0, 0, 0, 0, 0, 0, 0, 1, 0, 0, 1, 1, 0, 1, 0, 0, 0, 0, 0, 0, 0, 0, 0, 0, 0, 0, 0, 0, 0, 0, 0, 0, 0, 0, 0, 0, 1, 0, 1, 0, 0, 0, 0, 0, 0, 1, 0, 0, 0, 0, 0, 1, 0, 0, 0, 0, 0, 0, 0, 0, 1, 0, 0, 0, 0, 0, 0, 0, 0, 0, 0, 0, 1, 0, 1, 0, 0, 0, 0, 1, 1, 0, 0, 0, 0, 1, 0, 0, 0, 0, 0, 0, 1, 0, 0, 0, 0, 0, 0, 1, 0, 0, 0, 0, 0, 0, 1, 0, 0, 0, 0, 0, 0, 0, 0, 0, 1, 0, 0, 0, 0, 0, 0, 0, 0, 0, 0, 0, 0, 0, 0, 1, 0, 0, 0, 0, 0, 0, 0, 1, 0, 0, 0, 0, 0, 0, 0, 0, 1, 1, 0, 0, 0, 0, 0, 0, 0, 0, 0, 0, 0, 0, 1, 0, 0, 0, 0, 0, 0, 0, 0, 0, 0, 0, 1, 0, 0, 0, 0, 1, 0, 0, 1, 0, 0, 1, 0, 0, 1, 0, 1, 0, 0, 0, 1, 1, 0, 0, 0, 1, 0, 0, 0, 1, 0, 0, 0, 0, 0, 0, 0, 1, 0, 1, 0, 0, 0, 1, 0, 0, 0, 0, 0, 0, 0, 0, 0, 0, 1, 0, 1, 0, 0, 0, 0, 0, 0, 0, 0, 0, 0, 1, 0, 0, 1, 0, 0, 0, 0, 0, 0, 0, 0, 0, 0, 0, 0, 0, 0, 1, 0, 0, 0, 0, 0, 1, 0, 0, 0, 0, 0, 0, 0, 0, 0, 0, 0, 0, 0, 0, 0, 0, 0, 0, 1, 0, 0, 0, 1, 0, 0, 0, 1, 1, 1, 0, 0, 0, 0, 0, 0, 0, 0, 0, 0, 0, 0, 0, 0, 0, 0, 0, 0, 0, 0, 0, 0, 0, 1, 0, 0, 0, 0, 0, 0, 0, 1, 0, 0, 0, 1, 0, 0, 0, 0, 0, 0, 1, 0, 0, 0, 0, 0, 0, 1, 0, 0, 0, 0, 0, 0, 0, 0, 1, 0, 1, 0, 0, 1, 0, 1, 0, 0, 0, 0, 0, 0, 0, 0, 1, 0, 0, 0, 0, 1, 0, 0, 0, 1, 0, 0, 0, 0, 0, 1, 0, 0, 0, 1, 0, 0, 1, 0, 0, 0, 1, 0, 1, 0, 0, 0, 0, 1, 0, 0, 0, 0, 0, 1, 0, 0, 0, 0, 0, 1, 0, 0, 0, 0, 0, 0, 0, 0, 0, 1, 0, 0, 0, 0, 0, 0, 0, 0, 0, 0, 0, 0, 0, 0, 0, 0, 0, 1, 0, 0, 0, 0, 0, 0, 0, 1, 0, 0, 0, 0, 0, 1, 1, 0, 1, 0, 1, 0, 0, 0, 0, 0, 0, 0, 1, 0, 1, 1, 0, 0, 0, 0, 0, 0, 0, 1, 1, 0, 0, 0, 0, 0, 0, 0, 0, 0, 1, 1, 0, 0, 1, 0, 0, 0, 0, 0, 0, 0, 0, 0, 0, 0, 0, 0, 1, 0, 0, 0, 1, 0, 0, 0, 1, 0, 0, 0, 0, 0, 0, 0, 0, 1, 0, 0, 0, 0, 0, 1, 0, 0, 0, 0, 0, 0, 0, 1, 1, 0, 0, 1, 1, 0, 0, 0, 0, 0, 0, 0, 0, 0, 1, 0, 0, 0, 0, 0, 0, 0, 0, 0, 0, 0, 0, 0, 0, 0, 1, 0, 0, 0, 0, 0, 1, 0, 0, 0, 0, 0, 0, 0, 1, 0, 0, 0, 1, 0, 0, 0, 0, 0, 0, 0, 0, 0, 0, 1, 0, 0, 0, 0, 0, 0, 0, 0, 0, 0, 0, 0, 0, 0, 0, 0, 0, 0, 0, 0, 0, 0, 0, 0, 0, 0, 0, 0, 1, 0, 0, 0, 0, 1, 0, 0, 0, 0, 0, 0, 0, 1, 0, 0, 0, 0, 0, 1, 0, 1, 0, 0, 0, 0, 0, 0, 0, 0, 0, 0, 0, 0, 1, 0, 0, 0, 1, 0, 0, 0, 0, 0, 0, 0, 0, 0, 0, 0, 0, 0, 1, 0, 0, 0, 0, 0, 0, 1, 1, 1, 0, 0, 0, 0, 0, 0, 0, 0, 0, 0, 1, 1, 1, 0, 0, 0, 0, 0, 0, 0, 0, 0, 0, 0, 0, 0, 0, 0, 0, 1, 0, 0, 0, 0, 0, 0, 0, 0, 0, 0, 0, 0, 0, 0, 0, 0, 0, 0, 0, 0, 0, 0, 0, 0, 1, 0, 1, 0, 0, 0, 0, 1, 0, 1, 1, 0, 0, 0, 0, 0, 0, 0, 0, 0, 0, 0, 0, 0, 0, 0, 0, 0, 0, 0, 0, 1, 0, 0, 0, 0, 1, 0, 0, 0, 0, 0, 0, 1, 0, 0, 0, 0, 0, 0, 0, 0, 0, 0, 1, 0, 1, 0, 0, 0, 0, 1, 0, 0, 1, 0, 1, 0, 1, 0, 0, 0, 0, 0, 0, 0, 0, 0, 0, 0, 0, 0, 0, 0, 0, 0, 1, 0, 0, 0, 0, 0, 0, 0, 0, 0, 1, 0, 0, 0, 0, 0, 0, 0, 0, 1, 0, 1, 1, 1, 0, 1, 0, 0, 1, 0, 1, 0, 0, 1, 0, 0, 1, 0, 0, 0, 0, 0, 1, 0, 0, 0, 0, 0, 0, 0, 0, 0, 0, 0, 0, 1, 0, 0, 0, 1, 1, 0, 1, 0, 0, 0, 0, 0, 0, 1, 0, 0, 0, 0, 0, 1, 0, 1, 0, 0, 0, 0, 0, 0, 0, 1, 0, 1, 0, 0, 0, 0, 0, 0, 0, 0, 0, 0, 0, 0, 0, 0, 0, 0, 0, 0, 0, 0, 0, 1, 0, 0, 0, 0, 0, 0, 0, 0, 0, 0, 0, 0, 0, 0, 0, 0, 0, 0, 0, 0, 0, 0, 1, 0, 0, 0, 0, 0, 0, 0, 0, 0, 0, 0, 0, 0, 0, 0, 0, 0, 0, 1, 1, 0, 0, 0, 0, 0, 0, 0, 0, 0, 1, 0, 0, 1, 0, 1, 1, 0, 0, 0, 0, 0, 0, 0, 0, 0, 0, 1, 0, 1, 0, 0, 0, 0, 0, 0, 0, 0, 0, 1, 1, 0, 0, 0, 0, 0, 0, 1, 0, 0, 1, 0, 0, 0, 0, 0, 0, 0, 0, 0, 0, 0, 0, 0, 0, 0, 0, 0, 0, 1, 0, 0, 0, 0, 0, 0, 0, 0, 0, 0, 0, 0, 0, 0, 0, 0, 1, 0, 1, 0, 0, 1, 0, 0, 0, 0, 0, 0, 0, 0, 0, 0, 0, 0, 0, 1, 0, 0, 1, 0, 0, 1, 0, 0, 0, 1, 0, 0, 0, 0, 0, 0, 0, 0, 1, 1, 0, 0, 0, 0, 0, 0, 0, 1, 0, 1, 0, 0, 1, 0, 0, 1, 0, 0, 1, 0, 1, 0, 0, 0, 0, 0, 0, 0, 0, 0, 0, 0, 0, 0, 0, 0, 0, 0, 0, 0, 0, 1, 0, 1, 0, 0, 0, 1, 0, 0, 0, 0, 0, 1, 1, 0, 1, 0, 0, 0, 0, 1, 0, 0, 0, 0, 0, 0, 1, 0, 0, 1, 0, 0, 0, 0, 0, 1, 1, 0, 0, 0, 0, 0, 0, 0, 0, 0, 0, 0, 1, 0, 1, 0, 0, 0, 1, 0, 0, 0, 0, 0, 0, 0, 0, 0, 0, 0, 0, 0, 0, 0, 0, 0, 0, 0, 0, 0, 0, 1, 0, 0, 0, 0, 0, 0, 1, 0, 0, 0, 1, 0, 0, 0, 0, 0, 0, 0, 0, 0, 0, 0, 0, 0, 0, 0, 1, 1, 0, 0, 1, 1, 1, 0, 0, 0, 0, 0, 0, 0, 0, 0, 0, 0, 0, 0, 0, 0, 1, 1, 0, 0, 0, 0, 0, 0, 1, 1, 0, 0, 0, 0, 0, 0, 0, 0, 0, 0, 1, 0, 0, 0, 0, 0, 0, 1, 0, 0, 0, 0, 0, 0, 1, 0, 1, 1, 0, 0, 0, 0, 0, 0, 1, 0, 1, 0, 0, 1, 1, 0, 0, 0, 0, 0, 0, 0, 0, 0, 0, 0, 0, 0, 0, 0, 1, 1, 0, 1, 1, 0, 0, 0, 0, 0, 0, 0, 0, 0, 0, 0, 1, 0, 1, 0, 0, 0, 0, 0, 0, 0, 0, 0, 0, 0, 0, 0, 0, 0, 0, 0, 0, 0, 1, 0, 0, 0, 0, 0, 1, 0, 0, 1, 0, 0, 1, 1, 1, 1, 0, 1, 0, 0, 0, 0, 0, 0, 0, 0, 0, 0, 0, 1, 1, 0, 0, 0, 1, 0, 0, 0, 0, 0, 0, 1, 0, 0, 0, 0, 0, 1, 0, 0, 0, 1, 0, 0, 0, 0, 1, 0, 0, 0, 1, 0, 0, 0, 1, 0, 0, 0, 1, 0, 0, 0, 0, 0, 0, 0, 0, 1, 0, 0, 1, 0, 0, 0, 0, 0, 0, 1, 0, 0, 0, 0, 0, 0, 0, 0, 0, 0, 0, 0, 0, 1, 0, 0, 1, 1, 0, 0, 0, 1, 0, 0, 0, 0, 0, 0, 0, 0, 1, 1, 0, 0, 0, 1, 0, 1, 1, 0, 0, 0, 0, 0, 0, 0, 1, 0, 0, 0, 0, 0, 0, 0, 0, 0, 0, 0, 1, 0, 0, 0, 0, 0, 1, 0, 0, 0, 0, 0, 1, 0, 0, 0, 0, 0, 0, 1, 0, 0, 0, 0, 0, 0, 0, 0, 0, 0, 0, 1, 0, 1, 0, 1, 0, 0, 0, 0, 0, 0, 0, 1, 0, 1, 0, 0, 0, 0, 0, 0, 0, 1, 1, 0, 0, 1, 0, 0, 0, 0, 0, 0, 0, 0, 0, 0, 1, 0, 0, 0, 0, 0, 0, 0, 0, 1, 0, 0, 0, 0, 0, 0, 1, 0, 0, 0, 0, 1, 0, 0, 0, 0, 0, 0, 1, 0, 1, 0, 0, 0, 0, 0, 1, 1, 0, 0, 0, 0, 1, 1, 1, 0, 0, 0, 0, 0, 1, 0, 0, 0, 0, 0, 0, 0, 0, 0, 0, 0, 0, 0, 0, 0, 0, 1, 0, 0, 1, 1, 0, 0, 0, 0, 0, 0, 0, 1, 1, 0, 0, 0, 1, 0, 0, 0, 0, 0, 0, 1, 0, 0, 0, 0, 0, 0, 0, 0, 0, 0, 0, 0, 0, 0, 0, 0, 0, 0, 1, 0, 0, 0, 0, 0, 0, 0, 0, 0, 1, 0, 1, 0, 0, 0, 0, 0, 0, 0, 1, 0, 0, 0, 0, 0, 0, 0, 0, 1, 0, 0, 0, 0, 0, 0, 0, 0, 0, 1, 1, 1, 0, 0, 0, 1, 0, 1, 0, 0, 0, 0, 0, 0, 0, 0, 0, 0, 0, 0, 0, 0, 1, 0, 0, 0, 0, 1, 0, 1, 0, 0, 0, 0, 0, 0, 0, 1, 0, 0, 0, 0, 1, 0, 0, 0, 0, 0, 1, 0, 0, 0, 0, 0, 0, 0, 0, 0, 0, 0, 0, 0, 0, 1, 0, 0, 0, 0, 1, 0, 0, 0, 0, 1, 0, 0, 1, 0, 0, 0, 0, 0, 0, 0, 1, 0, 0, 0, 0, 0, 0, 1, 0, 0, 1, 0, 0, 0, 0, 1, 0, 1, 0, 0, 0, 0, 1, 0, 0, 0, 0, 0, 0, 0, 0, 1, 1, 0, 0, 0, 1, 1, 0, 1, 0, 1, 0, 0, 0, 0, 0, 0, 0, 1, 0, 0, 0, 0, 0, 0, 0, 0, 0, 0, 1, 0, 0, 0, 0, 0, 0, 0, 0, 0, 0, 0, 1, 0, 0, 0, 0, 0, 0, 1, 1, 0, 0, 0, 1, 0, 1, 0, 0, 1, 1, 0, 1, 1, 0, 1, 0, 0, 0, 0, 0, 0, 0, 0, 0, 0, 0, 1, 0, 1, 0, 0, 0, 0, 1, 0, 0, 1, 1, 0, 0, 0, 0, 0, 0, 0, 0, 0, 0, 0, 0, 0, 0, 0, 0, 0, 0, 0, 0, 0, 0, 0, 0, 0, 1, 0, 0, 0, 0, 0, 0, 0, 0, 0, 1, 1, 0, 0, 1, 0, 0, 1, 0, 0, 0, 0, 0, 0, 0, 0, 0, 1, 0, 0, 0, 0, 0, 0, 0, 0, 0, 0, 0, 0, 0, 1, 0, 1, 0, 0, 1, 0, 0, 0, 0, 0, 0, 0, 0, 0, 0, 1, 0, 0, 0, 0, 0, 0, 1, 0, 0, 1, 0, 0, 0, 0, 1, 0, 0, 1, 0, 0, 0, 1, 0, 0, 0, 0, 0, 0, 0, 0, 0, 0, 1, 1, 0, 1, 0, 0, 0, 0, 0, 0, 0, 1, 0, 0, 0, 0, 0, 0, 1, 0, 0, 0, 1, 1, 0, 1, 0, 1, 0, 0, 1, 0, 0, 0, 0, 0, 0, 0, 1, 0, 0, 0, 0, 0, 0, 0, 0, 0, 0, 0, 0, 0, 0, 0, 1, 0, 0, 0, 0, 0, 0, 0, 0, 0, 0, 0, 1, 0, 1, 0, 0, 1, 0, 0, 0, 0, 0, 0, 0, 1, 0, 0, 0, 0, 0, 0, 1, 0, 1, 0, 0, 0, 1, 0, 0, 0, 0, 0, 0, 0, 0, 0, 0, 0, 0, 1, 0, 0, 0, 1, 0, 0, 0, 0, 0, 0, 0, 0, 0, 0, 0, 0, 0, 0, 0, 1, 0, 0, 0, 0, 1, 0, 0, 0, 0, 0, 0, 0, 0, 0, 0, 0, 0, 0, 0, 0, 1, 0, 0, 0, 0, 0, 0, 0, 0, 0, 0, 0, 0, 1, 1, 0, 0, 0, 0, 0, 0, 0, 0, 0, 0, 0, 0, 1, 0, 1, 0, 0, 0, 0, 0, 0, 0, 0, 0, 1, 0, 0, 0, 0, 0, 0, 0, 0, 0, 0, 0, 1, 0, 0, 0, 0, 1, 0, 0, 0, 0, 0, 0, 0, 0, 0, 0, 1, 0, 0, 1, 0, 1, 0, 0, 0, 0, 0, 0, 0, 0, 0, 0, 0, 1, 0, 0, 0, 0, 0, 0, 0, 0, 0, 0, 1, 0, 0, 0, 1, 0, 0, 0, 0, 1, 0, 0, 0, 0, 0, 0, 0, 0, 0, 0, 0, 1, 0, 0, 0, 0, 0, 0, 0, 0, 0, 0, 1, 0, 0, 0, 0, 0, 0, 0, 0, 0, 0, 0, 1, 0, 0, 0, 0, 0, 0, 0, 0, 0, 0, 1, 0, 0, 0, 0, 0, 0, 0, 0, 0, 0, 0, 0, 0, 0, 1, 0, 0, 0, 0, 0, 0, 1, 1, 1, 0, 0, 1, 1, 0, 0, 0, 0, 0, 1, 1, 0, 0, 1, 0, 0, 0, 0, 0, 0, 0, 0, 0, 0, 0, 0, 0, 0, 1, 0, 1, 0, 0, 0, 0, 1, 0, 1, 0, 0, 0, 0, 0, 0, 0, 0, 0, 1, 0, 0, 0, 0, 0, 0, 0, 0, 0, 0, 0, 0, 1, 0, 0, 0, 1, 0, 0, 0, 0, 0, 0, 0, 0, 0, 1, 0, 0, 0, 0, 1, 0, 1, 0, 0, 0, 0, 1, 0, 0, 1, 0, 1, 0, 0, 0, 0, 0, 0, 0, 0, 0, 0, 0, 0, 1, 0, 1, 0, 0, 0, 0, 0, 0, 1, 0, 0, 0, 0, 0, 0, 0, 0, 0, 0, 0, 0, 0, 0, 0, 0, 0, 0, 0, 0, 0, 1, 0, 0, 0, 0, 0, 0, 0, 1, 0, 0, 0, 0, 0, 0, 0, 0, 1, 0, 0, 1, 0, 0, 0, 0, 0, 0, 1, 0, 0, 0, 0, 0, 0, 0, 0, 0, 1, 0, 0, 0, 0, 0, 1, 0, 0, 1, 0, 0, 0, 0, 0, 0, 0, 0, 0, 0, 0, 0, 1, 1, 0, 0, 0, 0, 0, 1, 0, 0, 0, 1, 1, 0, 0, 0, 0, 0, 0, 0, 0, 0, 0, 0, 0, 0, 0, 0, 0, 0, 0, 0, 1, 1, 1, 0, 0, 0, 0, 1, 0, 0, 0, 0, 1, 1, 0, 0, 0, 1, 1, 0, 0, 0, 0, 0, 0, 0, 1, 0, 0, 0, 0, 0, 0, 0, 0, 0, 0, 0, 0, 0, 0, 0, 0, 0, 1, 0, 0, 0, 0, 0, 0, 0, 0, 0, 0, 1, 0, 0, 0, 0, 0, 0, 0, 0, 0, 0, 0, 0, 1, 0, 0, 0, 0, 0, 0, 0, 0, 0, 0, 0, 0, 1, 0, 0, 0, 0, 0, 1, 0, 0, 1, 0, 1, 0, 0, 0, 1, 0, 0, 0, 0, 0, 0, 0, 0, 1, 0, 0, 0, 0, 0, 0, 0, 0, 1, 0, 0, 1, 0, 0, 1, 0, 0, 0, 0, 0, 0, 0, 0, 1, 0, 0, 0, 1, 0, 0, 0, 0, 0, 1, 0, 0, 0, 0, 0, 0, 0, 0, 0, 0, 0, 0, 0, 1, 0, 0, 0, 0, 0, 1, 0, 0, 1, 0, 0, 0, 1, 0, 0, 0, 0, 0, 1, 0, 1, 0, 0, 1, 0, 0, 0, 0, 0, 1, 0, 0, 0, 0, 0, 0, 0, 0, 0, 0, 0, 1, 1, 1, 0, 1, 0, 0, 1, 0, 0, 0, 0, 0, 0, 0, 0, 0, 0, 0, 1, 0, 0, 0, 0, 0, 0, 0, 0, 0, 0, 1, 0, 0, 0, 0, 0, 0, 0, 0, 0, 0, 0, 0, 0, 0, 0, 0, 0, 1, 0, 0, 0, 0, 1, 0, 1, 0, 0, 0, 0, 0, 1, 1, 0, 0, 0, 0, 0, 0, 0, 0, 0, 0, 0, 0, 0, 0, 1, 0, 1, 0, 1, 0, 0, 1, 0, 0, 0, 0, 0, 0, 1, 0, 0, 0, 1, 0, 1, 0, 0, 0, 1, 0, 0, 0, 0]}, {\"name\": \"tenure\", \"type\": \"box\", \"y\": [72, 25, 25, 2, 63, 71, 71, 3, 3, 3, 1, 35, 46, 68, 69, 26, 39, 69, 50, 45, 4, 1, 13, 13, 18, 59, 51, 66, 66, 72, 37, 8, 68, 21, 53, 1, 70, 13, 38, 45, 58, 3, 8, 18, 20, 23, 17, 68, 55, 17, 57, 65, 33, 70, 47, 13, 6, 57, 1, 51, 1, 7, 25, 26, 30, 48, 68, 36, 72, 15, 2, 10, 2, 4, 72, 1, 58, 3, 71, 10, 1, 4, 58, 7, 47, 32, 18, 52, 32, 53, 41, 20, 3, 58, 62, 34, 3, 24, 33, 14, 53, 67, 67, 72, 14, 35, 56, 10, 40, 52, 56, 52, 3, 44, 44, 40, 70, 15, 26, 58, 49, 7, 39, 3, 8, 1, 30, 46, 38, 17, 2, 68, 48, 36, 23, 5, 47, 29, 24, 6, 67, 60, 19, 42, 3, 12, 18, 70, 71, 37, 43, 31, 1, 5, 71, 15, 2, 13, 1, 15, 71, 68, 31, 64, 49, 61, 72, 44, 1, 72, 1, 35, 9, 20, 61, 14, 29, 7, 2, 71, 7, 60, 40, 25, 17, 67, 7, 52, 41, 64, 71, 27, 55, 45, 56, 2, 25, 48, 41, 39, 62, 34, 35, 5, 25, 42, 12, 72, 19, 4, 4, 56, 54, 18, 72, 1, 72, 10, 12, 67, 63, 30, 58, 5, 19, 44, 3, 51, 72, 65, 2, 68, 16, 48, 4, 3, 4, 61, 12, 7, 2, 18, 14, 15, 55, 4, 38, 20, 41, 1, 22, 13, 56, 7, 46, 14, 8, 68, 1, 33, 59, 10, 1, 37, 12, 10, 22, 1, 25, 25, 15, 65, 1, 2, 54, 3, 12, 72, 17, 2, 46, 55, 38, 1, 22, 70, 33, 69, 56, 8, 43, 20, 51, 72, 26, 35, 39, 60, 1, 1, 44, 1, 22, 14, 10, 36, 24, 23, 58, 50, 62, 22, 4, 15, 63, 36, 59, 25, 41, 3, 51, 31, 1, 40, 24, 64, 14, 61, 3, 71, 64, 29, 22, 3, 17, 32, 58, 3, 45, 22, 1, 16, 1, 51, 72, 31, 52, 29, 42, 36, 21, 13, 15, 48, 69, 21, 27, 67, 72, 71, 34, 10, 53, 42, 19, 51, 2, 27, 4, 53, 70, 9, 56, 47, 1, 13, 34, 10, 37, 5, 66, 2, 54, 72, 21, 72, 61, 3, 4, 27, 5, 11, 67, 5, 51, 71, 23, 35, 9, 26, 3, 15, 7, 10, 72, 12, 10, 5, 1, 16, 50, 36, 1, 39, 25, 33, 18, 36, 45, 24, 51, 30, 20, 41, 56, 50, 10, 24, 4, 43, 4, 46, 31, 64, 66, 25, 2, 42, 1, 11, 64, 3, 37, 2, 33, 22, 71, 19, 65, 10, 16, 1, 62, 60, 69, 10, 58, 11, 7, 21, 4, 60, 36, 72, 10, 15, 1, 1, 10, 35, 71, 64, 35, 17, 69, 22, 1, 72, 48, 28, 41, 5, 32, 60, 7, 11, 4, 27, 45, 5, 58, 62, 40, 32, 1, 21, 72, 1, 63, 34, 36, 42, 72, 39, 47, 42, 13, 68, 53, 52, 64, 40, 7, 7, 37, 34, 38, 69, 1, 6, 50, 53, 20, 69, 15, 20, 7, 6, 41, 65, 14, 72, 12, 1, 72, 50, 3, 22, 5, 8, 1, 13, 71, 32, 71, 19, 25, 71, 35, 35, 30, 2, 62, 1, 64, 7, 13, 64, 13, 48, 61, 2, 1, 53, 25, 13, 29, 47, 42, 35, 14, 1, 5, 14, 71, 64, 14, 2, 2, 8, 15, 70, 71, 11, 1, 64, 72, 67, 6, 52, 72, 69, 13, 1, 3, 54, 47, 60, 30, 58, 51, 11, 22, 1, 10, 32, 35, 72, 12, 3, 20, 41, 71, 6, 70, 25, 13, 4, 1, 20, 57, 59, 5, 9, 71, 20, 13, 25, 18, 50, 38, 15, 17, 71, 66, 72, 8, 49, 70, 25, 45, 72, 68, 55, 14, 23, 14, 49, 49, 27, 13, 51, 65, 21, 59, 4, 29, 69, 1, 10, 19, 62, 12, 27, 58, 50, 12, 1, 48, 22, 65, 27, 72, 18, 21, 40, 3, 72, 10, 3, 63, 32, 5, 65, 66, 4, 55, 41, 21, 71, 39, 47, 70, 2, 8, 6, 70, 22, 38, 36, 6, 3, 1, 40, 12, 17, 45, 12, 54, 68, 39, 72, 8, 2, 30, 46, 1, 32, 10, 12, 2, 19, 41, 66, 32, 22, 37, 43, 1, 1, 70, 67, 72, 24, 2, 51, 9, 12, 36, 61, 61, 10, 5, 55, 19, 68, 21, 4, 50, 72, 1, 2, 2, 24, 70, 9, 47, 36, 15, 25, 65, 71, 52, 10, 69, 1, 2, 2, 1, 13, 46, 1, 5, 1, 33, 14, 58, 25, 72, 26, 20, 11, 28, 1, 72, 71, 24, 13, 31, 15, 4, 3, 37, 2, 14, 10, 16, 12, 1, 1, 1, 1, 1, 64, 58, 8, 25, 2, 58, 31, 7, 22, 15, 6, 21, 60, 43, 33, 1, 45, 2, 17, 72, 16, 42, 1, 3, 64, 41, 67, 67, 62, 18, 3, 68, 66, 2, 70, 32, 50, 3, 8, 1, 57, 72, 22, 19, 4, 5, 10, 12, 61, 26, 34, 5, 27, 6, 29, 12, 13, 43, 31, 71, 66, 65, 22, 66, 72, 1, 54, 71, 2, 38, 16, 49, 1, 71, 72, 71, 49, 72, 9, 1, 72, 3, 48, 47, 58, 69, 9, 70, 62, 57, 21, 70, 29, 11, 41, 72, 3, 1, 63, 66, 2, 1, 4, 65, 54, 4, 1, 35, 31, 2, 28, 34, 38, 72, 67, 50, 57, 46, 12, 47, 9, 9, 71, 30, 62, 45, 8, 68, 2, 60, 53, 1, 1, 35, 67, 38, 72, 62, 12, 64, 48, 63, 67, 1, 60, 39, 62, 3, 2, 61, 52, 71, 3, 61, 63, 12, 23, 61, 2, 2, 22, 26, 47, 29, 1, 56, 12, 47, 60, 1, 1, 57, 3, 72, 1, 19, 1, 36, 66, 16, 5, 29, 1, 47, 56, 56, 65, 67, 30, 58, 25, 55, 15, 72, 40, 3, 17, 59, 1, 38, 53, 69, 60, 24, 4, 72, 71, 50, 48, 17, 64, 46, 5, 31, 37, 40, 61, 1, 31, 1, 72, 71, 10, 31, 62, 15, 47, 4, 72, 33, 54, 1, 41, 35, 42, 47, 1, 2, 66, 28, 31, 12, 72, 9, 7, 1, 59, 24, 9, 4, 54, 11, 67, 44, 3, 22, 38, 21, 25, 12, 67, 2, 71, 26, 61, 1, 1, 1, 56, 48, 18, 3, 27, 59, 50, 72, 1, 49, 67, 16, 23, 62, 8, 67, 32, 34, 5, 15, 64, 58, 69, 63, 42, 37, 72, 28, 23, 61, 4, 72, 1, 16, 8, 44, 4, 24, 24, 35, 12, 19, 1, 1, 1, 29, 29, 66, 56, 2, 1, 17, 20, 49, 50, 55, 68, 13, 5, 1, 4, 8, 66, 33, 14, 18, 54, 15, 71, 27, 11, 1, 24, 70, 1, 4, 17, 50, 1, 54, 5, 24, 4, 18, 54, 67, 2, 18, 25, 2, 26, 39, 3, 61, 60, 72, 2, 5, 19, 30, 72, 17, 10, 72, 36, 12, 71, 6, 67, 52, 64, 60, 8, 35, 61, 22, 44, 71, 15, 27, 14, 9, 72, 41, 16, 25, 7, 4, 1, 1, 17, 67, 28, 3, 56, 3, 2, 70, 6, 24, 23, 66, 55, 57, 42, 22, 53, 16, 10, 2, 56, 4, 39, 66, 9, 5, 1, 65, 2, 17, 2, 70, 3, 47, 3, 35, 42, 70, 8, 34, 3, 72, 17, 3, 67, 65, 60, 39, 6, 44, 15, 9, 47, 68, 4, 33, 1, 51, 11, 13, 2, 45, 37, 72, 6, 3, 65, 23, 65, 2, 2, 2, 8, 14, 33, 1, 4, 3, 1, 29, 3, 1, 10, 54, 16, 46, 8, 30, 72, 42, 1, 9, 37, 6, 1, 71, 7, 37, 46, 48, 57, 2, 44, 28, 1, 35, 55, 72, 64, 64, 11, 12, 1, 53, 70, 1, 1, 17, 46, 5, 26, 23, 16, 35, 1, 45, 49, 63, 1, 1, 41, 53, 56, 71, 1, 49, 2, 50, 49, 71, 19, 70, 72, 32, 72, 1, 10, 2, 62, 57, 1, 29, 62, 48, 4, 24, 2, 0, 70, 3, 26, 21, 35, 59, 26, 5, 64, 70, 11, 1, 1, 1, 45, 20, 62, 69, 68, 2, 1, 3, 3, 72, 24, 2, 7, 27, 72, 15, 71, 64, 41, 8, 1, 68, 60, 1, 2, 72, 29, 67, 17, 18, 61, 18, 35, 18, 35, 51, 13, 32, 50, 24, 13, 9, 62, 57, 30, 40, 4, 4, 62, 33, 1, 21, 41, 17, 41, 69, 72, 39, 4, 12, 1, 7, 41, 28, 4, 9, 8, 66, 72, 34, 26, 30, 49, 21, 51, 54, 71, 72, 62, 69, 59, 13, 29, 40, 1, 52, 65, 17, 6, 37, 16, 72, 1, 12, 6, 23, 23, 71, 62, 55, 1, 29, 64, 33, 21, 1, 30, 1, 5, 15, 15, 5, 13, 57, 55, 15, 1, 49, 34, 67, 50, 71, 30, 51, 47, 6, 37, 7, 4, 48, 46, 54, 36, 71, 44, 59, 7, 62, 52, 72, 31, 1, 1, 56, 1, 65, 1, 68, 6, 19, 1, 9, 31, 47, 15, 33, 59, 3, 41, 4, 2, 4, 2, 19, 1, 2, 5, 35, 5, 44, 67, 69, 70, 33, 43, 16, 69, 72, 53, 58, 1, 2, 72, 19, 59, 8, 12, 28, 35, 65, 8, 43, 19, 17, 51, 42, 17, 11, 52, 3, 53, 4, 1, 72, 37, 70, 68, 38, 72, 2, 2, 2, 26, 9, 24, 56, 67, 65, 29, 2, 50, 17, 49, 11, 9, 1, 9, 72, 23, 16, 42, 14, 1, 51, 1, 9, 18, 11, 63, 52, 38, 58, 2, 69, 15, 63, 10, 1, 60, 25, 61, 4, 70, 71, 61, 2, 64, 47, 7, 65, 67, 8, 1, 10, 1, 5, 72, 3, 20, 1, 1, 10, 68, 1, 6, 7, 1, 1, 71, 4, 39, 23, 37, 23, 72, 11, 45, 3, 37, 20, 69, 16, 22, 2, 13, 48, 4, 72, 34, 7, 19, 56, 41, 34, 26, 2, 1, 71, 25, 49, 43, 66, 72, 1, 33, 22, 44, 38, 71, 54, 50, 14, 2, 38, 72, 11, 42, 51, 61, 20, 33, 70, 20, 10, 9, 19, 2, 0, 55, 68, 39, 9, 72, 50, 62, 4, 48, 28, 37, 61, 32, 3, 48, 72, 3, 64, 72, 24, 1, 65, 58, 1, 57, 72, 4, 54, 22, 32, 54, 53, 65, 3, 72, 70, 13, 1, 3, 28, 3, 41, 61, 3, 18, 1, 72, 72, 60, 72, 1, 9, 1, 7, 6, 72, 68, 1, 1, 27, 13, 58, 1, 15, 72, 33, 24, 27, 52, 68, 1, 5, 8, 2, 26, 24, 49, 24, 1, 4, 1, 22, 54, 52, 42, 56, 68, 2, 1, 1, 4, 6, 59, 5, 10, 1, 36, 58, 4, 23, 70, 18, 70, 22, 42, 6, 44, 52, 61, 63, 4, 39, 56, 10, 8, 68, 13, 7, 55, 8, 53, 1, 31, 6, 53, 1, 71, 38, 72, 71, 60, 56, 39, 1, 71, 8, 4, 28, 55, 18, 3, 68, 43, 53, 38, 46, 2, 2, 54, 1, 68, 33, 37, 2, 44, 69, 8, 38, 50, 12, 27, 21, 30, 13, 3, 16, 31, 11, 29, 55, 20, 32, 6, 56, 55, 56, 37, 4, 39, 56, 20, 4, 4, 67, 58, 71, 3, 66, 53, 2, 51, 52, 28, 15, 43, 16, 2, 4, 16, 3, 19, 21, 13, 72, 11, 72, 10, 11, 56, 1, 2, 11, 19, 3, 29, 42, 15, 56, 59, 65, 69, 2, 60, 51, 58, 38, 62, 24, 63, 57, 55, 71, 44, 11, 18, 11, 5, 72, 71, 72, 62, 72, 13, 54, 41, 30, 25, 45, 70, 10, 64, 4, 43, 26, 14, 67, 70, 29, 25, 72, 52, 2, 72, 19, 27, 4, 31, 28, 1, 26, 69, 8, 62, 38, 36, 62, 67, 13, 5, 19, 24, 12, 55, 59, 16, 38, 4, 18, 1, 72, 50, 65, 19, 60, 6, 69, 59, 72, 30, 6, 12, 1, 72, 9, 58, 13, 11, 23, 1, 18, 22, 45, 40, 60, 31, 52, 24, 72, 11, 3, 61, 60, 42, 1, 54, 8, 16, 37, 5, 13, 42, 69, 50, 44, 52, 3, 1, 62, 50, 14, 40, 2, 8, 47, 69, 2, 10, 45, 16, 1, 5, 16, 52, 4, 2, 56, 64, 21, 2, 41, 17, 30, 1, 35, 23, 45, 32, 10, 26, 45, 56, 17, 27, 6, 45, 53, 9, 11, 63, 10, 26, 4, 71, 36, 23, 40, 3, 71, 46, 25, 52, 57, 68, 2, 51, 14, 34, 72, 67, 1, 66, 56, 59, 1, 57, 58, 55, 38, 34, 66, 53, 4, 65, 57, 67, 52, 67, 35, 63, 66, 46, 3, 61, 4, 16, 33, 66, 4, 8, 1, 33, 43, 41, 71, 1, 32, 34, 41, 7, 72, 2, 7, 24, 55, 9, 4, 10, 6, 69, 49, 38, 5, 26, 34, 1, 2, 9, 11, 61, 25, 56, 34, 1, 8, 72, 8, 8, 70, 56, 68, 51, 61, 56, 71, 21, 71, 7, 4, 21, 27, 63, 56, 2, 31, 2, 64, 69, 20, 20, 32, 7, 46, 26, 3, 16, 72, 57, 4, 67, 62, 7, 71, 64, 66, 71, 42, 28, 18, 32, 46, 7, 9, 30, 37, 1, 28, 54, 49, 2, 20, 22, 67, 30, 49, 1, 63, 28, 2, 71, 50, 4, 61, 15, 33, 33, 29, 6, 1, 6, 13, 35, 7, 18, 27, 31, 43, 26, 71, 1, 71, 13, 40, 2, 8, 63, 7, 1, 5, 20, 58, 72, 67, 27, 17, 5, 7, 8, 2, 1, 36, 71, 12, 60, 50, 68, 61, 67, 16, 2, 3, 8, 66, 56, 7, 57, 7, 29, 53, 1, 20, 26, 6, 41, 71, 53, 12, 72, 65, 9, 60, 72, 31, 30, 11, 60, 2, 24, 21, 38, 66, 12, 26, 2, 38, 37, 16, 22, 70, 3, 72, 71, 1, 34, 29, 17, 57, 1, 71, 17, 68, 10, 10, 52, 36, 46, 62, 51, 55, 42, 24, 4, 23, 39, 41, 46, 55, 60, 39, 11, 1, 44, 61, 65, 1, 66, 33, 8, 21, 15, 72, 11, 31, 18, 5, 13, 23, 4, 48, 21, 42, 1, 69, 55, 51, 25, 15, 33, 6, 17, 33, 56, 72, 1, 68, 1, 10, 23, 69, 45, 59, 28, 30, 1, 28, 3, 72, 72, 7, 9, 50, 16, 45, 67, 1, 2, 1, 51, 1, 35, 12, 12, 69, 19, 5, 71, 62, 3, 21, 72, 26, 40, 47, 66, 64, 35, 71, 67, 71, 1, 55, 28, 5, 10, 9, 43, 15, 71, 1, 59, 39, 17, 45, 68, 1, 1, 17, 62, 20, 47, 49, 69, 28, 53, 49, 16, 50, 67, 49, 18, 45, 20, 60, 52, 72, 46, 70, 51, 28, 63, 17, 0, 23, 1, 15, 9, 66, 69, 72, 60, 70, 13, 2, 1, 55, 10, 1, 17, 18, 8, 1, 13, 14, 15, 13, 4, 6, 11, 35, 1, 25, 3, 22, 72, 26, 1, 53, 38, 1, 67, 71, 23, 36, 17, 72, 1, 60, 10, 27, 50, 7, 1, 1, 54, 25, 26, 12, 33, 9, 3, 38, 1, 62, 1, 23, 3, 64, 71, 2, 64, 1, 5, 5, 37, 65, 19, 9, 2, 72, 45, 13, 57, 48, 2, 72, 61, 56, 14, 1, 31, 5, 4, 72, 27, 57, 6, 9, 62, 1, 51, 2, 2, 64, 68, 38, 44, 9, 70, 34, 72, 49, 61, 70, 30, 8, 68, 35, 72, 29, 54, 3, 58, 7, 65, 9, 55, 4, 4, 61, 1, 4, 72, 23, 67, 56, 63, 72, 9, 25, 71, 6, 22, 12, 5, 1, 55, 24, 69, 47, 3, 41, 6, 1, 3, 54, 26, 71, 7, 46, 53, 4, 5, 53, 45, 51, 2, 64, 22, 58, 2, 7, 70, 23, 23, 16, 52, 31, 59, 67, 13, 1, 43, 63, 2, 15, 10, 11, 12, 4, 28, 69, 40, 72, 50, 18, 22, 2, 25, 71, 47, 1, 66, 52, 1, 12, 62, 50, 13, 7, 21, 56, 9, 29, 18, 9, 15, 37, 59, 18, 41, 1, 3, 27, 43, 35, 16, 4, 68, 27, 34, 1, 45, 54, 16, 41, 31, 5, 32, 41, 59, 61, 1, 45, 4, 4, 59, 10, 72, 48, 41, 54, 43, 4, 63, 48, 14, 33, 71, 67, 31, 17, 13, 70, 60, 21, 51, 50, 19, 63, 63, 5, 1, 25, 61, 15, 8, 1, 71, 22, 2, 24, 62, 8, 8, 9, 71, 68, 15, 71, 24, 52, 11, 4, 1, 68, 10, 1, 69, 43, 64, 70, 1, 68, 5, 68, 59, 46, 47, 2, 29, 53, 47, 35, 1, 72, 7, 1, 6, 22, 7, 5, 47, 35, 15, 2, 57, 23, 18, 29, 41, 49, 41, 6, 32, 8, 20, 49, 13, 39, 44, 1, 27, 1, 47, 24, 43, 30, 1, 18, 66, 69, 69, 5, 50, 1, 68, 12, 59, 70, 29, 63, 32, 72, 72, 38, 15, 30, 5, 7, 37, 13, 12, 13, 60, 28, 12, 21, 3, 1, 1, 33, 72, 62, 14, 27, 11, 18, 14, 44, 17, 1, 25, 15, 43, 1, 1, 7, 72, 57, 8, 68, 2, 1, 35, 47, 30, 27, 61, 60, 64, 37, 18, 1, 11, 20, 1, 23, 2, 65, 25, 57, 72, 2, 68, 1, 72, 35, 25, 70, 65, 61, 9, 53, 63, 61, 4, 9, 29, 1, 11, 17, 65, 12, 9, 25, 37, 72, 28, 68, 1, 72, 17, 36, 12, 1, 1, 1, 45, 6, 14, 53, 1, 72, 61, 72, 51, 13, 4, 3, 2, 61, 70, 31, 23, 52, 13, 9, 53, 39, 1, 6, 43, 72, 24, 63, 41, 49, 8, 62, 57, 1, 12, 41, 35, 71, 45, 14, 29, 4, 1, 26, 1, 58, 8, 46, 32, 28, 20, 1, 7, 43, 62, 1, 56, 53, 15, 16, 27, 10, 10, 38, 42, 1, 9, 1, 11, 30, 5, 60, 1, 32, 72, 33, 12, 69, 13, 63, 21, 2, 32, 68, 72, 53, 29, 11, 22, 13, 36, 4, 72, 63, 2, 1, 54, 72, 1, 1, 65, 1, 21, 72, 1, 47, 4, 1, 63, 17, 12, 15, 9, 13, 41, 5, 20, 51, 2, 72, 9, 11, 38, 14, 52, 41, 52, 32, 42, 67, 61, 15, 72, 35, 47, 70, 69, 2, 72, 7, 71, 1, 3, 9, 11, 51, 5, 66, 68, 21, 32, 17, 22, 3, 46, 1, 1, 18, 72, 16, 36, 37, 42, 13, 2, 71, 29, 70, 35, 29, 43, 72, 69, 72, 4, 18, 68, 18, 57, 2, 46, 42, 66, 72, 11, 43, 19, 64, 72, 15, 1, 42, 50, 4, 33, 66, 72, 32, 63, 37, 12, 1, 55, 1, 29, 68, 57, 1, 51, 1, 1, 3, 12, 30, 55, 30, 6, 68, 69, 32, 72, 12, 50, 2, 2, 70, 43, 33, 2, 22, 1, 72, 26, 57, 5, 24, 0, 42, 72, 4, 52, 30, 27, 14, 69, 35, 64, 8, 66, 7, 3, 3, 15, 13, 27, 4, 30, 10, 72, 24, 70, 25, 7, 55, 2, 23, 50, 72, 8, 13, 12, 65, 1, 54, 25, 72, 21, 2, 70, 7, 48, 71, 71, 37, 1, 53, 1, 72, 27, 39, 2, 50, 26, 6, 53, 2, 71, 15, 30, 71, 2, 1, 53, 64, 70, 2, 72, 58, 66, 48, 68, 40, 17, 60, 3, 40, 9, 1, 54, 14, 69, 22, 37, 1, 40, 58, 23, 53, 11, 70, 1, 7, 66, 10, 9, 25, 32, 71, 29, 18, 9, 10, 1, 72, 45, 13, 18, 3, 59, 30, 2, 63, 22, 14, 62, 1, 53, 2, 39, 6, 72, 19, 2, 54, 72, 1, 47, 45, 55, 18, 6, 1, 12, 52, 50, 45, 1, 9, 9, 17, 52, 4, 18, 1, 9, 1, 48, 6, 59, 32, 63, 66, 9, 1, 46, 64, 23, 39, 26, 3, 3, 72, 10, 71, 2, 7, 45, 4, 26, 11, 60, 10, 1, 56, 5, 10, 7, 23, 8, 7, 2, 9, 31, 1, 30, 56, 57, 3, 32, 64, 1, 23, 1, 49, 4, 64, 21, 56, 23, 28, 10, 53, 40, 29, 11, 18, 56, 6, 1, 49, 60, 1, 71, 48, 49, 72, 32, 42, 1, 53, 32, 56, 66, 37, 3, 70, 51, 50, 9, 70, 57, 53, 57, 46, 13, 35, 16, 14, 47, 3, 70, 40, 20, 34, 6, 1, 21, 36, 44, 71, 6, 63, 62, 12, 40, 71, 8, 65, 64, 57, 51, 48, 18, 2, 5, 13, 17, 42, 34, 20, 15, 67, 22, 1, 70, 1, 4, 20, 54, 71, 8, 59, 56, 9, 2, 18, 69, 3, 55, 9, 10, 44, 10, 14, 3, 72, 4, 41, 24, 36, 12, 4, 63, 67, 3, 11, 2, 13, 30, 65, 50, 52, 45, 57, 12, 22, 72, 72, 6, 47, 13, 56, 69, 4, 40, 59, 54, 58, 34, 34, 67, 1, 1, 15, 15, 5, 32, 28, 70, 52, 8, 1, 68, 9, 50, 4, 47, 8, 11, 62, 5, 2, 6, 24, 21, 1, 50, 67, 32, 16, 8, 45, 14, 6, 71, 62, 66, 69, 8, 1, 10, 66, 47, 56, 5, 12, 5, 6, 11, 66, 40, 63, 3, 1, 14, 44, 67, 52, 1, 68, 35, 3, 25, 1, 36, 64, 46, 11, 18, 1, 51, 43, 27, 23, 25, 72, 6, 51, 72, 1, 70, 19, 70, 9, 22, 67, 10, 65, 24, 1, 2, 72, 7, 22, 39, 1, 46, 34, 24, 19, 34, 16, 50, 30, 49, 8, 53, 71, 46, 43, 60, 41, 72, 5, 18, 11, 1, 72, 59, 12, 12, 3, 1, 52, 26, 15, 31, 43, 70, 18, 9, 32, 17, 19, 65, 27, 1, 12, 66, 37, 2, 1, 34, 5, 37, 38, 23, 64, 67, 9, 69, 8, 1, 1, 35, 60, 29, 40, 20, 4, 72, 16, 16, 71, 19, 16, 21, 25, 7, 5, 3, 10, 1, 14, 1, 3, 1, 15, 67, 39, 6, 20, 22, 1, 58, 18, 41, 58, 11, 60, 68, 1, 22, 27, 21, 33, 26, 70, 43, 58, 49, 26, 72, 33, 50, 10, 46, 68, 8, 17, 31, 31, 26, 67, 55, 10, 1, 8, 28, 38, 50, 2, 72, 5, 17, 39, 56, 5, 52, 64, 64, 1, 51, 6, 48, 16, 31, 11, 66, 44, 17, 48, 18, 3, 40, 22, 2, 49, 6, 3, 7, 2, 63, 35, 40, 26, 58, 30, 61, 30, 27, 25, 64, 6, 72, 16, 49, 1, 3, 19, 45, 3, 48, 32, 41, 36, 63, 1, 12, 54, 5, 44, 72, 18, 36, 46, 57, 47, 2, 12, 30, 21, 23, 3, 71, 34, 4, 24, 2, 59, 3, 40, 15, 72, 1, 9, 22, 57, 1, 7, 63, 12, 3, 28, 66, 66, 15, 33, 18, 10, 38, 61, 65, 63, 5, 53, 59, 49, 59, 6, 72, 7, 1, 62, 3, 26, 68, 61, 18, 23, 66, 37, 30, 23, 33, 34, 20, 14, 61, 39, 64, 47, 72, 56, 2, 72, 72, 69, 18, 54, 15, 69, 58, 71, 9, 3, 66, 1, 62, 1, 1, 1, 38, 16, 3, 1, 65, 44, 8, 21, 61, 23, 39, 7, 40, 70, 8, 57, 32, 8, 1, 4, 8, 40, 26, 0, 24, 52, 56, 57, 3, 70, 60, 16, 7, 6, 4, 10, 37, 37, 62, 71, 50, 16, 47, 46, 28, 34, 71, 14, 22, 59, 65, 57, 72, 49, 4, 60, 71, 36, 7, 4, 60, 26, 16, 54, 56, 1, 5, 55, 11, 44, 6, 18, 4, 5, 1, 57, 58, 65, 72, 67, 70, 64, 71, 15, 10, 0, 67, 7, 67, 32, 11, 56, 2, 7, 27, 70, 1, 35, 48, 2, 67, 23, 29, 45, 2, 64, 60, 1, 28, 1, 72, 72, 1, 13, 7, 4, 1, 1, 7, 3, 22, 64, 67, 50, 56, 29, 30, 72, 60, 68, 9, 1, 3, 72, 56, 72, 32, 4, 25, 15, 10, 22, 28, 58, 1, 29, 26, 35, 59, 40, 72, 37, 1, 68, 37, 70, 61, 36, 4, 22, 19, 10, 1, 54, 46, 55, 44, 3, 48, 2, 72, 49, 2, 34, 28, 46, 3, 42, 19, 28, 10, 67, 23, 49, 35, 30, 46, 49, 38, 3, 3, 46, 57, 10, 24, 39, 1, 52, 57, 7, 35, 72, 3, 66, 43, 71, 4, 72, 6, 61, 68, 17, 37, 25, 18, 2, 47, 21, 69, 7, 27, 49, 15, 35, 43, 8, 33, 69, 7, 9, 1, 55, 1, 2, 16, 69, 32, 72, 69, 22, 1, 71, 24, 37, 38, 47, 58, 69, 52, 54, 5, 7, 25, 9, 10, 72, 20, 32, 72, 12, 3, 31, 22, 6, 61, 22, 2, 71, 71, 46, 71, 23, 24, 72, 26, 16, 1, 64, 15, 51, 72, 7, 7, 1, 70, 18, 22, 70, 72, 69, 4, 7, 72, 68, 23, 35, 2, 6, 24, 1, 1, 47, 34, 19, 50, 2, 1, 5, 23, 59, 5, 2, 58, 48, 35, 13, 4, 25, 71, 11, 50, 1, 36, 47, 37, 29, 24, 1, 68, 70, 6, 3, 64, 25, 71, 30, 68, 44, 70, 10, 57, 56, 12, 1, 18, 19]}, {\"name\": \"MonthlyCharges\", \"type\": \"box\", \"y\": [114.55, 20.6, 34.0, 73.25, 36.1, 95.75, 82.55, 29.2, 29.7, 73.6, 79.6, 19.85, 80.0, 102.1, 29.8, 44.45, 106.4, 85.4, 44.45, 109.75, 86.05, 20.25, 89.05, 88.35, 68.35, 99.5, 84.2, 20.0, 67.45, 97.0, 75.1, 64.4, 86.5, 75.3, 85.45, 44.05, 104.0, 52.1, 20.05, 103.65, 107.75, 89.85, 20.7, 24.65, 19.25, 49.7, 95.65, 19.5, 100.15, 69.0, 84.5, 76.15, 93.55, 110.2, 74.45, 61.8, 49.65, 20.1, 74.45, 19.6, 24.8, 75.1, 69.75, 51.55, 94.1, 70.1, 85.3, 20.25, 113.8, 25.05, 70.75, 98.9, 20.0, 20.4, 110.75, 74.7, 25.15, 49.9, 73.5, 72.15, 20.75, 70.2, 25.3, 19.3, 54.25, 85.95, 55.2, 89.45, 85.0, 19.9, 78.35, 89.95, 77.4, 95.3, 23.65, 20.1, 82.3, 20.15, 70.4, 50.45, 74.1, 54.2, 90.6, 86.6, 105.95, 49.2, 24.45, 94.9, 24.8, 48.8, 19.95, 103.05, 92.0, 92.95, 95.1, 60.3, 24.7, 101.9, 85.75, 98.7, 95.4, 74.9, 50.65, 94.9, 19.5, 45.0, 101.5, 20.2, 84.1, 55.35, 45.25, 24.0, 58.95, 106.05, 75.4, 20.55, 85.3, 98.5, 104.15, 25.4, 74.0, 99.0, 79.85, 95.55, 19.75, 101.35, 20.45, 114.2, 24.35, 26.45, 24.25, 25.75, 75.3, 80.15, 25.05, 94.0, 94.2, 40.55, 19.6, 80.2, 87.25, 101.05, 101.4, 81.3, 106.65, 43.7, 83.7, 70.95, 44.0, 20.1, 19.4, 108.95, 69.05, 81.45, 49.7, 84.8, 34.3, 94.1, 44.35, 97.2, 74.85, 93.25, 97.1, 99.5, 98.6, 69.2, 20.75, 19.65, 68.6, 19.45, 59.7, 104.65, 25.65, 50.9, 76.85, 79.6, 69.5, 20.0, 74.7, 50.75, 104.3, 88.85, 24.15, 70.05, 48.25, 101.75, 45.9, 117.15, 20.2, 65.6, 25.3, 105.6, 72.1, 20.05, 110.9, 19.45, 67.8, 24.0, 49.85, 102.95, 99.9, 54.45, 20.8, 20.55, 75.9, 90.4, 85.8, 96.4, 25.4, 104.1, 70.0, 44.8, 98.75, 78.9, 20.95, 54.2, 87.1, 69.9, 89.55, 90.45, 74.75, 84.3, 61.4, 49.1, 94.75, 74.95, 103.65, 20.65, 113.2, 71.65, 67.5, 74.4, 99.9, 20.05, 108.9, 69.2, 84.9, 25.75, 24.0, 103.75, 99.5, 86.65, 49.8, 91.2, 20.15, 110.1, 84.15, 70.8, 20.05, 60.35, 19.9, 95.45, 19.75, 24.3, 70.15, 86.85, 94.55, 88.6, 79.85, 86.0, 79.2, 73.1, 94.9, 29.15, 43.75, 20.15, 53.75, 113.25, 100.55, 74.6, 109.55, 19.5, 69.75, 53.8, 98.65, 19.65, 100.45, 60.2, 85.0, 20.5, 89.15, 76.4, 25.25, 90.9, 70.15, 76.35, 24.6, 57.2, 45.35, 98.25, 89.8, 89.05, 48.75, 58.95, 102.4, 19.2, 61.35, 89.15, 19.75, 55.15, 78.65, 59.05, 20.05, 56.6, 89.55, 96.9, 100.2, 84.9, 40.15, 24.25, 100.3, 100.55, 69.75, 75.25, 20.5, 83.7, 91.55, 55.35, 50.9, 19.95, 85.0, 20.6, 55.7, 59.3, 109.2, 78.45, 59.45, 84.3, 20.25, 79.2, 55.95, 71.95, 55.0, 105.1, 106.5, 96.8, 20.35, 100.25, 48.9, 80.6, 75.55, 19.95, 108.95, 99.45, 78.7, 24.75, 97.1, 78.2, 50.55, 95.85, 58.35, 40.65, 24.15, 58.9, 74.35, 100.8, 73.95, 70.0, 96.55, 43.25, 65.85, 49.95, 110.45, 103.95, 75.9, 106.1, 89.2, 20.75, 19.0, 69.35, 83.15, 25.2, 24.85, 20.35, 19.85, 108.55, 66.25, 59.45, 59.9, 95.0, 44.6, 74.2, 75.45, 19.8, 92.3, 100.15, 70.3, 63.95, 88.35, 20.4, 103.95, 40.65, 84.6, 73.15, 79.0, 72.75, 23.75, 80.4, 25.5, 76.1, 76.4, 25.1, 59.2, 35.45, 95.65, 105.05, 45.8, 79.65, 56.75, 66.25, 50.3, 99.8, 93.8, 99.0, 104.6, 95.9, 19.9, 95.25, 20.4, 20.6, 24.4, 81.35, 78.95, 86.85, 34.05, 61.15, 52.3, 96.8, 109.4, 25.7, 19.35, 19.3, 70.45, 110.6, 104.0, 54.95, 94.3, 51.0, 81.25, 86.55, 20.45, 39.6, 93.6, 84.45, 55.2, 95.7, 44.55, 20.25, 51.65, 19.6, 53.95, 108.95, 89.65, 93.85, 43.95, 20.55, 75.75, 25.45, 19.55, 35.75, 50.05, 19.85, 109.55, 60.8, 99.8, 74.95, 25.45, 81.7, 20.4, 104.1, 24.45, 92.3, 89.6, 74.4, 69.35, 28.5, 20.5, 20.2, 79.7, 26.1, 75.55, 108.3, 60.0, 105.65, 87.2, 20.65, 53.45, 90.8, 73.9, 105.05, 99.15, 55.8, 48.7, 64.2, 19.5, 79.6, 62.3, 108.75, 19.95, 20.0, 25.2, 108.25, 107.05, 99.35, 59.45, 39.4, 69.0, 50.8, 81.3, 94.4, 44.6, 84.1, 96.05, 74.9, 92.4, 20.55, 64.6, 96.7, 69.05, 68.55, 94.0, 20.0, 93.2, 20.55, 19.85, 20.25, 20.1, 84.2, 56.85, 75.35, 77.9, 69.75, 101.35, 19.05, 90.6, 69.9, 31.05, 105.4, 64.75, 78.75, 20.4, 90.35, 19.55, 61.1, 19.6, 80.5, 19.4, 65.0, 55.65, 20.1, 46.35, 20.85, 80.2, 59.1, 19.85, 115.1, 46.35, 24.35, 76.5, 19.2, 20.55, 44.05, 93.25, 61.25, 71.1, 81.05, 25.75, 25.6, 55.7, 50.95, 68.15, 60.8, 80.0, 90.85, 30.4, 45.2, 19.3, 65.85, 85.45, 19.15, 93.5, 45.9, 20.25, 20.2, 20.55, 74.9, 20.6, 92.0, 58.35, 75.0, 19.7, 88.5, 106.0, 94.05, 19.7, 99.3, 106.9, 56.5, 70.15, 85.25, 19.6, 95.8, 70.0, 18.95, 116.3, 51.8, 100.35, 89.1, 20.1, 75.5, 69.95, 30.2, 70.4, 111.3, 56.6, 107.45, 45.15, 20.7, 111.95, 25.3, 85.7, 20.1, 79.6, 50.55, 19.35, 90.05, 18.8, 56.3, 59.75, 86.45, 75.0, 69.15, 82.5, 64.85, 66.4, 68.65, 90.1, 110.25, 69.9, 51.2, 90.6, 72.0, 51.25, 20.1, 103.25, 103.7, 30.25, 72.1, 99.7, 95.1, 67.05, 56.7, 104.95, 58.4, 61.65, 99.2, 75.15, 19.3, 95.2, 19.85, 84.0, 20.5, 89.35, 20.4, 96.6, 48.25, 50.05, 83.75, 58.85, 107.5, 41.15, 20.25, 79.4, 45.85, 56.3, 50.95, 109.5, 24.85, 85.4, 96.5, 48.8, 79.9, 84.85, 101.3, 25.0, 44.6, 78.8, 20.5, 55.0, 105.3, 40.3, 59.75, 87.1, 51.55, 40.3, 94.15, 89.25, 79.3, 49.55, 61.65, 45.0, 19.8, 114.5, 102.45, 35.15, 101.35, 98.8, 110.75, 83.4, 60.1, 39.15, 103.15, 21.0, 79.85, 20.1, 94.8, 81.15, 19.35, 51.05, 106.45, 103.9, 64.9, 34.25, 20.5, 58.2, 82.85, 19.6, 101.7, 94.4, 79.5, 71.0, 74.85, 44.6, 19.7, 94.8, 19.85, 63.8, 97.35, 19.65, 25.5, 110.8, 24.65, 57.95, 98.5, 105.2, 54.35, 19.2, 78.55, 20.75, 88.95, 19.2, 19.3, 65.6, 55.7, 79.95, 39.7, 105.05, 55.55, 64.45, 39.95, 19.5, 51.1, 74.9, 20.4, 80.45, 86.7, 84.8, 49.15, 80.55, 25.4, 19.4, 70.4, 95.15, 45.55, 19.6, 70.3, 69.1, 24.95, 50.8, 80.55, 23.45, 49.9, 44.7, 65.8, 105.2, 44.45, 19.15, 44.65, 50.0, 81.15, 20.65, 104.6, 55.7, 98.25, 20.35, 70.15, 60.4, 100.6, 44.65, 115.65, 19.65, 100.45, 20.05, 84.95, 94.2, 70.85, 95.1, 69.25, 101.1, 104.0, 85.25, 23.4, 80.55, 80.3, 72.95, 110.85, 54.35, 19.85, 91.35, 19.4, 89.85, 20.45, 49.95, 100.6, 19.3, 100.05, 44.85, 63.75, 74.65, 33.9, 78.3, 96.5, 59.45, 103.8, 19.65, 52.85, 60.9, 31.2, 67.25, 35.1, 20.0, 81.15, 84.8, 116.25, 70.95, 65.25, 59.75, 45.25, 20.7, 89.8, 24.45, 85.85, 83.45, 100.7, 90.85, 24.25, 105.15, 85.45, 100.45, 109.2, 109.55, 21.25, 20.2, 109.95, 55.1, 108.1, 106.4, 105.5, 19.75, 91.75, 113.65, 20.05, 59.6, 20.75, 90.05, 51.6, 80.5, 20.0, 92.45, 74.95, 69.8, 19.15, 104.55, 70.4, 18.85, 19.85, 104.3, 101.5, 78.45, 48.6, 24.3, 87.6, 80.15, 39.1, 116.15, 69.0, 97.25, 108.75, 35.0, 94.7, 55.0, 79.8, 94.8, 64.95, 20.25, 84.4, 85.0, 89.1, 87.25, 74.05, 84.7, 44.3, 53.6, 110.5, 35.05, 74.35, 19.9, 50.55, 105.0, 108.4, 106.05, 21.05, 43.85, 20.15, 97.45, 65.65, 84.3, 94.15, 55.9, 103.75, 19.55, 69.3, 98.3, 91.25, 89.85, 25.3, 98.45, 108.25, 35.5, 54.15, 61.45, 19.4, 69.65, 20.3, 100.5, 19.65, 75.3, 20.95, 73.25, 95.5, 20.05, 49.45, 71.55, 78.95, 95.25, 74.6, 112.25, 71.1, 86.0, 79.9, 20.35, 104.25, 74.3, 74.35, 58.55, 45.1, 90.05, 21.2, 52.7, 109.05, 92.45, 74.85, 75.2, 20.2, 19.35, 75.1, 108.1, 19.65, 84.75, 24.1, 51.7, 19.5, 20.1, 64.15, 99.15, 115.25, 75.4, 84.8, 55.65, 66.8, 82.5, 111.8, 92.6, 104.4, 24.9, 19.95, 20.4, 95.25, 50.85, 19.75, 44.45, 20.95, 69.9, 25.0, 24.45, 104.4, 86.55, 97.95, 74.4, 60.0, 55.2, 74.35, 79.0, 18.95, 19.9, 20.65, 33.45, 20.0, 103.7, 70.2, 91.4, 88.9, 89.9, 84.75, 85.05, 115.55, 85.3, 100.4, 69.6, 25.45, 19.75, 75.85, 54.3, 24.05, 100.75, 105.05, 73.85, 43.3, 84.75, 20.3, 24.7, 19.05, 112.95, 49.35, 75.55, 97.65, 83.75, 89.65, 69.65, 69.15, 70.6, 85.85, 60.6, 101.3, 69.95, 49.85, 19.5, 101.9, 112.75, 19.75, 98.7, 89.55, 38.9, 20.9, 100.15, 43.45, 60.4, 84.15, 25.05, 84.85, 19.35, 25.0, 100.4, 61.45, 103.5, 25.1, 35.8, 89.7, 64.4, 20.45, 104.4, 84.6, 24.75, 95.0, 68.25, 20.0, 94.4, 55.9, 104.25, 55.15, 91.0, 81.45, 100.95, 45.25, 79.95, 18.9, 26.1, 39.5, 115.8, 24.3, 104.4, 79.5, 19.95, 50.0, 93.65, 24.95, 20.3, 95.9, 96.85, 55.7, 45.3, 100.2, 100.85, 91.7, 60.9, 74.95, 93.9, 63.35, 99.1, 109.25, 100.5, 20.0, 49.85, 54.75, 25.35, 50.75, 74.8, 61.95, 95.05, 69.85, 74.55, 78.75, 74.4, 60.4, 74.15, 20.5, 20.5, 69.0, 59.1, 58.6, 60.85, 66.05, 48.95, 91.05, 107.75, 94.1, 84.1, 95.65, 20.15, 103.3, 79.65, 116.85, 34.4, 91.1, 63.7, 54.45, 56.65, 24.5, 20.7, 25.6, 53.75, 24.8, 50.05, 19.65, 55.0, 20.25, 19.05, 50.15, 69.2, 48.8, 59.45, 80.9, 94.4, 97.85, 111.15, 20.15, 95.15, 25.05, 88.85, 86.6, 75.9, 64.7, 35.7, 106.15, 45.0, 25.95, 57.55, 20.35, 19.85, 79.7, 25.15, 94.75, 89.9, 57.55, 74.3, 97.1, 55.1, 24.6, 50.15, 85.25, 93.85, 52.0, 77.85, 20.7, 80.55, 95.9, 59.9, 54.3, 106.25, 20.0, 80.05, 20.0, 57.8, 63.6, 40.3, 74.1, 20.75, 66.4, 19.45, 44.55, 105.1, 50.25, 94.45, 49.8, 69.15, 24.9, 108.65, 95.4, 99.1, 85.15, 54.9, 93.35, 74.25, 90.5, 54.1, 76.05, 93.8, 19.2, 19.55, 73.85, 19.95, 70.35, 102.15, 28.6, 20.55, 40.55, 18.8, 25.75, 20.4, 105.5, 70.2, 87.15, 24.9, 20.2, 85.15, 80.1, 20.0, 61.45, 91.85, 44.9, 60.2, 30.75, 69.5, 79.25, 100.05, 69.95, 90.95, 95.65, 82.05, 80.8, 20.75, 80.15, 58.5, 24.1, 84.2, 70.0, 56.45, 20.35, 90.6, 19.4, 45.0, 19.6, 69.7, 54.3, 30.1, 59.55, 73.0, 113.6, 111.65, 102.1, 104.4, 20.45, 86.55, 19.75, 20.8, 75.35, 24.75, 54.5, 24.8, 84.8, 75.9, 19.3, 49.45, 89.45, 76.05, 49.25, 73.55, 49.8, 24.2, 20.6, 50.1, 70.25, 93.45, 103.2, 109.3, 19.7, 67.4, 74.9, 103.05, 90.4, 80.7, 89.1, 48.4, 112.1, 64.85, 87.1, 40.1, 24.8, 35.1, 96.1, 71.1, 81.1, 94.45, 60.15, 82.05, 20.7, 20.1, 55.05, 19.85, 19.55, 74.75, 35.75, 86.5, 25.45, 19.5, 89.15, 85.3, 85.0, 115.15, 20.25, 79.65, 70.05, 45.05, 62.55, 84.35, 20.3, 95.65, 19.95, 49.4, 70.45, 19.85, 20.0, 65.1, 85.95, 95.15, 53.65, 85.9, 115.5, 89.0, 66.85, 102.45, 106.3, 84.95, 55.8, 100.2, 20.5, 70.45, 44.5, 90.35, 98.65, 60.5, 20.15, 33.6, 103.3, 39.05, 69.0, 85.45, 19.7, 19.95, 63.15, 18.95, 39.7, 88.95, 93.8, 70.05, 104.05, 65.2, 51.2, 105.75, 20.85, 99.8, 102.0, 20.05, 24.2, 104.55, 66.5, 50.3, 74.25, 84.7, 114.05, 90.7, 84.05, 50.95, 44.4, 19.45, 106.5, 50.8, 85.65, 20.1, 54.75, 68.75, 49.2, 40.55, 56.05, 44.5, 89.85, 84.1, 111.55, 20.4, 87.95, 109.7, 84.95, 19.3, 89.75, 20.3, 74.2, 40.25, 45.55, 19.65, 24.75, 51.5, 19.55, 76.5, 69.65, 108.3, 69.75, 76.6, 87.95, 20.3, 19.65, 91.25, 92.05, 55.25, 24.05, 66.1, 92.85, 50.0, 20.5, 19.75, 94.4, 20.05, 75.6, 19.4, 19.8, 49.2, 84.6, 109.4, 100.9, 74.45, 29.7, 100.65, 44.85, 111.3, 88.05, 77.55, 21.25, 93.8, 24.55, 50.05, 19.6, 24.35, 55.5, 91.05, 43.95, 99.1, 35.35, 109.0, 59.85, 99.5, 45.75, 81.45, 74.0, 70.45, 90.7, 45.3, 74.6, 98.25, 69.85, 109.3, 89.35, 55.9, 19.85, 87.7, 44.0, 50.85, 98.9, 104.1, 96.3, 83.35, 86.75, 69.55, 104.4, 25.25, 54.15, 49.4, 55.1, 59.8, 94.6, 69.8, 50.95, 61.2, 64.0, 19.35, 36.15, 89.95, 20.35, 104.4, 56.15, 65.2, 46.25, 104.45, 91.15, 79.8, 54.75, 44.9, 109.7, 69.6, 24.45, 60.9, 80.85, 92.2, 20.2, 72.45, 80.0, 49.05, 99.95, 70.8, 83.4, 48.15, 69.0, 64.9, 25.05, 84.3, 25.1, 61.3, 94.4, 99.4, 72.1, 86.45, 41.95, 89.1, 115.15, 49.2, 90.0, 24.4, 20.9, 99.3, 94.6, 73.85, 60.05, 25.1, 94.65, 29.05, 20.15, 19.7, 103.7, 59.65, 90.35, 25.25, 44.4, 86.65, 75.3, 71.8, 106.15, 19.5, 21.1, 84.2, 70.05, 84.4, 49.4, 64.9, 67.25, 39.1, 19.3, 93.4, 18.75, 116.0, 65.6, 70.8, 20.0, 91.7, 25.0, 19.8, 33.6, 74.4, 89.0, 113.15, 111.6, 75.7, 115.0, 20.45, 78.55, 103.15, 72.35, 19.8, 19.45, 67.8, 19.55, 67.95, 109.65, 83.9, 20.35, 19.75, 44.0, 95.35, 38.9, 20.2, 89.75, 73.85, 20.15, 19.65, 105.9, 35.0, 40.6, 59.7, 58.75, 19.5, 19.85, 99.55, 100.85, 101.55, 99.5, 20.0, 80.65, 90.7, 84.3, 64.2, 45.3, 55.8, 78.85, 114.9, 90.05, 73.75, 78.25, 96.85, 74.65, 78.3, 86.65, 70.35, 43.95, 89.9, 18.7, 55.35, 33.45, 19.95, 38.5, 49.0, 88.6, 25.6, 106.05, 78.95, 99.0, 24.95, 103.85, 31.1, 90.4, 54.5, 104.15, 78.5, 19.35, 20.65, 99.15, 54.0, 90.65, 115.55, 79.15, 62.25, 20.4, 86.85, 54.85, 25.35, 44.85, 107.7, 80.0, 59.5, 67.2, 83.4, 48.7, 20.05, 26.3, 91.0, 45.4, 85.55, 96.2, 19.1, 107.4, 84.3, 74.5, 74.65, 110.45, 81.0, 35.75, 59.95, 19.55, 49.9, 18.8, 89.7, 100.85, 90.05, 55.15, 80.35, 110.35, 98.4, 91.55, 97.9, 105.6, 51.05, 70.15, 101.45, 50.6, 18.25, 50.5, 20.0, 20.55, 19.65, 55.95, 25.05, 115.8, 24.55, 106.15, 24.65, 20.3, 54.8, 48.45, 70.1, 91.1, 109.25, 54.45, 35.0, 19.75, 84.8, 59.9, 24.35, 73.55, 19.8, 115.75, 54.65, 70.3, 19.4, 19.2, 105.25, 20.05, 83.6, 85.2, 19.85, 91.25, 70.0, 40.65, 19.55, 70.6, 20.35, 19.45, 80.0, 84.4, 105.1, 105.2, 24.8, 78.45, 80.2, 20.25, 45.3, 45.65, 78.65, 64.65, 69.95, 34.55, 74.45, 34.85, 84.3, 74.4, 59.95, 78.35, 33.5, 60.35, 78.85, 56.1, 79.05, 88.15, 83.8, 86.45, 25.25, 50.7, 19.9, 104.55, 88.85, 20.15, 86.45, 54.8, 20.25, 66.05, 20.25, 54.45, 70.65, 64.0, 25.1, 77.4, 20.6, 89.3, 79.45, 25.4, 99.65, 101.15, 106.8, 30.1, 21.0, 116.1, 84.0, 80.35, 92.35, 77.75, 50.3, 20.7, 80.65, 19.55, 103.85, 101.15, 104.4, 70.7, 50.15, 55.45, 44.4, 75.8, 88.95, 19.85, 94.95, 90.65, 26.0, 19.85, 74.05, 108.75, 81.7, 69.05, 99.15, 64.5, 56.0, 100.95, 90.8, 104.35, 23.15, 45.9, 56.8, 78.8, 69.75, 19.65, 105.35, 74.0, 99.8, 65.6, 19.0, 80.45, 80.3, 61.6, 79.0, 88.45, 111.2, 92.85, 113.65, 19.95, 75.1, 101.9, 90.75, 60.15, 24.8, 35.9, 64.65, 50.2, 19.35, 86.2, 105.65, 19.7, 19.95, 73.85, 74.05, 73.35, 74.4, 89.2, 115.55, 19.85, 20.55, 106.6, 19.75, 82.0, 76.4, 20.6, 90.7, 45.0, 33.55, 20.1, 85.6, 18.4, 100.15, 19.8, 49.25, 89.55, 83.85, 71.1, 69.5, 39.0, 93.0, 50.65, 19.9, 81.55, 106.7, 30.35, 97.85, 74.15, 53.8, 64.35, 114.5, 19.8, 114.3, 20.45, 105.0, 25.0, 79.95, 40.35, 90.05, 95.7, 95.0, 72.95, 56.75, 109.2, 46.0, 101.4, 85.8, 86.1, 87.4, 109.5, 71.0, 104.95, 103.4, 20.65, 20.55, 106.3, 25.6, 90.15, 20.7, 99.95, 19.9, 20.35, 50.35, 20.3, 65.5, 101.15, 94.65, 63.7, 94.0, 89.55, 66.4, 19.45, 50.1, 54.6, 89.75, 69.05, 68.7, 85.05, 70.45, 23.9, 80.55, 69.95, 23.55, 19.8, 107.45, 105.0, 110.0, 90.75, 104.7, 109.15, 25.2, 67.6, 55.0, 50.25, 42.9, 90.95, 80.55, 97.8, 74.3, 95.15, 54.25, 24.45, 82.0, 49.45, 100.3, 62.05, 60.5, 93.8, 96.25, 49.7, 19.55, 34.7, 80.0, 24.1, 20.6, 20.35, 71.0, 111.1, 54.25, 71.4, 91.15, 80.85, 30.85, 66.5, 92.15, 19.85, 20.5, 25.75, 19.85, 74.0, 70.75, 70.35, 54.25, 20.15, 19.95, 25.25, 99.35, 20.15, 73.55, 99.85, 20.85, 96.15, 95.65, 84.7, 19.75, 19.6, 46.0, 69.8, 85.65, 49.85, 41.9, 95.5, 79.9, 65.75, 89.9, 46.2, 100.25, 90.15, 89.3, 36.25, 20.05, 19.6, 24.65, 68.75, 90.2, 79.5, 45.0, 73.85, 105.25, 20.25, 84.8, 110.1, 72.85, 74.95, 20.15, 76.9, 19.55, 86.8, 83.85, 75.8, 90.1, 40.4, 38.1, 79.2, 44.85, 80.35, 24.5, 94.65, 87.25, 79.95, 115.6, 86.15, 89.9, 56.75, 88.9, 64.05, 61.15, 89.85, 61.05, 96.8, 91.7, 60.85, 99.5, 25.55, 19.5, 105.85, 53.35, 83.85, 102.7, 94.65, 102.35, 63.55, 105.65, 74.8, 76.95, 106.0, 19.6, 75.4, 93.35, 50.55, 29.05, 20.85, 45.1, 100.0, 56.35, 19.85, 93.7, 46.3, 61.4, 65.0, 109.1, 38.55, 85.15, 30.25, 79.3, 29.1, 77.8, 85.05, 51.75, 79.95, 20.15, 107.2, 66.15, 110.7, 93.9, 95.85, 108.9, 25.25, 83.8, 84.45, 79.15, 104.0, 89.5, 99.75, 60.8, 70.15, 49.4, 112.4, 71.15, 43.55, 75.65, 90.55, 25.4, 25.0, 101.05, 44.85, 23.9, 36.0, 24.7, 48.2, 56.4, 20.85, 20.55, 71.9, 59.8, 20.3, 54.35, 50.2, 113.35, 99.5, 89.1, 64.15, 81.1, 20.0, 101.1, 50.35, 75.05, 78.75, 90.6, 93.75, 50.8, 20.55, 20.05, 89.75, 80.45, 111.15, 100.8, 61.4, 25.25, 105.7, 96.05, 86.1, 80.4, 23.5, 75.5, 19.7, 19.8, 75.35, 29.75, 91.3, 79.3, 80.2, 94.1, 20.05, 105.4, 86.45, 99.8, 60.0, 25.25, 96.6, 19.5, 90.3, 20.55, 74.65, 19.4, 20.05, 20.35, 58.45, 78.9, 89.5, 45.7, 49.15, 54.45, 19.25, 79.65, 19.8, 30.75, 66.4, 63.95, 81.95, 104.1, 45.15, 109.6, 55.15, 80.8, 79.55, 73.5, 40.6, 58.85, 45.35, 81.0, 55.0, 20.5, 113.65, 106.6, 19.15, 19.4, 30.5, 20.45, 101.35, 100.2, 19.75, 18.55, 58.65, 19.4, 89.9, 99.4, 113.15, 25.3, 19.45, 86.25, 70.15, 60.25, 30.45, 105.0, 20.05, 69.35, 41.1, 76.45, 79.3, 98.6, 20.2, 20.05, 19.4, 45.65, 79.85, 118.65, 95.95, 84.6, 25.7, 61.35, 19.75, 97.95, 68.4, 73.55, 105.7, 50.55, 95.75, 69.95, 84.85, 99.85, 20.4, 114.3, 59.8, 73.5, 20.25, 99.55, 99.2, 85.35, 20.45, 76.95, 80.35, 24.3, 81.85, 44.45, 30.4, 98.8, 92.55, 95.3, 43.3, 90.55, 20.1, 44.95, 53.7, 75.05, 105.0, 90.85, 56.9, 84.5, 29.45, 75.75, 92.15, 24.7, 81.0, 19.65, 100.55, 73.0, 30.3, 96.75, 59.85, 49.8, 76.5, 24.7, 25.7, 25.45, 69.55, 62.05, 19.75, 80.6, 90.25, 19.8, 20.0, 82.3, 86.2, 75.5, 57.45, 80.0, 67.8, 78.55, 65.55, 69.55, 82.35, 100.3, 45.4, 61.4, 60.0, 83.25, 102.8, 19.75, 19.45, 95.75, 94.4, 95.0, 64.65, 113.1, 59.85, 89.95, 24.8, 19.5, 24.8, 39.1, 24.65, 76.75, 60.0, 50.4, 99.75, 54.35, 94.85, 83.3, 99.15, 75.4, 20.4, 108.25, 94.25, 100.15, 104.6, 74.95, 20.05, 48.75, 24.95, 75.1, 73.45, 29.2, 91.3, 87.3, 25.15, 96.55, 25.95, 24.25, 85.7, 68.65, 25.1, 93.85, 84.85, 67.45, 104.05, 68.3, 102.05, 70.85, 20.8, 95.5, 54.9, 19.4, 51.0, 39.5, 92.5, 39.55, 115.05, 69.0, 108.6, 19.95, 19.3, 35.55, 92.7, 54.15, 24.95, 19.9, 19.65, 66.7, 81.0, 19.4, 106.35, 59.6, 105.1, 100.35, 105.55, 81.35, 79.5, 70.35, 19.25, 74.6, 89.6, 34.2, 44.35, 99.65, 94.6, 86.05, 20.1, 102.95, 93.65, 94.5, 83.0, 96.65, 52.55, 19.65, 20.2, 94.65, 44.2, 25.1, 24.25, 90.25, 44.45, 84.8, 95.05, 76.4, 25.1, 85.45, 85.95, 69.65, 76.65, 88.85, 19.55, 50.15, 70.15, 19.9, 25.25, 19.75, 97.95, 26.35, 66.35, 85.15, 24.7, 81.75, 21.2, 20.75, 116.75, 19.8, 79.2, 85.7, 80.3, 20.2, 105.6, 91.05, 75.0, 53.65, 54.6, 75.1, 24.4, 19.95, 55.55, 56.2, 114.35, 81.1, 70.0, 45.65, 114.65, 74.3, 19.15, 19.8, 82.1, 24.95, 20.5, 20.2, 49.95, 110.75, 79.6, 20.0, 41.35, 81.25, 25.35, 30.9, 20.05, 74.25, 19.55, 69.75, 106.75, 25.3, 49.6, 75.6, 75.9, 109.5, 75.95, 20.85, 55.7, 100.05, 91.15, 109.55, 19.1, 75.75, 76.45, 50.15, 50.4, 45.7, 19.7, 85.25, 70.55, 94.0, 84.35, 40.75, 113.95, 89.15, 80.0, 19.85, 56.7, 70.15, 114.9, 95.1, 56.25, 48.75, 69.2, 20.35, 115.05, 35.8, 25.0, 107.9, 107.5, 66.7, 24.55, 25.75, 84.2, 19.35, 99.05, 94.6, 45.0, 44.25, 19.85, 19.7, 64.2, 19.95, 80.8, 94.15, 70.1, 20.2, 25.1, 73.75, 19.95, 65.2, 81.2, 85.95, 94.05, 69.3, 23.9, 83.9, 54.2, 54.2, 19.35, 18.85, 90.45, 69.45, 56.55, 70.55, 88.35, 99.65, 80.5, 20.35, 69.55, 44.1, 84.95, 65.15, 95.6, 44.95, 19.85, 50.95, 85.55, 94.85, 105.15, 56.4, 74.9, 100.05, 95.9, 80.65, 20.3, 19.45, 19.8, 86.8, 79.15, 74.75, 63.25, 59.7, 50.25, 60.95, 84.05, 45.1, 94.5, 80.0, 19.4, 45.9, 60.2, 20.0, 26.4, 50.7, 76.55, 20.2, 51.1, 116.95, 71.05, 44.35, 81.7, 79.95, 35.05, 49.35, 19.75, 55.4, 79.5, 30.1, 20.15, 78.95, 90.7, 80.05, 81.15, 20.65, 43.55, 93.15, 79.9, 30.6, 19.25, 19.6, 75.3, 20.15, 20.35, 95.15, 45.2, 19.55, 73.85, 55.45, 85.1, 99.05, 93.2, 94.4, 20.0, 75.5, 71.55, 69.55, 99.7, 79.5, 94.65, 65.0, 71.05, 48.65, 98.85, 94.3, 20.6, 68.05, 20.5, 20.0, 82.85, 74.9, 93.85, 20.1, 103.2, 19.85, 99.8, 109.75, 104.3, 85.65, 104.75, 24.55, 89.8, 94.5, 89.9, 109.4, 91.15, 86.75, 44.0, 104.45, 90.95, 73.7, 87.55, 95.7, 100.0, 19.5, 96.0, 82.75, 36.45, 78.35, 62.15, 20.45, 29.4, 19.65, 24.55, 69.7, 56.55, 24.6, 23.75, 19.2, 94.45, 65.0, 100.2, 19.95, 86.2, 95.65, 58.35, 24.55, 35.8, 89.2, 50.15, 114.7, 29.65, 19.55, 114.35, 29.3, 73.05, 19.8, 20.4, 96.55, 50.55, 54.45, 19.85, 20.25, 78.9, 20.4, 58.75, 99.5, 107.35, 89.7, 45.75, 66.5, 19.85, 49.55, 19.55, 56.25, 89.15, 89.5, 110.85, 113.2, 48.85, 85.55, 54.65, 83.75, 19.35, 80.1, 101.6, 19.9, 20.45, 19.7, 80.3, 75.75, 90.7, 106.65, 19.85, 95.65, 84.8, 69.75, 81.45, 49.05, 20.05, 55.65, 77.85, 94.05, 95.6, 90.7, 110.9, 19.9, 99.45, 105.3, 103.4, 33.6, 89.05, 95.7, 54.15, 58.4, 19.85, 100.55, 85.3, 63.8, 90.95, 83.9, 19.75, 68.95, 28.45, 34.5, 19.85, 35.4, 19.0, 78.3, 106.0, 20.5, 45.0, 20.0, 70.15, 19.65, 89.1, 83.85, 84.4, 96.75, 100.55, 25.85, 58.95, 50.3, 76.1, 111.5, 19.45, 20.2, 19.9, 96.5, 91.65, 71.25, 69.4, 51.3, 24.85, 70.35, 49.55, 76.9, 51.4, 19.85, 46.35, 80.35, 55.3, 85.25, 106.2, 23.95, 76.1, 96.1, 19.65, 19.45, 44.05, 71.3, 95.1, 77.15, 70.7, 108.8, 54.1, 58.75, 26.45, 70.7, 91.7, 47.95, 19.95, 89.85, 20.05, 80.6, 92.7, 105.55, 74.65, 90.8, 102.6, 115.1, 24.45, 79.55, 19.55, 86.0, 102.0, 19.15, 90.65, 20.45, 19.85, 19.2, 76.25, 100.65, 92.9, 70.9, 19.15, 73.45, 91.85, 104.5, 79.95, 50.05, 19.8, 80.2, 75.15, 19.7, 75.1, 20.2, 77.15, 106.1, 99.9, 107.7, 97.8, 98.0, 48.55, 83.75, 60.95, 19.45, 113.0, 73.9, 90.0, 85.15, 96.65, 24.1, 19.4, 100.0, 25.8, 50.35, 40.45, 113.65, 56.25, 19.95, 68.5, 20.45, 19.9, 20.0, 74.6, 84.6, 20.3, 20.65, 80.05, 85.75, 25.9, 80.35, 24.85, 24.1, 69.5, 60.7, 53.5, 94.35, 20.25, 103.15, 101.35, 90.45, 89.0, 79.1, 29.8, 71.9, 43.6, 75.7, 68.45, 20.25, 56.15, 19.3, 19.15, 79.85, 74.75, 57.15, 25.05, 44.15, 19.9, 73.6, 75.25, 20.7, 75.55, 20.55, 69.55, 108.15, 110.15, 24.25, 54.3, 59.75, 94.1, 90.45, 35.1, 19.3, 104.9, 19.6, 25.65, 65.0, 98.6, 53.75, 20.85, 50.55, 84.9, 73.75, 107.4, 20.0, 44.95, 20.3, 104.1, 79.2, 68.5, 45.65, 111.05, 24.4, 69.1, 65.25, 49.3, 41.9, 19.55, 19.85, 39.35, 20.75, 19.3, 79.4, 44.95, 102.25, 89.55, 55.75, 105.85, 24.95, 94.2, 65.55, 19.5, 55.6, 94.75, 104.85, 84.1, 70.2, 81.4, 106.35, 54.75, 20.05, 81.05, 25.2, 85.9, 21.1, 86.95, 98.7, 105.0, 34.7, 21.15, 69.2, 85.45, 20.1, 20.2, 55.35, 84.8, 79.15, 84.5, 29.45, 92.2, 95.4, 91.05, 20.65, 19.9, 96.6, 19.95, 49.9, 35.9, 99.4, 26.25, 94.45, 19.25, 104.5, 94.45, 48.75, 75.45, 58.25, 20.0, 95.0, 20.1, 70.9, 101.0, 19.4, 82.45, 24.05, 98.1, 78.2, 20.05, 20.25, 39.3, 53.45, 84.25, 63.7, 19.7, 97.95, 20.95, 55.55, 19.95, 93.4, 115.5, 105.35, 25.05, 59.65, 104.4, 20.05, 74.75, 105.95, 110.15, 19.3, 108.5, 19.8, 78.85, 19.5, 59.45, 34.7, 48.95, 83.0, 104.9, 19.9, 34.2, 19.55, 44.75, 107.95, 21.05, 69.1, 19.5, 90.25, 44.4, 109.05, 64.15, 91.05, 99.9, 99.45, 79.6, 88.55, 91.45, 97.65, 80.2, 95.3, 95.1, 59.05, 19.1, 20.25, 54.75, 53.45, 80.6, 96.0, 61.9, 95.05, 105.75, 44.55, 80.2, 19.65, 88.3, 19.65, 104.05, 39.85, 47.85, 81.25, 103.1, 20.05, 19.45, 24.6, 19.5, 74.65, 20.3, 94.75, 85.35, 54.5, 24.25, 99.3, 77.3, 84.6, 50.3, 19.7, 19.85, 19.3, 106.8, 80.2, 83.55, 89.4, 20.3, 84.85, 69.55, 60.0, 70.95, 95.9, 80.9, 45.25, 90.85, 75.7, 111.45, 83.3, 85.45, 67.45, 55.2, 94.0, 44.0, 76.8, 20.6, 81.5, 84.05, 84.15, 78.8, 19.7, 48.7, 74.7, 106.8, 105.1, 91.7, 115.05, 46.6, 70.55, 80.6, 84.3, 59.5, 70.3, 109.15, 50.3, 74.6, 20.2, 24.15, 74.55, 55.5, 89.45, 89.45, 101.85, 72.9, 75.8, 65.3, 80.45, 105.4, 26.25, 55.05, 46.0, 79.2, 24.5, 55.3, 54.9, 79.5, 88.0, 74.3, 75.15, 89.4, 80.7, 85.35, 26.8, 73.6, 25.6, 94.2, 60.6, 75.75, 20.0, 20.25, 94.65, 42.3, 18.8, 46.4, 35.2, 94.75, 79.3, 43.95, 98.0, 69.5, 20.4, 25.8, 19.65, 24.05, 79.0, 58.6, 20.4, 24.3, 87.3, 45.85, 109.55, 98.35, 79.55, 100.75, 93.9, 58.6, 75.4, 47.95, 19.55, 19.7, 93.25, 20.35, 20.35, 45.7, 74.55, 48.6, 74.55, 50.2, 79.15, 25.1, 50.65, 89.45, 74.3, 65.65, 19.15, 96.65, 78.9, 71.5, 104.9, 20.25, 74.3, 24.45, 19.55, 104.45, 19.85, 85.9, 107.95, 19.3, 108.5, 86.05, 24.4, 19.75, 34.65, 81.3, 25.2, 92.4, 44.65, 19.65, 98.7, 20.3, 81.8, 91.4, 44.85, 50.7, 106.4, 59.25, 74.35, 20.65, 75.2, 89.45, 44.35, 97.0, 101.05, 19.5, 20.55, 84.05, 70.2, 35.45, 54.4, 55.25, 99.25, 73.9, 24.05, 53.15, 98.0, 60.0, 20.25, 84.6, 96.75, 64.1, 35.65, 70.2, 74.8, 89.7, 89.25, 90.6, 99.05, 50.8, 74.2, 20.5, 25.05, 87.2, 114.1, 94.8, 78.45, 45.85, 19.85, 19.9, 24.45, 108.1, 85.7, 95.4, 113.65, 95.15, 100.65, 24.6, 114.3, 101.3, 19.55, 19.4, 19.95, 19.45, 19.25, 95.6, 82.65, 100.05, 23.6, 110.5, 24.6, 24.45, 106.35, 19.55, 84.8, 44.95, 94.8, 68.85, 86.85, 56.25, 109.85, 89.1, 60.65, 94.55, 20.85, 80.1, 71.0, 108.5, 99.65, 85.5, 55.5, 69.8, 20.05, 20.05, 100.75, 85.35, 77.95, 56.25, 96.55, 68.6, 101.4, 85.1, 19.9, 80.7, 20.55, 90.05, 76.0, 20.0, 89.45, 85.65, 83.25, 59.5, 20.15, 20.35, 20.1, 108.4, 69.6, 116.5, 69.4, 29.75, 85.25, 75.3, 80.45, 54.65, 117.8, 33.65, 51.35, 24.1, 99.15, 96.0, 44.55, 19.25, 25.25, 20.85, 60.25, 80.55, 19.75, 100.05, 99.1, 20.15, 85.8, 108.45, 69.75, 49.2, 89.25, 107.5, 82.65, 19.45, 26.9, 30.15, 19.55, 92.45, 77.95, 61.9, 82.95, 24.75, 70.1, 78.95, 55.0, 25.1, 20.45, 24.8, 101.35, 84.3, 99.15, 50.6, 80.6, 85.95, 44.25, 45.45, 74.5, 76.75, 65.6, 90.1, 30.5, 86.05, 54.4, 54.6, 107.6, 85.4, 80.55, 49.5, 20.45, 104.4, 44.3, 24.9, 20.85, 89.6, 54.1, 43.35, 95.95, 20.05, 69.8, 73.35, 105.5, 99.5, 112.55, 66.05, 102.45, 20.9, 109.25, 20.55, 111.95, 85.75, 29.3, 20.35, 85.35, 19.55, 25.15, 50.15, 84.65, 79.25, 20.9, 69.65, 89.2, 67.85, 95.7, 19.7, 88.0, 62.1, 24.75, 61.6, 79.35, 55.8, 73.55, 69.1, 75.2, 64.8, 45.95, 87.35, 78.8, 75.2, 19.6, 74.6, 116.45, 80.25, 19.4, 66.75, 35.25, 68.95, 24.1, 84.1, 83.85, 100.65, 100.9, 34.7, 74.2, 79.85, 20.2, 49.05, 84.05, 85.2, 89.1, 81.9, 75.45, 38.25, 100.05, 84.35, 61.55, 64.2, 81.0, 109.65, 100.45, 93.85, 60.0, 19.65, 19.6, 19.6, 44.15, 99.8, 94.55, 116.6, 50.6, 19.65, 111.4, 48.6, 19.8, 76.45, 19.7, 80.45, 86.05, 69.95, 20.4, 49.15, 19.6, 20.65, 79.15, 64.55, 73.15, 75.85, 19.4, 81.5, 18.8, 24.8, 19.6, 55.3, 84.5, 20.35, 19.35, 49.25, 71.35, 70.0, 70.05, 19.8, 24.25, 93.5, 110.5, 69.9, 43.75, 86.9, 19.6, 25.7, 78.8, 25.6, 100.5, 19.1, 42.35, 81.0, 93.5, 91.35, 20.1, 63.05, 19.1, 88.8, 18.95, 60.05, 54.75, 44.75, 49.4, 70.3, 79.85, 20.65, 89.95, 81.05, 50.15, 70.7, 101.75, 84.8, 89.55, 49.45, 60.0, 19.25, 70.3, 104.65, 20.05, 20.25, 94.7, 104.05, 101.4, 80.35, 44.95, 94.65, 101.25, 94.25, 39.1, 90.8, 79.25, 84.25, 110.65, 88.2, 105.75, 91.95, 107.55, 104.95, 86.45, 30.75, 64.1, 66.25, 20.05, 49.85, 49.2, 90.1, 88.4, 45.05, 20.35, 19.65, 19.95, 59.0, 70.15, 89.7, 49.25, 79.35, 20.65, 102.55, 25.0, 104.75, 24.3, 106.5, 89.45, 19.7, 29.85, 47.85, 29.45, 106.1, 112.95, 90.55, 20.3, 108.1, 20.05, 19.9, 44.8, 35.2, 99.0, 78.85, 83.3, 80.95, 74.45, 20.2, 20.05, 48.8, 70.75, 79.85, 25.4, 20.4, 93.6, 65.25, 94.4, 100.7, 64.5, 71.6, 100.25, 19.45, 109.9, 19.4, 74.45, 19.0, 19.85, 49.15, 44.9, 70.05, 80.1, 29.9, 85.65, 55.7, 92.9, 90.05, 74.4, 34.0, 100.1, 79.9, 20.6, 114.85, 49.55, 104.8, 105.2, 20.65, 21.3, 20.1, 78.1, 19.4, 60.25, 104.05, 19.8, 23.85, 94.25, 24.25, 54.8, 75.8, 44.3, 98.7, 81.2, 51.1, 82.3, 25.7, 45.4, 55.15, 19.75, 25.15, 20.65, 75.7, 49.85, 74.45, 56.05, 19.35, 20.55, 64.85, 80.6, 20.15, 85.6, 95.0, 106.35, 55.15, 105.4, 46.0, 53.6, 94.05, 30.2, 69.1, 44.6, 117.5, 44.65, 20.5, 110.8, 105.0, 61.55, 110.25, 94.35, 25.15, 95.3, 85.9, 64.65, 55.65, 95.1, 20.1, 64.4, 94.3, 50.75, 20.55, 19.75, 94.6, 20.55, 73.0, 104.75, 50.3, 72.1, 19.9, 20.55, 56.25, 46.2, 26.35, 19.1, 60.3, 24.85, 55.3, 35.1, 58.2, 70.4, 54.75, 40.2, 19.95, 19.65, 95.0, 80.75, 69.85, 25.3, 26.0, 100.1, 54.75, 19.6, 103.95, 74.95, 20.15, 35.3, 67.45, 105.35, 69.7, 104.5, 19.75, 75.0, 20.05, 70.15, 100.15, 36.0, 98.35, 19.7, 78.85, 50.5, 80.9, 89.55, 60.65, 114.75, 76.95, 73.85, 80.3, 20.95, 90.4, 75.75, 91.2, 62.8, 71.4, 66.2, 100.2, 49.45, 95.2, 19.4, 91.25, 85.2, 104.05, 78.95, 54.45, 25.0, 89.75, 107.95, 109.75, 25.25, 70.9, 80.55, 47.6, 85.25, 84.55, 88.95, 105.9, 89.8, 84.75, 82.45, 61.3, 29.95, 84.0, 90.4, 65.15, 19.5, 20.65, 84.95, 29.15, 92.5, 49.75, 20.75, 55.5, 19.55, 55.45, 43.9, 106.5, 111.45, 20.1, 58.6, 102.1, 20.0, 105.65, 51.0, 69.35, 93.5, 48.55, 109.8, 24.85, 20.25, 24.5, 67.95, 49.9, 21.45, 23.55, 62.05, 54.9, 83.2, 75.55, 107.75, 47.8, 86.8, 74.35, 50.9, 49.9, 20.55, 68.75, 89.05, 85.45, 95.25, 79.0, 57.2, 80.25, 50.75, 75.15, 55.8, 20.15, 99.25, 70.9, 108.55, 115.85, 80.15, 74.75, 108.2, 103.75, 25.5, 102.6, 20.05, 75.05, 60.95, 100.3, 93.05, 70.5, 69.35, 85.9, 87.75, 80.25, 20.05, 100.2, 106.45, 70.5, 33.75, 83.95, 72.25, 79.85, 63.9, 84.8, 100.3, 49.65, 103.25, 70.35, 79.6, 73.8, 85.85, 49.25, 85.35, 55.0, 59.65, 90.6, 65.65, 21.1, 51.65, 65.4, 90.4, 64.4, 59.0, 64.75, 97.95, 55.3, 109.8, 64.45, 108.65, 74.75, 79.9, 95.9, 104.8, 95.25, 75.1, 64.9, 100.85, 95.45, 66.3, 94.65, 100.6, 104.85, 20.2, 20.25, 60.75, 53.75, 45.25, 101.05, 59.8, 45.4, 84.05, 90.65, 59.5, 109.95, 69.85, 75.5, 61.35, 100.55, 86.1, 50.05, 110.1, 20.2, 88.65, 95.1, 82.65, 90.35, 53.65, 61.5, 20.5, 96.1, 104.35, 66.9, 89.5, 53.45, 61.75, 89.85, 69.15, 106.0, 84.5, 51.45, 19.7, 89.0, 103.1, 30.2, 20.0, 44.15, 46.05, 19.6, 75.75, 93.4, 100.9, 35.75, 59.0, 73.65, 25.45, 96.55, 68.1, 80.45, 20.15, 19.85, 74.1, 91.6, 69.9, 69.7, 20.25, 76.15, 69.05, 40.7, 92.0, 108.2, 72.8, 78.95, 29.35, 50.4, 19.55, 94.7, 85.95, 25.0, 50.6, 76.4, 19.6, 80.4, 64.2, 96.35, 20.15, 99.65, 110.65, 75.5, 49.95, 60.15, 86.4, 79.75, 81.15, 65.65, 61.4, 69.15, 78.65, 25.15, 85.2, 65.05, 24.05, 89.55, 78.6, 25.15, 86.5, 94.25, 60.65, 69.5, 81.6, 85.65, 45.5, 57.6, 68.65, 69.1, 59.6, 99.85, 19.9, 20.15, 20.45, 20.8, 78.75, 20.85, 110.15, 24.95, 20.05, 102.1, 24.35, 96.75, 19.55, 19.9, 105.95, 84.8, 54.55, 43.05, 69.1, 53.1, 75.45, 90.0, 20.65, 89.25, 89.55, 99.55, 111.15, 84.85, 41.15, 104.65, 20.8, 19.9, 101.3, 79.6, 85.15, 89.75, 70.1, 97.55, 94.8, 94.2, 44.55, 19.0, 56.1]}, {\"name\": \"TotalCharges\", \"type\": \"box\", \"y\": [8306.05, 541.5, 853.0, 131.05, 2298.9, 6849.4, 5832.65, 98.5, 91.7, 232.5, 79.6, 739.35, 3769.7, 7149.35, 2134.3, 1183.8, 4040.65, 5869.4, 2188.45, 4900.65, 308.1, 20.25, 1169.35, 1222.8, 1299.8, 5961.1, 4299.75, 1374.2, 4508.65, 7104.2, 2658.8, 581.7, 5882.75, 1570.7, 4517.25, 44.05, 7250.15, 670.65, 678.2, 4747.85, 6332.75, 248.4, 137.6, 471.35, 375.25, 1081.25, 1640.0, 1193.55, 5409.75, 1108.0, 4845.4, 4929.55, 3055.5, 7689.8, 3510.3, 750.1, 267.35, 1087.7, 74.45, 967.9, 24.8, 552.95, 1729.35, 1295.4, 2804.45, 3238.4, 5560.0, 717.95, 7845.8, 369.1, 146.9, 1064.95, 38.0, 84.75, 7751.7, 74.7, 1509.9, 130.1, 5357.75, 794.25, 20.75, 237.95, 1474.35, 144.95, 2538.2, 2628.6, 1058.1, 4577.75, 2642.05, 1110.05, 3211.2, 1648.45, 206.15, 5817.7, 1416.75, 682.1, 214.4, 456.85, 2406.1, 765.45, 3833.95, 3838.2, 6056.15, 6350.5, 1348.9, 1701.65, 1431.65, 1048.85, 1024.7, 2555.05, 1126.75, 5364.8, 266.8, 4122.9, 4060.55, 2448.5, 1685.9, 1667.25, 2146.5, 5812.6, 4613.95, 541.15, 1905.4, 273.2, 162.15, 45.0, 2917.65, 845.6, 3187.65, 920.5, 74.2, 1664.3, 2789.7, 3834.4, 1643.55, 96.1, 4045.65, 3004.15, 2494.65, 153.3, 4868.4, 6017.9, 1471.75, 3930.6, 58.85, 1218.55, 357.0, 7723.9, 1654.6, 911.6, 1077.95, 755.6, 75.3, 385.0, 1873.7, 1505.45, 167.5, 590.35, 19.6, 1217.25, 6328.7, 6770.5, 3143.65, 5129.3, 5168.1, 2696.55, 6096.9, 3250.45, 44.0, 1326.25, 19.4, 4025.5, 653.95, 1671.6, 2961.4, 1203.9, 1004.75, 701.3, 81.25, 6910.3, 485.25, 5774.55, 3706.95, 2369.05, 1704.95, 4671.65, 141.1, 1025.05, 2877.05, 1225.65, 4122.65, 2964.0, 1388.0, 2333.85, 4275.75, 195.05, 1752.65, 935.9, 3187.65, 2011.4, 6613.65, 3000.25, 812.5, 346.4, 1293.8, 4273.45, 505.95, 8529.5, 387.4, 250.1, 116.95, 6068.65, 3886.05, 345.9, 7922.75, 19.45, 4804.65, 226.55, 617.15, 6886.25, 6137.0, 1588.7, 1212.25, 99.45, 1375.6, 4063.0, 272.2, 4911.05, 1797.1, 6700.05, 153.05, 2983.65, 1587.55, 3771.5, 85.5, 140.4, 341.45, 4226.7, 1021.75, 593.45, 144.8, 1537.9, 815.55, 679.55, 5276.1, 308.7, 3988.5, 417.5, 4689.5, 71.65, 1544.05, 896.75, 5706.3, 164.85, 4854.3, 944.65, 764.95, 1686.15, 24.0, 3361.05, 5861.75, 856.65, 49.8, 3247.55, 260.7, 1043.3, 1821.95, 70.8, 520.1, 1404.65, 320.45, 6223.3, 19.75, 38.45, 3715.65, 220.95, 1173.55, 6201.95, 1387.35, 165.45, 3593.8, 4144.9, 3616.25, 29.15, 903.6, 1411.2, 1857.3, 7895.15, 5514.95, 548.9, 4830.25, 403.15, 3562.5, 3952.45, 2537.0, 708.8, 3801.7, 3582.4, 85.0, 20.5, 3990.75, 76.4, 555.4, 1259.0, 735.5, 2606.35, 592.65, 1423.35, 2540.1, 4858.7, 5629.55, 1886.25, 179.85, 955.15, 6444.05, 702.9, 3645.5, 2257.75, 899.45, 159.15, 3950.85, 1882.8, 20.05, 2379.1, 2259.35, 6314.35, 1369.8, 5264.5, 130.75, 1732.95, 6603.8, 2830.45, 1545.4, 242.0, 365.8, 2633.3, 5511.65, 165.2, 2298.55, 433.5, 85.0, 330.25, 55.7, 3014.65, 7878.3, 2435.15, 3043.7, 2357.75, 835.5, 2854.95, 1157.05, 923.85, 757.1, 5083.55, 7348.8, 2030.3, 531.6, 6689.0, 3527.0, 5708.2, 2425.4, 219.5, 5718.2, 4138.05, 1495.1, 1234.6, 184.15, 2078.95, 235.65, 5016.25, 4214.25, 328.95, 1402.25, 2813.05, 74.35, 1308.1, 2524.45, 740.0, 3580.3, 219.0, 4097.05, 107.1, 6077.75, 7517.7, 1549.75, 7657.4, 5500.6, 67.1, 78.9, 1927.3, 446.05, 321.05, 1583.5, 122.0, 996.95, 7616.0, 1533.8, 2136.9, 542.4, 2497.2, 122.7, 1133.9, 480.75, 198.25, 6719.9, 1164.3, 676.15, 318.1, 88.35, 321.4, 5231.3, 1547.35, 84.6, 2730.85, 1902.0, 2447.45, 424.5, 2937.65, 1121.05, 1712.7, 3966.3, 789.55, 1191.2, 1391.65, 5471.75, 5163.3, 436.2, 1928.7, 245.15, 2907.35, 217.1, 4391.25, 2939.8, 6375.8, 6819.45, 2448.75, 57.4, 3959.35, 20.4, 233.9, 1601.2, 233.7, 2839.65, 156.35, 1113.95, 1422.05, 3765.05, 1743.05, 7227.45, 251.6, 275.9, 19.3, 4300.45, 6586.85, 7028.5, 568.85, 5610.15, 581.7, 580.1, 1857.25, 82.85, 2424.5, 3366.05, 5899.85, 528.35, 1451.1, 44.55, 20.25, 524.5, 686.95, 3888.65, 7111.3, 3161.6, 1625.65, 2960.1, 469.85, 75.75, 1866.45, 883.35, 961.4, 2029.05, 108.05, 3608.0, 3603.45, 673.25, 825.7, 84.2, 2212.55, 930.45, 541.9, 1513.6, 5731.45, 3488.15, 2276.95, 69.35, 629.35, 1502.25, 20.2, 4786.15, 980.35, 2680.15, 4586.15, 4264.0, 4284.8, 4017.45, 958.1, 718.1, 6302.85, 3958.25, 5624.85, 6171.2, 2109.35, 340.25, 475.0, 805.2, 2718.3, 2354.8, 7493.05, 19.95, 109.2, 1306.3, 5935.1, 2172.05, 6856.45, 892.65, 825.4, 506.9, 288.05, 3190.65, 6126.15, 641.25, 5981.65, 1148.1, 74.9, 6786.1, 1070.25, 174.2, 2082.95, 318.5, 564.35, 94.0, 218.55, 6506.15, 654.55, 1326.35, 383.65, 486.05, 5956.85, 1861.1, 2636.05, 2351.45, 144.55, 6164.7, 19.05, 5817.45, 497.3, 347.25, 6794.75, 877.35, 3682.45, 1226.45, 190.5, 19.55, 3357.9, 411.15, 1011.8, 554.25, 2879.9, 2421.75, 644.5, 667.7, 20.85, 384.25, 772.85, 1379.6, 7334.05, 672.7, 41.85, 162.45, 156.85, 295.95, 3011.65, 6669.45, 729.95, 71.1, 5135.35, 1864.2, 1790.35, 335.65, 2610.65, 4808.7, 4263.4, 1029.35, 90.85, 82.15, 2460.55, 890.5, 3928.3, 2509.95, 1035.5, 4619.55, 521.9, 488.25, 20.2, 187.35, 2303.35, 754.0, 6632.75, 740.55, 209.1, 419.4, 3645.05, 7723.7, 518.75, 1341.5, 2513.5, 1364.3, 235.1, 70.15, 1734.5, 1170.55, 5655.45, 347.4, 185.6, 8309.55, 1023.85, 1358.85, 2368.4, 401.85, 4025.6, 2657.55, 469.65, 1214.05, 7985.9, 3789.2, 7576.7, 438.4, 1032.05, 7795.95, 676.35, 3778.1, 1460.85, 5461.45, 2832.75, 324.8, 2169.8, 255.55, 2780.6, 2934.3, 2401.05, 999.45, 3649.6, 5215.1, 1336.8, 3958.2, 261.25, 2656.7, 7467.55, 69.9, 498.25, 1660.0, 4284.2, 612.1, 562.6, 6017.65, 5071.05, 368.85, 72.1, 4977.2, 2162.6, 4309.55, 1652.95, 7544.3, 964.9, 1393.6, 4062.2, 216.75, 1414.8, 930.4, 57.2, 5329.55, 696.8, 461.7, 1414.45, 6424.25, 202.25, 2743.45, 3273.55, 1215.45, 7713.55, 1700.9, 1029.8, 5528.9, 105.6, 401.5, 307.6, 7534.65, 493.4, 3297.0, 3436.1, 297.35, 260.9, 84.85, 4113.1, 316.2, 681.4, 3597.5, 255.5, 3092.65, 7299.65, 1630.4, 4265.0, 713.6, 106.2, 1172.95, 4408.45, 89.25, 2570.0, 475.7, 713.75, 96.45, 344.5, 4527.45, 6615.15, 1051.05, 2317.1, 3475.55, 4687.9, 83.4, 60.1, 2692.75, 6895.5, 1493.75, 2001.0, 39.8, 4837.6, 784.45, 219.35, 1815.0, 6300.15, 6449.15, 685.55, 163.55, 1177.95, 1045.25, 5776.45, 390.4, 364.55, 4914.9, 5661.7, 71.0, 156.4, 97.1, 494.05, 6859.05, 183.15, 3007.25, 3457.9, 270.6, 630.6, 7245.9, 1766.75, 3042.25, 1058.25, 7386.05, 54.35, 37.2, 149.55, 20.75, 1161.75, 908.15, 19.3, 339.9, 55.7, 2684.85, 692.35, 6004.85, 1405.3, 4528.0, 1023.75, 413.0, 531.15, 2068.55, 20.4, 5737.6, 6179.35, 1990.5, 649.4, 2471.6, 399.6, 93.4, 204.7, 3532.85, 84.4, 300.4, 738.2, 1083.7, 280.4, 50.8, 80.55, 23.45, 49.9, 44.7, 4068.0, 6225.4, 369.3, 477.6, 74.9, 2919.85, 2640.55, 150.0, 2180.55, 899.8, 560.6, 422.7, 4224.7, 2640.55, 3270.25, 44.65, 5125.5, 38.8, 1622.45, 1423.65, 1378.25, 4186.3, 70.85, 307.4, 4447.75, 4016.2, 7039.05, 5714.2, 1429.65, 1411.65, 250.05, 4953.25, 7491.75, 117.05, 1433.8, 2896.55, 1023.95, 244.45, 162.3, 49.95, 5611.7, 1304.8, 2090.25, 893.55, 226.2, 383.65, 298.45, 909.25, 5673.7, 1507.0, 3470.8, 92.05, 1498.65, 414.1, 926.2, 832.3, 446.1, 817.95, 2545.75, 6046.1, 7862.25, 4555.2, 1441.8, 3996.8, 3139.8, 20.7, 4667.0, 1730.65, 167.3, 3147.15, 1522.7, 4515.85, 24.25, 7555.0, 6227.5, 7159.7, 5290.45, 7920.7, 204.55, 20.2, 7852.4, 154.65, 5067.45, 5127.95, 6205.5, 1375.4, 865.8, 7939.25, 1263.9, 3509.4, 452.2, 6333.4, 1442.0, 896.9, 879.8, 6440.25, 212.4, 69.8, 1177.05, 6779.05, 154.8, 18.85, 63.0, 6725.3, 5373.1, 330.05, 48.6, 821.6, 2724.25, 194.55, 1096.6, 3946.9, 2669.45, 7133.1, 7156.2, 1782.4, 5468.95, 2473.95, 1001.2, 4535.85, 547.8, 172.35, 5969.3, 2624.25, 5618.3, 3941.7, 600.15, 5711.05, 89.3, 3237.05, 5835.5, 35.05, 74.35, 666.0, 3431.75, 4026.4, 7719.5, 6703.5, 262.05, 2751.0, 982.95, 6253.0, 4322.85, 84.3, 5811.8, 2184.35, 6383.35, 61.05, 153.8, 6066.55, 4738.3, 6293.45, 77.75, 6145.2, 6780.1, 432.25, 1312.45, 3751.15, 50.6, 145.15, 475.1, 2599.95, 973.1, 2263.4, 20.95, 4054.2, 1115.15, 951.55, 2907.55, 71.55, 78.95, 5427.05, 239.05, 8041.65, 71.1, 1532.45, 79.9, 695.85, 6860.6, 1178.25, 334.8, 1718.95, 45.1, 4137.2, 1238.65, 3019.7, 7108.2, 6140.85, 2181.75, 4300.8, 507.9, 1153.25, 1151.55, 7774.05, 830.25, 264.85, 409.9, 3005.8, 19.5, 730.1, 3491.55, 6875.35, 6758.45, 1747.85, 371.9, 3880.05, 4689.15, 4179.1, 5443.65, 1579.7, 6692.65, 1174.8, 109.6, 609.1, 3314.15, 2036.55, 1311.6, 44.45, 683.25, 69.9, 1738.9, 1681.6, 1081.45, 2697.4, 5936.55, 1074.3, 2768.65, 220.65, 5237.4, 2576.8, 1031.1, 19.9, 835.15, 1175.85, 833.55, 4730.6, 70.2, 193.6, 6000.1, 2433.5, 2613.4, 999.8, 8312.4, 781.4, 715.0, 69.6, 1534.05, 483.15, 647.5, 195.3, 1230.9, 1129.75, 7171.7, 3122.4, 123.65, 1816.75, 749.35, 467.15, 461.3, 1384.75, 3321.35, 166.3, 6687.85, 2070.6, 5308.7, 69.65, 69.15, 70.6, 4793.8, 2985.25, 1794.65, 220.45, 1336.15, 1222.65, 5265.5, 8192.6, 19.75, 4920.55, 6038.55, 664.4, 454.0, 6413.65, 345.5, 3953.7, 2585.95, 852.7, 415.55, 278.85, 1584.8, 5749.8, 4131.2, 6479.4, 1097.15, 1316.9, 6339.3, 1802.15, 481.1, 6405.0, 360.1, 1859.1, 95.0, 1114.85, 141.6, 4295.35, 238.5, 2433.9, 1319.85, 3180.5, 912.0, 1875.55, 45.25, 79.95, 18.9, 692.55, 1082.75, 7942.15, 1261.7, 242.8, 79.5, 310.6, 1003.05, 4520.15, 1261.45, 1079.05, 6503.2, 1235.55, 259.4, 45.3, 420.2, 819.55, 6075.9, 2033.85, 1036.75, 1743.9, 3409.1, 1426.4, 7707.7, 2673.45, 196.35, 49.85, 1338.15, 1715.15, 50.75, 321.9, 1070.7, 4888.7, 69.85, 4191.45, 426.35, 1712.9, 272.15, 1345.75, 1035.7, 1430.95, 147.8, 1011.05, 1502.65, 111.4, 1652.4, 1880.85, 289.1, 6521.9, 5475.9, 6129.65, 167.3, 117.95, 2012.7, 2365.15, 8477.7, 592.75, 964.35, 4464.8, 1893.5, 654.85, 1816.2, 112.75, 1784.9, 2790.65, 1514.85, 2911.5, 169.75, 2010.55, 1278.8, 454.05, 2139.1, 4982.5, 720.1, 1611.65, 1152.8, 857.25, 6841.3, 4507.15, 341.35, 2395.7, 189.95, 372.45, 86.6, 75.9, 1093.1, 2545.7, 3152.5, 127.1, 1444.05, 161.45, 41.85, 1328.35, 497.6, 553.0, 2293.6, 5958.85, 3046.4, 4018.35, 4016.75, 1253.15, 1279.0, 762.25, 855.3, 170.85, 2884.9, 299.2, 762.45, 5265.1, 827.45, 287.85, 54.3, 6979.8, 40.9, 1345.65, 32.7, 4039.3, 155.65, 1794.8, 228.0, 700.45, 2727.8, 1303.5, 343.45, 3634.8, 152.3, 6921.7, 836.35, 235.0, 1680.25, 6937.95, 5812.0, 3877.95, 503.6, 2549.1, 1444.65, 639.65, 4318.35, 3794.5, 318.9, 3124.5, 19.2, 1086.75, 926.25, 253.8, 139.05, 4735.35, 973.55, 1432.55, 217.5, 56.0, 1654.75, 478.75, 6985.65, 115.95, 183.75, 49.7, 140.95, 1139.2, 2603.3, 20.0, 229.55, 257.05, 44.9, 1834.15, 82.85, 69.5, 793.55, 5299.65, 1205.5, 4236.6, 778.1, 2570.2, 5728.55, 844.45, 80.15, 539.85, 861.85, 519.15, 70.0, 3985.35, 150.6, 3358.65, 958.15, 2196.3, 1134.25, 135.2, 2317.1, 810.85, 59.55, 2471.25, 6292.7, 8022.85, 6688.1, 6721.6, 250.8, 1066.9, 19.75, 1021.8, 5437.75, 24.75, 54.5, 475.25, 3958.85, 357.75, 504.2, 1119.35, 1430.25, 2747.2, 49.25, 3349.1, 2398.4, 1618.2, 20.6, 50.1, 2868.05, 4872.2, 5744.35, 7782.85, 19.7, 3306.85, 147.15, 5153.5, 4494.65, 5705.05, 1620.8, 3442.8, 7965.95, 2010.95, 6230.1, 40.1, 223.9, 68.75, 6001.45, 4140.1, 81.1, 2653.65, 3753.2, 4029.95, 83.75, 533.9, 102.75, 1375.6, 1462.05, 238.1, 1022.5, 1808.7, 809.25, 1147.85, 2277.65, 420.45, 5484.4, 8250.0, 208.0, 79.65, 70.05, 45.05, 2796.45, 1745.2, 1296.15, 6744.2, 1377.7, 106.55, 70.45, 64.55, 49.65, 4754.3, 2107.15, 196.9, 404.35, 2220.1, 8312.75, 1288.3, 4748.7, 6654.1, 4443.45, 668.4, 55.8, 6851.65, 1198.8, 70.45, 90.05, 6563.4, 2862.75, 3870.0, 353.65, 550.35, 6518.35, 669.85, 2441.7, 1505.85, 730.4, 1028.75, 816.8, 613.95, 1932.75, 2072.75, 1261.0, 564.4, 6590.5, 3687.85, 1561.5, 4228.55, 62.9, 442.85, 6529.25, 669.45, 24.2, 2239.4, 2728.6, 846.8, 3089.1, 5878.9, 8289.2, 3413.25, 333.55, 605.75, 44.4, 165.35, 4282.4, 1386.8, 321.65, 190.25, 445.85, 4447.55, 3580.95, 1325.85, 1553.2, 1307.8, 4287.2, 1737.45, 5720.35, 1090.6, 6365.35, 8129.3, 5150.55, 1447.9, 5496.9, 275.4, 1993.25, 1564.05, 45.55, 928.4, 1715.1, 900.5, 124.45, 2868.15, 1043.3, 7679.65, 69.75, 893.0, 522.35, 470.6, 436.9, 6589.6, 5755.8, 3119.9, 24.05, 1912.15, 5980.75, 1750.85, 402.85, 19.75, 2638.1, 20.05, 402.5, 289.3, 304.6, 216.9, 1115.2, 6252.7, 5448.6, 1145.7, 29.7, 4917.75, 1442.6, 7567.2, 4367.35, 5574.35, 711.9, 4750.95, 1160.45, 288.35, 727.8, 150.85, 227.35, 4370.75, 2007.85, 5437.1, 1317.95, 7661.8, 2603.95, 5890.0, 344.2, 4983.05, 3877.65, 5165.7, 2835.5, 45.3, 74.6, 5508.35, 69.85, 7337.55, 89.35, 3848.8, 119.3, 1725.95, 44.0, 466.6, 2911.3, 5135.15, 1426.75, 2757.85, 5186.0, 200.2, 4133.95, 101.9, 101.65, 184.4, 113.35, 1130.85, 94.6, 134.7, 229.4, 2021.2, 370.25, 847.25, 2434.45, 6143.15, 1458.1, 3409.6, 2499.3, 1043.35, 3121.4, 7459.0, 4862.5, 4526.85, 54.75, 111.05, 7898.45, 1394.55, 1493.1, 551.95, 866.45, 2568.15, 684.4, 4653.85, 624.6, 2076.2, 1931.75, 1207.0, 4149.45, 2032.3, 1149.65, 716.1, 1270.25, 235.05, 1275.6, 249.4, 94.4, 7285.7, 2658.4, 5950.2, 2965.75, 3342.0, 8349.45, 103.7, 190.05, 36.55, 518.3, 918.75, 2283.15, 4092.85, 3994.05, 1725.0, 2649.15, 44.75, 930.9, 340.35, 5036.3, 683.25, 767.9, 25.25, 348.15, 6224.8, 1702.9, 1167.8, 4512.7, 272.0, 21.1, 4146.05, 70.05, 732.5, 874.8, 697.25, 4234.15, 1982.1, 755.5, 5435.6, 53.15, 8182.85, 1010.0, 4448.8, 185.4, 91.7, 1505.05, 475.2, 2117.2, 299.7, 6293.2, 7993.3, 6876.05, 189.2, 7396.15, 943.0, 522.95, 6792.45, 4991.5, 160.05, 19.45, 653.15, 19.55, 350.3, 7880.25, 267.4, 442.6, 19.75, 44.0, 898.35, 2719.2, 20.2, 552.65, 511.25, 20.15, 19.65, 7521.95, 135.75, 1494.5, 1414.2, 2203.1, 470.2, 1434.1, 1131.2, 4740.0, 298.35, 3762.0, 417.65, 5542.55, 1374.9, 1855.65, 143.65, 528.45, 2651.2, 292.8, 8496.7, 3097.0, 545.15, 1490.95, 5219.65, 3090.65, 2564.3, 2208.75, 139.25, 43.95, 6342.7, 383.65, 2633.95, 1500.25, 1269.1, 2763.0, 49.0, 2888.7, 548.8, 4510.8, 2862.55, 7061.65, 1364.75, 5017.9, 419.7, 168.2, 2076.05, 7303.05, 874.2, 867.3, 1020.75, 6010.05, 1055.9, 2989.6, 8127.6, 1520.9, 612.95, 184.1, 1564.4, 104.2, 1375.6, 2479.05, 7320.9, 3182.95, 530.05, 4671.7, 4113.7, 3008.55, 83.3, 1245.05, 2626.15, 1593.1, 5251.75, 3183.4, 52.0, 5121.3, 5997.1, 217.45, 4869.35, 7982.5, 1923.85, 35.75, 3921.1, 1079.65, 49.9, 1094.35, 6588.95, 399.25, 4931.8, 1206.05, 2596.15, 5893.15, 5149.5, 5963.95, 315.3, 7581.5, 3635.15, 886.7, 101.45, 155.35, 534.7, 147.75, 810.3, 1305.95, 68.35, 1082.8, 25.05, 8476.5, 1750.7, 6411.25, 1830.05, 20.3, 452.8, 48.45, 467.55, 455.3, 8109.8, 3674.95, 35.0, 19.75, 2309.55, 788.35, 1423.85, 73.55, 309.4, 8399.15, 1665.2, 1706.45, 529.8, 1054.75, 7173.15, 20.05, 404.2, 695.75, 52.0, 2351.8, 1732.6, 2070.75, 470.2, 70.6, 76.35, 19.45, 1706.45, 4484.05, 5376.4, 4599.15, 1424.2, 5333.35, 181.1, 20.25, 45.3, 191.05, 483.3, 3735.45, 320.4, 362.6, 74.45, 1267.2, 4916.4, 306.6, 1406.0, 5445.95, 600.0, 4138.7, 1600.25, 2386.85, 434.5, 3973.2, 4331.4, 5175.3, 1559.3, 151.3, 791.15, 5794.65, 929.45, 165.5, 5762.95, 731.3, 144.35, 3462.1, 158.35, 2854.55, 70.65, 1910.75, 171.0, 4155.95, 20.6, 6388.65, 3013.05, 1710.9, 6951.15, 6067.4, 5914.4, 1131.3, 21.0, 8310.55, 613.4, 307.4, 2602.9, 4458.15, 908.75, 57.5, 5330.2, 876.15, 5485.5, 3741.85, 4904.2, 141.45, 115.1, 2966.95, 44.4, 5293.95, 3027.65, 784.25, 178.1, 3974.15, 1796.55, 146.6, 2802.3, 5431.9, 858.6, 1793.25, 1956.4, 1985.15, 764.55, 329.95, 1442.2, 3205.6, 245.2, 1332.4, 3112.05, 1641.3, 2347.9, 100.9, 5794.45, 4052.4, 5515.45, 2313.8, 73.45, 3201.55, 4513.65, 1174.35, 303.15, 370.65, 7530.8, 5305.05, 8166.8, 58.3, 5013.0, 5549.4, 174.75, 3077.0, 1229.1, 973.65, 994.55, 2169.4, 295.55, 178.7, 443.9, 301.55, 58.0, 1424.5, 1565.7, 931.55, 5360.75, 990.3, 8425.3, 193.05, 184.95, 5893.95, 19.75, 184.65, 838.7, 414.95, 237.65, 1242.45, 1445.3, 302.45, 4902.8, 1057.85, 6643.5, 1436.95, 90.35, 5231.2, 4307.1, 4299.2, 2625.25, 2337.45, 2248.05, 3221.25, 1115.6, 4509.5, 7382.25, 1359.7, 1105.4, 1387.0, 651.55, 352.65, 8331.95, 1396.25, 8058.55, 1297.35, 7589.8, 332.5, 4362.05, 1677.85, 2627.2, 2338.35, 4368.85, 5265.55, 503.25, 6741.15, 181.6, 4528.0, 2193.65, 1235.55, 5918.8, 7674.55, 2080.1, 2566.5, 7372.65, 1022.95, 33.6, 7565.35, 485.9, 2423.4, 73.05, 3186.65, 543.0, 20.35, 1285.8, 1356.3, 573.15, 6638.35, 3624.3, 2188.5, 5757.2, 6373.1, 831.75, 86.05, 910.45, 1242.25, 1052.4, 3842.6, 4070.95, 1391.15, 2597.6, 97.5, 1406.65, 69.95, 1723.95, 1013.2, 7047.5, 2007.25, 6668.35, 512.25, 7220.35, 6557.75, 1787.35, 2000.2, 340.4, 593.75, 42.9, 6652.45, 653.9, 5458.8, 940.35, 997.65, 1221.55, 24.45, 1425.45, 1031.4, 4483.95, 2511.55, 3694.45, 3019.5, 4990.25, 1167.8, 1463.45, 383.55, 241.3, 1551.6, 1093.0, 869.9, 71.0, 6014.85, 447.75, 1212.1, 3369.25, 356.1, 394.1, 2762.75, 6480.9, 943.1, 865.05, 1345.85, 63.75, 74.0, 4263.45, 3533.6, 773.2, 804.85, 47.7, 186.3, 4749.15, 1337.5, 145.4, 990.9, 892.15, 1529.2, 95.65, 392.5, 284.35, 1012.4, 193.6, 146.65, 4824.45, 3210.35, 840.1, 181.65, 3326.2, 1111.2, 2723.15, 46.2, 3527.6, 2044.95, 4192.15, 1151.05, 218.5, 471.85, 1171.3, 3815.4, 1454.15, 2180.55, 298.7, 3371.0, 5576.3, 186.15, 888.75, 6705.7, 688.65, 1834.95, 84.5, 5522.7, 620.75, 1975.85, 3532.25, 246.3, 6310.9, 1842.7, 970.4, 4016.3, 2572.95, 5375.15, 46.4, 4812.75, 1258.6, 2727.3, 8220.4, 5883.85, 89.9, 3708.4, 4968.0, 3886.85, 61.15, 4925.35, 3478.75, 5283.95, 3479.05, 2003.6, 6822.15, 1336.1, 96.85, 6725.5, 3090.05, 5588.8, 5138.1, 6079.0, 3626.1, 4014.2, 6844.5, 3548.3, 228.4, 6547.7, 93.45, 1189.4, 3092.0, 3364.55, 129.6, 161.65, 45.1, 3320.6, 2391.15, 810.45, 6585.35, 46.3, 1864.65, 2157.5, 4454.25, 280.0, 6316.2, 63.75, 523.15, 688.0, 4323.35, 746.5, 201.1, 857.2, 130.5, 7317.1, 3199.0, 4428.6, 486.85, 2475.35, 3625.2, 25.25, 163.7, 762.5, 827.7, 6363.45, 2196.15, 5608.4, 2042.05, 70.15, 408.25, 8046.85, 563.65, 335.4, 5411.4, 5116.6, 1620.2, 1260.7, 5971.25, 2564.95, 1626.4, 780.15, 1810.55, 340.35, 234.85, 435.25, 583.3, 4479.2, 3457.45, 40.25, 1647.0, 109.25, 7222.75, 6841.45, 1879.25, 1274.45, 2619.25, 137.6, 4674.4, 1277.5, 202.9, 1218.25, 6441.85, 5625.55, 202.3, 1343.4, 1201.65, 608.8, 5662.25, 6953.4, 6690.75, 4310.35, 1108.2, 2979.5, 1740.7, 2723.75, 3605.2, 173.0, 637.4, 599.25, 695.05, 75.35, 790.7, 4965.0, 3902.45, 146.05, 1782.4, 470.2, 7035.6, 2538.05, 4872.45, 60.0, 1573.05, 2684.35, 31.55, 6287.3, 1067.65, 301.4, 1182.55, 284.3, 689.75, 1955.4, 2384.15, 573.3, 45.7, 295.65, 706.85, 677.9, 604.7, 342.3, 805.1, 2019.8, 2737.05, 2070.05, 7412.25, 45.15, 7854.15, 742.9, 3132.75, 151.75, 632.2, 2588.95, 465.7, 45.35, 389.6, 1165.55, 1191.4, 8182.75, 7244.7, 501.35, 358.05, 167.2, 150.75, 780.5, 198.5, 19.75, 689.0, 4145.25, 198.1, 5450.7, 5059.75, 7856.0, 1554.9, 1195.95, 1340.1, 123.8, 170.5, 226.45, 7133.25, 1090.1, 451.1, 2258.25, 503.6, 2414.55, 5311.85, 20.2, 406.05, 525.55, 323.45, 3320.75, 8477.6, 5036.9, 959.9, 1937.4, 3874.1, 210.65, 5867.0, 4855.35, 2094.65, 3181.8, 565.35, 5742.9, 143.9, 2048.8, 1992.55, 743.5, 7383.7, 727.8, 1905.7, 36.8, 3734.25, 3754.6, 1375.15, 471.55, 5289.8, 253.8, 1643.25, 5924.4, 44.45, 938.65, 2807.1, 1515.1, 5567.45, 43.3, 6239.05, 279.5, 3085.35, 521.0, 786.3, 5426.85, 3186.7, 2560.1, 5193.2, 1459.35, 4264.25, 3875.4, 571.75, 340.85, 478.1, 3895.35, 3001.2, 1380.1, 5238.9, 3590.2, 1971.15, 837.95, 24.7, 1110.5, 1538.6, 4459.15, 62.05, 1344.5, 2656.5, 743.75, 350.1, 288.05, 5980.55, 893.2, 2424.45, 990.85, 412.5, 842.25, 1843.05, 237.2, 3435.6, 1852.85, 4222.95, 45.4, 4059.85, 3316.1, 4089.45, 2660.2, 311.6, 600.25, 573.75, 1617.5, 3008.15, 3665.55, 8248.5, 59.85, 5974.3, 24.8, 225.85, 615.35, 2779.5, 1138.8, 4541.9, 1682.05, 1527.5, 99.75, 1426.45, 335.75, 6042.7, 7422.1, 533.05, 181.8, 5431.4, 1483.25, 4459.8, 6885.75, 74.95, 42.7, 48.75, 1222.25, 75.1, 2661.1, 309.1, 1094.5, 6055.55, 468.35, 500.1, 1801.9, 1424.6, 256.75, 1493.2, 1790.8, 2381.55, 3303.05, 3252.0, 6890.0, 4378.8, 3452.55, 4973.4, 1411.9, 6707.15, 54.9, 1083.0, 1381.8, 210.75, 934.1, 373.0, 4895.1, 994.8, 7690.9, 19.95, 1192.7, 1309.15, 1556.85, 2319.8, 1614.9, 19.9, 19.65, 1077.05, 4985.9, 415.4, 4849.1, 2970.3, 7234.8, 2799.0, 5682.25, 4060.9, 1264.2, 3454.6, 1372.9, 3720.35, 1633.0, 1596.6, 927.15, 5941.05, 5025.8, 6309.65, 936.85, 7101.5, 4839.15, 2659.4, 5243.05, 1588.25, 1375.6, 451.55, 20.2, 1285.05, 403.35, 1697.7, 1641.8, 6369.45, 2773.9, 5917.55, 1290.0, 151.8, 25.1, 4874.7, 858.6, 69.65, 1313.55, 1594.75, 161.15, 50.15, 916.75, 283.75, 394.85, 246.7, 384.5, 184.05, 740.8, 3030.6, 24.7, 2028.8, 52.05, 452.35, 8277.05, 457.3, 79.2, 4616.1, 3058.65, 20.2, 7112.15, 6293.75, 1778.5, 1939.35, 934.8, 5336.35, 24.4, 1189.9, 551.3, 1567.55, 5791.1, 576.65, 70.0, 45.65, 6049.5, 1863.8, 515.75, 229.6, 2603.1, 190.25, 76.95, 746.05, 49.95, 7053.35, 79.6, 445.3, 107.25, 5567.55, 1847.55, 59.05, 1198.05, 74.25, 99.6, 324.6, 4056.75, 1748.55, 962.9, 661.55, 143.35, 7854.9, 3273.8, 272.35, 3171.6, 4834.0, 168.5, 8165.1, 1143.8, 4284.65, 1117.55, 50.15, 1580.1, 198.0, 117.8, 6083.1, 1943.9, 5438.95, 474.9, 359.4, 6891.4, 89.15, 4242.35, 51.6, 113.55, 4480.7, 7843.55, 3691.2, 2419.55, 442.2, 4872.35, 673.2, 8405.0, 1782.0, 1501.75, 7475.85, 3242.5, 579.0, 1657.4, 882.55, 5986.55, 601.6, 5295.7, 279.55, 2689.35, 313.45, 1267.05, 180.7, 3627.3, 59.25, 332.45, 5731.85, 70.1, 55.7, 1789.9, 1756.6, 1311.75, 3512.15, 4965.1, 6151.9, 811.65, 1813.1, 1663.5, 497.55, 1152.7, 690.5, 126.05, 18.85, 5044.8, 1614.05, 3952.65, 3309.25, 262.05, 4220.35, 463.05, 20.35, 222.3, 2369.7, 2169.75, 4681.75, 644.35, 2168.9, 1039.45, 207.35, 408.5, 5000.2, 4730.9, 2928.5, 136.05, 6254.2, 2234.95, 4807.35, 41.2, 136.75, 1397.65, 1940.8, 1676.95, 1129.35, 3342.45, 1825.5, 2997.45, 4119.4, 1095.3, 45.1, 4156.8, 5040.2, 61.05, 693.45, 563.5, 211.95, 314.95, 214.55, 2065.4, 1412.65, 2092.9, 8594.4, 3444.85, 768.05, 1820.9, 174.45, 844.45, 3515.25, 948.9, 55.4, 5196.1, 1623.4, 20.15, 927.35, 5586.45, 4042.2, 952.3, 158.95, 1011.5, 5253.95, 741.7, 856.35, 331.35, 197.4, 1147.45, 785.75, 1267.0, 1779.95, 1841.9, 19.55, 196.4, 1477.65, 3662.25, 3395.8, 1573.7, 387.2, 1396.0, 1893.95, 2427.35, 69.55, 4634.35, 4370.25, 1461.15, 2531.8, 2168.15, 235.2, 3145.9, 3893.6, 1286.0, 4158.25, 20.5, 886.4, 319.6, 321.75, 5574.75, 184.4, 7362.9, 916.0, 4259.3, 6110.2, 4451.85, 338.9, 6536.5, 1203.95, 1129.1, 3105.55, 6457.15, 7281.6, 2995.45, 1410.25, 659.35, 7349.35, 5453.4, 1558.7, 4475.9, 4816.7, 1888.65, 1215.1, 6109.75, 417.75, 36.45, 1837.9, 3778.85, 330.8, 221.9, 19.65, 1719.15, 1490.4, 118.25, 605.25, 1446.8, 161.95, 742.95, 663.05, 7209.0, 1303.25, 1270.2, 6856.95, 1346.9, 1331.05, 363.15, 346.2, 50.15, 7849.85, 291.4, 19.55, 7665.8, 1224.05, 4688.65, 1378.75, 20.4, 6581.9, 244.75, 3687.75, 1188.25, 890.35, 3650.35, 42.9, 1696.2, 5424.25, 5118.95, 3165.6, 45.75, 4811.6, 144.15, 49.55, 122.9, 1292.2, 574.35, 477.7, 5275.8, 3914.05, 736.8, 187.45, 3134.7, 1849.95, 309.25, 2211.8, 3930.55, 1022.6, 775.6, 129.55, 2483.05, 606.25, 1781.35, 5174.35, 252.0, 3759.05, 3862.55, 69.75, 2122.05, 49.05, 1016.7, 1400.55, 3365.85, 2866.45, 95.6, 1597.25, 7432.05, 1356.7, 7007.6, 550.6, 5236.4, 33.6, 6185.8, 1184.0, 3116.15, 4113.15, 535.05, 6215.35, 2661.1, 4684.3, 6468.6, 3233.6, 297.3, 2038.7, 131.05, 279.25, 717.5, 450.4, 233.55, 1033.95, 6441.4, 563.05, 524.35, 417.7, 194.2, 19.65, 89.1, 2716.3, 6096.45, 6125.4, 1415.55, 788.55, 601.6, 913.3, 1054.8, 4915.15, 369.05, 20.2, 505.45, 1392.25, 3954.1, 71.25, 69.4, 419.35, 1871.85, 4124.65, 393.45, 5023.0, 96.8, 19.85, 1662.05, 3825.85, 1530.6, 2287.25, 6375.2, 1506.4, 4818.8, 3646.8, 391.7, 19.45, 483.7, 1389.2, 95.1, 1759.4, 151.65, 7082.45, 1373.0, 3437.45, 1914.5, 129.2, 6424.7, 47.95, 1322.85, 3161.2, 471.7, 5460.2, 5968.4, 6281.45, 703.55, 4921.2, 6296.75, 7008.15, 86.6, 723.4, 521.8, 86.0, 1145.35, 343.45, 5931.0, 255.35, 178.8, 532.1, 2841.55, 7334.05, 2768.35, 4911.35, 19.15, 5329.0, 1574.45, 3684.95, 1043.4, 50.05, 19.8, 80.2, 3480.35, 94.45, 1013.35, 1068.15, 77.15, 7548.6, 6241.35, 7919.8, 4913.3, 1237.85, 201.0, 247.25, 134.6, 1336.35, 7987.6, 2217.15, 2024.1, 4461.85, 1244.5, 259.8, 1110.35, 3835.55, 25.8, 314.55, 1912.85, 8124.2, 1454.25, 1234.8, 2839.95, 900.9, 153.95, 1250.1, 4368.95, 84.6, 246.7, 875.55, 2835.9, 6223.8, 1216.6, 1058.1, 788.05, 73.1, 69.5, 1597.4, 53.5, 5563.65, 174.65, 4594.65, 3334.9, 2509.25, 1820.45, 79.1, 220.45, 3173.35, 2748.7, 75.7, 4014.0, 1048.45, 931.9, 360.35, 537.35, 797.25, 799.65, 2250.65, 949.85, 44.15, 164.6, 73.6, 888.65, 587.1, 413.65, 1205.05, 69.55, 3432.9, 7881.2, 838.5, 654.5, 4069.9, 1215.6, 5825.5, 770.4, 44.4, 3351.55, 1441.65, 1887.0, 3363.8, 2933.2, 608.0, 450.65, 610.75, 3067.2, 325.45, 7748.75, 1209.25, 85.15, 20.3, 5645.8, 5401.9, 68.5, 45.65, 7107.0, 24.4, 1474.75, 4478.85, 49.3, 1875.25, 68.8, 19.85, 2395.05, 418.25, 228.75, 1156.1, 431.0, 1359.0, 3729.75, 266.95, 2239.65, 1288.0, 193.8, 4807.45, 178.85, 580.8, 3653.0, 1531.4, 4348.65, 2894.55, 4354.45, 3520.75, 2348.45, 1263.05, 4747.65, 387.9, 6110.75, 741.0, 4138.9, 6858.9, 7297.75, 62.25, 1419.4, 477.55, 6300.85, 20.1, 65.95, 449.75, 906.85, 4018.55, 453.75, 1983.15, 6392.85, 2025.1, 2954.5, 330.6, 400.3, 291.9, 927.1, 49.9, 35.9, 1742.95, 1988.05, 1511.2, 679.8, 3778.0, 3923.8, 633.4, 158.4, 4145.9, 599.3, 6602.9, 655.3, 1964.6, 4388.4, 1496.45, 5555.3, 1709.15, 396.3, 1468.75, 1386.9, 401.95, 2111.45, 119.5, 3847.6, 2763.35, 1253.8, 7114.25, 267.35, 2342.2, 373.5, 5822.3, 8425.15, 1559.25, 25.05, 2536.55, 5232.9, 85.5, 2453.3, 6975.25, 7998.8, 593.2, 6991.9, 726.1, 876.75, 19.5, 3157.0, 34.7, 1323.7, 5685.8, 5913.95, 19.9, 1782.0, 19.55, 44.75, 318.6, 235.8, 2093.9, 1026.35, 2755.35, 263.05, 7508.55, 4254.1, 2871.5, 7251.7, 1200.15, 4024.2, 179.25, 171.45, 6982.5, 3581.6, 3275.15, 180.25, 1253.5, 19.1, 1566.9, 1406.9, 3053.0, 415.55, 2122.45, 1375.6, 3944.5, 7629.85, 174.3, 4297.6, 655.85, 2467.75, 228.65, 7262.0, 1434.6, 3147.5, 585.95, 6595.0, 96.8, 69.25, 86.35, 239.75, 966.25, 595.05, 422.4, 2530.4, 568.2, 1784.5, 2431.35, 5498.2, 2088.05, 355.1, 1140.05, 35.9, 486.2, 5347.95, 5714.2, 680.05, 1132.35, 224.5, 5459.2, 69.55, 3273.95, 1767.35, 6954.15, 1714.95, 85.5, 6470.1, 554.05, 5315.1, 5894.5, 6028.95, 2443.3, 55.2, 4871.45, 44.0, 5468.45, 581.85, 3107.3, 186.05, 4164.4, 2006.1, 111.65, 2495.2, 165.4, 7623.2, 1582.75, 2758.15, 8016.6, 87.9, 70.55, 4348.1, 5289.05, 4144.8, 144.0, 7789.6, 2878.55, 4798.4, 1027.25, 1498.85, 3015.75, 934.15, 5294.6, 240.45, 4086.3, 651.4, 75.8, 3512.9, 1137.05, 6998.95, 605.9, 2030.75, 46.0, 3233.85, 1497.9, 1284.2, 3045.75, 795.65, 5986.45, 74.3, 525.0, 5976.9, 788.8, 754.65, 733.55, 2316.85, 1888.25, 2607.6, 1156.35, 655.9, 198.7, 20.25, 6747.35, 1840.75, 251.25, 812.4, 108.95, 5597.65, 2427.1, 85.1, 6218.45, 1498.2, 275.7, 1563.95, 19.65, 1301.9, 143.65, 2224.5, 107.6, 1778.7, 1637.3, 81.0, 6118.95, 6929.4, 79.55, 4669.2, 4200.25, 3068.6, 1380.4, 305.1, 19.55, 260.9, 4631.7, 938.95, 929.2, 45.7, 622.9, 422.3, 1215.8, 2554.0, 317.25, 428.45, 50.65, 853.1, 74.3, 3094.65, 124.4, 5580.8, 2447.95, 4576.3, 6891.45, 178.5, 74.3, 1066.15, 1240.15, 2184.85, 854.8, 2196.45, 313.6, 54.7, 8003.8, 834.1, 1725.4, 39.3, 246.6, 3541.1, 102.5, 2349.8, 472.25, 1161.75, 973.25, 20.3, 4534.45, 449.75, 435.4, 350.35, 2483.5, 436.6, 533.6, 38.7, 633.85, 2807.65, 44.35, 3021.3, 5594.0, 1167.6, 57.4, 2781.85, 4481.0, 35.45, 1249.25, 55.25, 4920.8, 280.85, 1559.15, 1183.2, 5270.6, 1347.15, 535.35, 865.55, 5206.55, 2460.35, 1025.15, 760.05, 1438.05, 4952.95, 487.05, 90.6, 4853.75, 3027.4, 74.2, 1500.95, 1171.5, 4345.0, 8086.4, 3131.55, 3373.4, 45.85, 1049.6, 601.55, 1385.85, 7238.6, 3171.15, 293.15, 7714.65, 5000.05, 5189.75, 190.1, 8244.3, 5779.6, 1007.9, 1061.6, 862.4, 232.1, 617.65, 1555.65, 1185.0, 4871.05, 89.05, 7752.05, 973.95, 482.8, 3549.25, 128.6, 84.8, 926.25, 3565.65, 2958.95, 6263.8, 389.1, 7002.95, 5411.65, 743.3, 3640.45, 1539.75, 679.3, 4386.2, 6880.85, 5497.05, 4421.95, 2627.35, 1221.65, 33.7, 95.55, 1313.25, 1463.45, 3384.0, 1765.95, 1901.65, 1108.6, 6841.05, 1873.7, 19.9, 5617.95, 20.55, 368.1, 1588.75, 1149.65, 6435.25, 659.45, 4949.1, 3389.25, 163.7, 33.2, 370.5, 7318.2, 207.4, 6382.55, 571.45, 301.9, 3704.15, 720.45, 1072.0, 189.1, 8684.8, 137.85, 2075.1, 587.4, 3615.6, 1062.1, 220.75, 1237.65, 1733.15, 60.65, 662.95, 188.1, 265.75, 3046.15, 6496.15, 989.05, 4433.3, 4964.7, 3894.4, 571.15, 1907.85, 7853.7, 5919.35, 113.5, 1250.85, 382.2, 1080.55, 6460.55, 305.55, 2647.1, 4903.15, 1342.15, 4048.95, 2647.2, 1885.15, 1672.15, 20.45, 24.8, 1553.95, 1308.4, 465.05, 1653.45, 2244.95, 5931.75, 2276.1, 411.75, 74.5, 5233.25, 593.3, 4549.45, 118.4, 3865.6, 475.1, 617.85, 6912.7, 401.1, 184.1, 312.7, 527.35, 2157.95, 44.3, 1195.25, 1327.4, 2901.8, 889.0, 371.4, 4456.65, 299.3, 377.85, 5154.5, 6487.2, 6710.5, 7806.5, 574.5, 102.45, 247.0, 7082.5, 1013.05, 6418.9, 470.95, 355.9, 92.75, 489.45, 223.15, 1683.6, 2058.5, 5377.8, 267.6, 20.9, 921.4, 4040.2, 4627.65, 4976.15, 19.7, 6161.9, 2096.1, 66.95, 1611.0, 79.35, 1941.5, 4764.0, 3168.0, 775.3, 1166.7, 45.95, 4473.0, 3460.3, 1929.35, 426.65, 1797.75, 8013.55, 493.4, 997.75, 4760.3, 35.25, 4858.7, 439.2, 5979.7, 790.15, 2415.95, 6733.15, 329.8, 4805.65, 1857.75, 20.2, 91.1, 6052.25, 602.55, 1949.4, 3219.75, 75.45, 1755.35, 3480.0, 1938.05, 1093.2, 2106.3, 1312.15, 5405.8, 3096.9, 4733.1, 487.75, 978.0, 1416.5, 851.2, 1931.3, 5985.75, 3851.45, 8337.45, 249.95, 411.25, 1183.05, 48.6, 1414.65, 4519.5, 258.35, 950.2, 244.85, 69.95, 1090.65, 1237.3, 331.6, 702.05, 3566.6, 4504.9, 1305.95, 724.65, 641.15, 1329.2, 279.2, 1600.95, 561.15, 55.3, 916.9, 1359.5, 683.75, 97.0, 71.35, 2416.1, 302.6, 677.05, 914.4, 2341.55, 7069.25, 4615.9, 405.7, 6194.1, 125.0, 25.7, 78.8, 901.25, 6029.0, 529.5, 1716.45, 1683.7, 362.2, 6697.2, 318.6, 1067.05, 1372.45, 1672.35, 326.8, 1236.15, 1266.35, 333.65, 232.55, 208.85, 887.35, 20.65, 1178.4, 81.05, 160.85, 70.7, 1669.4, 5598.3, 3474.45, 314.6, 1259.35, 412.55, 70.3, 6219.6, 388.6, 865.0, 5430.35, 1133.65, 6176.6, 5589.3, 44.95, 2104.55, 2754.45, 1973.75, 1309.0, 2361.8, 5731.85, 3539.25, 6526.65, 4159.45, 2710.25, 6614.9, 3645.5, 5222.35, 830.85, 1489.3, 4326.25, 546.45, 337.9, 1520.1, 1498.55, 2312.55, 5798.3, 2462.6, 176.3, 19.65, 170.9, 1654.45, 2497.35, 4304.5, 91.1, 5753.25, 93.55, 1742.5, 1004.35, 5841.35, 100.2, 5621.85, 5692.65, 1274.05, 29.85, 2356.75, 161.45, 5082.8, 1882.55, 2929.75, 246.3, 7181.95, 845.25, 323.15, 2104.55, 607.3, 287.4, 3126.85, 1845.9, 171.15, 3721.9, 98.35, 75.45, 349.8, 154.85, 4861.45, 949.8, 854.9, 2404.1, 3791.6, 2838.7, 6018.65, 1888.45, 1957.1, 2387.75, 1208.6, 669.45, 1363.25, 1261.35, 918.7, 19.85, 169.05, 839.65, 3062.45, 217.55, 1388.75, 2664.3, 2237.55, 3379.25, 5817.0, 74.4, 442.45, 5440.9, 343.95, 926.0, 8317.95, 878.35, 3886.45, 4822.85, 1125.6, 1041.8, 43.15, 947.3, 578.5, 1258.35, 2470.1, 58.15, 1672.1, 3217.55, 96.05, 1291.3, 160.75, 2666.75, 293.65, 3292.3, 711.15, 5815.15, 25.7, 418.8, 1193.05, 1272.05, 25.15, 134.05, 4676.7, 552.1, 221.1, 1522.65, 1240.8, 1357.1, 950.75, 2651.1, 390.85, 813.85, 3605.6, 6751.35, 3673.15, 6713.2, 221.7, 2879.2, 5483.9, 1453.1, 4096.9, 260.8, 8670.1, 322.5, 20.5, 6840.95, 294.45, 1581.95, 7279.35, 5703.0, 476.8, 2192.9, 5595.3, 2347.85, 1653.85, 2326.05, 620.55, 2088.75, 1818.3, 712.75, 1252.0, 757.95, 5948.7, 945.7, 5265.2, 5510.65, 92.75, 5016.65, 1529.65, 1403.1, 969.85, 2431.95, 378.6, 1268.85, 3563.8, 1901.0, 501.2, 101.1, 3810.8, 70.4, 3425.35, 40.2, 19.95, 19.65, 3591.25, 1321.3, 199.85, 25.3, 1654.85, 4378.35, 438.05, 397.0, 6423.0, 1710.45, 826.0, 264.8, 2731.0, 7511.9, 560.85, 5921.35, 624.15, 658.1, 20.05, 268.35, 908.55, 1382.9, 2515.3, 1375.6, 1772.25, 2566.3, 4557.5, 5012.35, 196.9, 7842.3, 4543.95, 1284.2, 526.7, 109.5, 356.65, 777.3, 3382.3, 2278.75, 4487.3, 4692.55, 5038.45, 799.0, 4563.0, 967.85, 2483.65, 2874.45, 7413.55, 1101.85, 1127.35, 1510.5, 5769.6, 5969.85, 7932.5, 1211.65, 273.0, 4847.05, 3377.8, 3132.75, 646.85, 355.2, 6396.45, 2335.3, 1350.15, 4350.1, 3346.8, 29.95, 424.75, 5099.15, 723.35, 835.5, 109.3, 1443.65, 110.05, 452.7, 49.75, 1118.8, 3166.9, 1218.65, 4179.2, 3097.2, 7397.0, 7266.95, 1389.6, 939.7, 1068.85, 1375.6, 6717.9, 354.05, 4653.25, 2970.8, 501.0, 6109.65, 62.0, 129.15, 761.95, 4664.15, 49.9, 705.45, 1173.35, 118.3, 3725.5, 2032.3, 2054.4, 4882.8, 92.45, 5327.25, 4453.3, 50.9, 1410.25, 20.55, 4888.2, 6254.45, 85.45, 1233.65, 522.95, 223.75, 80.25, 50.75, 496.9, 154.55, 419.9, 6549.45, 4677.1, 5610.7, 6567.9, 2265.25, 2111.3, 7840.6, 5969.95, 1821.8, 897.75, 20.05, 256.25, 4549.05, 5614.45, 6735.05, 2201.75, 261.65, 2199.05, 1242.2, 846.0, 417.0, 2688.45, 6145.85, 70.5, 1009.25, 2254.2, 2568.55, 4786.1, 2635.0, 6141.65, 3541.4, 49.65, 7074.4, 2552.9, 5589.45, 4616.05, 3003.55, 208.45, 1961.6, 1046.5, 638.95, 90.6, 3566.7, 937.1, 2838.55, 2774.55, 268.45, 3035.35, 114.15, 4804.75, 4917.9, 108.65, 3587.25, 1867.6, 4903.2, 229.5, 3313.4, 1777.9, 3046.05, 1021.55, 5064.45, 1509.8, 4847.35, 3474.05, 1923.5, 4312.5, 5069.65, 3887.25, 50.6, 61.45, 2893.4, 3196.0, 428.7, 2391.8, 2343.85, 45.4, 4326.8, 5199.8, 415.95, 3782.4, 5102.35, 220.6, 4193.4, 4304.0, 6045.9, 179.35, 7746.7, 123.65, 5321.25, 6683.4, 1470.05, 3419.3, 1355.45, 1087.45, 38.25, 4391.45, 2271.85, 4577.9, 676.7, 1461.45, 3024.15, 1424.95, 2490.15, 4532.3, 662.65, 1758.9, 1396.9, 605.45, 970.45, 30.2, 1087.25, 44.15, 80.35, 314.45, 5388.15, 2979.3, 7459.05, 2492.25, 1254.7, 73.65, 1789.65, 2263.45, 2479.25, 3162.65, 1046.2, 1158.85, 5031.0, 4627.8, 3883.3, 316.9, 174.7, 1992.95, 651.5, 449.3, 6782.15, 2203.7, 2333.05, 5730.15, 381.2, 137.25, 658.95, 1914.9, 514.6, 1498.35, 1073.3, 160.8, 1387.45, 5727.15, 3009.5, 6766.95, 405.6, 2404.85, 8065.65, 2018.1, 810.2, 60.15, 5442.05, 1111.85, 4126.2, 4664.5, 438.9, 488.65, 78.65, 1790.15, 1553.9, 1427.55, 1764.75, 6448.85, 5356.45, 99.95, 582.5, 6849.75, 3975.9, 1652.1, 2815.25, 181.5, 285.2, 1367.75, 68.65, 69.1, 2754.0, 3343.15, 367.55, 970.85, 34.8, 20.8, 412.1, 473.9, 6448.05, 100.4, 39.25, 5885.4, 1133.7, 3403.4, 265.3, 76.65, 2655.25, 6152.4, 601.25, 2208.05, 69.1, 1901.25, 3545.1, 3371.75, 654.85, 2210.2, 89.55, 6668.0, 7737.55, 523.5, 132.2, 6889.8, 460.2, 1355.1, 2974.5, 5515.8, 3670.5, 6367.2, 659.65, 5598.0, 5264.3, 1046.1, 44.55, 348.8, 1033.9]}],\n",
              "                        {\"template\": {\"data\": {\"bar\": [{\"error_x\": {\"color\": \"#2a3f5f\"}, \"error_y\": {\"color\": \"#2a3f5f\"}, \"marker\": {\"line\": {\"color\": \"#E5ECF6\", \"width\": 0.5}}, \"type\": \"bar\"}], \"barpolar\": [{\"marker\": {\"line\": {\"color\": \"#E5ECF6\", \"width\": 0.5}}, \"type\": \"barpolar\"}], \"carpet\": [{\"aaxis\": {\"endlinecolor\": \"#2a3f5f\", \"gridcolor\": \"white\", \"linecolor\": \"white\", \"minorgridcolor\": \"white\", \"startlinecolor\": \"#2a3f5f\"}, \"baxis\": {\"endlinecolor\": \"#2a3f5f\", \"gridcolor\": \"white\", \"linecolor\": \"white\", \"minorgridcolor\": \"white\", \"startlinecolor\": \"#2a3f5f\"}, \"type\": \"carpet\"}], \"choropleth\": [{\"colorbar\": {\"outlinewidth\": 0, \"ticks\": \"\"}, \"type\": \"choropleth\"}], \"contour\": [{\"colorbar\": {\"outlinewidth\": 0, \"ticks\": \"\"}, \"colorscale\": [[0.0, \"#0d0887\"], [0.1111111111111111, \"#46039f\"], [0.2222222222222222, \"#7201a8\"], [0.3333333333333333, \"#9c179e\"], [0.4444444444444444, \"#bd3786\"], [0.5555555555555556, \"#d8576b\"], [0.6666666666666666, \"#ed7953\"], [0.7777777777777778, \"#fb9f3a\"], [0.8888888888888888, \"#fdca26\"], [1.0, \"#f0f921\"]], \"type\": \"contour\"}], \"contourcarpet\": [{\"colorbar\": {\"outlinewidth\": 0, \"ticks\": \"\"}, \"type\": \"contourcarpet\"}], \"heatmap\": [{\"colorbar\": {\"outlinewidth\": 0, \"ticks\": \"\"}, \"colorscale\": [[0.0, \"#0d0887\"], [0.1111111111111111, \"#46039f\"], [0.2222222222222222, \"#7201a8\"], [0.3333333333333333, \"#9c179e\"], [0.4444444444444444, \"#bd3786\"], [0.5555555555555556, \"#d8576b\"], [0.6666666666666666, \"#ed7953\"], [0.7777777777777778, \"#fb9f3a\"], [0.8888888888888888, \"#fdca26\"], [1.0, \"#f0f921\"]], \"type\": \"heatmap\"}], \"heatmapgl\": [{\"colorbar\": {\"outlinewidth\": 0, \"ticks\": \"\"}, \"colorscale\": [[0.0, \"#0d0887\"], [0.1111111111111111, \"#46039f\"], [0.2222222222222222, \"#7201a8\"], [0.3333333333333333, \"#9c179e\"], [0.4444444444444444, \"#bd3786\"], [0.5555555555555556, \"#d8576b\"], [0.6666666666666666, \"#ed7953\"], [0.7777777777777778, \"#fb9f3a\"], [0.8888888888888888, \"#fdca26\"], [1.0, \"#f0f921\"]], \"type\": \"heatmapgl\"}], \"histogram\": [{\"marker\": {\"colorbar\": {\"outlinewidth\": 0, \"ticks\": \"\"}}, \"type\": \"histogram\"}], \"histogram2d\": [{\"colorbar\": {\"outlinewidth\": 0, \"ticks\": \"\"}, \"colorscale\": [[0.0, \"#0d0887\"], [0.1111111111111111, \"#46039f\"], [0.2222222222222222, \"#7201a8\"], [0.3333333333333333, \"#9c179e\"], [0.4444444444444444, \"#bd3786\"], [0.5555555555555556, \"#d8576b\"], [0.6666666666666666, \"#ed7953\"], [0.7777777777777778, \"#fb9f3a\"], [0.8888888888888888, \"#fdca26\"], [1.0, \"#f0f921\"]], \"type\": \"histogram2d\"}], \"histogram2dcontour\": [{\"colorbar\": {\"outlinewidth\": 0, \"ticks\": \"\"}, \"colorscale\": [[0.0, \"#0d0887\"], [0.1111111111111111, \"#46039f\"], [0.2222222222222222, \"#7201a8\"], [0.3333333333333333, \"#9c179e\"], [0.4444444444444444, \"#bd3786\"], [0.5555555555555556, \"#d8576b\"], [0.6666666666666666, \"#ed7953\"], [0.7777777777777778, \"#fb9f3a\"], [0.8888888888888888, \"#fdca26\"], [1.0, \"#f0f921\"]], \"type\": \"histogram2dcontour\"}], \"mesh3d\": [{\"colorbar\": {\"outlinewidth\": 0, \"ticks\": \"\"}, \"type\": \"mesh3d\"}], \"parcoords\": [{\"line\": {\"colorbar\": {\"outlinewidth\": 0, \"ticks\": \"\"}}, \"type\": \"parcoords\"}], \"pie\": [{\"automargin\": true, \"type\": \"pie\"}], \"scatter\": [{\"marker\": {\"colorbar\": {\"outlinewidth\": 0, \"ticks\": \"\"}}, \"type\": \"scatter\"}], \"scatter3d\": [{\"line\": {\"colorbar\": {\"outlinewidth\": 0, \"ticks\": \"\"}}, \"marker\": {\"colorbar\": {\"outlinewidth\": 0, \"ticks\": \"\"}}, \"type\": \"scatter3d\"}], \"scattercarpet\": [{\"marker\": {\"colorbar\": {\"outlinewidth\": 0, \"ticks\": \"\"}}, \"type\": \"scattercarpet\"}], \"scattergeo\": [{\"marker\": {\"colorbar\": {\"outlinewidth\": 0, \"ticks\": \"\"}}, \"type\": \"scattergeo\"}], \"scattergl\": [{\"marker\": {\"colorbar\": {\"outlinewidth\": 0, \"ticks\": \"\"}}, \"type\": \"scattergl\"}], \"scattermapbox\": [{\"marker\": {\"colorbar\": {\"outlinewidth\": 0, \"ticks\": \"\"}}, \"type\": \"scattermapbox\"}], \"scatterpolar\": [{\"marker\": {\"colorbar\": {\"outlinewidth\": 0, \"ticks\": \"\"}}, \"type\": \"scatterpolar\"}], \"scatterpolargl\": [{\"marker\": {\"colorbar\": {\"outlinewidth\": 0, \"ticks\": \"\"}}, \"type\": \"scatterpolargl\"}], \"scatterternary\": [{\"marker\": {\"colorbar\": {\"outlinewidth\": 0, \"ticks\": \"\"}}, \"type\": \"scatterternary\"}], \"surface\": [{\"colorbar\": {\"outlinewidth\": 0, \"ticks\": \"\"}, \"colorscale\": [[0.0, \"#0d0887\"], [0.1111111111111111, \"#46039f\"], [0.2222222222222222, \"#7201a8\"], [0.3333333333333333, \"#9c179e\"], [0.4444444444444444, \"#bd3786\"], [0.5555555555555556, \"#d8576b\"], [0.6666666666666666, \"#ed7953\"], [0.7777777777777778, \"#fb9f3a\"], [0.8888888888888888, \"#fdca26\"], [1.0, \"#f0f921\"]], \"type\": \"surface\"}], \"table\": [{\"cells\": {\"fill\": {\"color\": \"#EBF0F8\"}, \"line\": {\"color\": \"white\"}}, \"header\": {\"fill\": {\"color\": \"#C8D4E3\"}, \"line\": {\"color\": \"white\"}}, \"type\": \"table\"}]}, \"layout\": {\"annotationdefaults\": {\"arrowcolor\": \"#2a3f5f\", \"arrowhead\": 0, \"arrowwidth\": 1}, \"coloraxis\": {\"colorbar\": {\"outlinewidth\": 0, \"ticks\": \"\"}}, \"colorscale\": {\"diverging\": [[0, \"#8e0152\"], [0.1, \"#c51b7d\"], [0.2, \"#de77ae\"], [0.3, \"#f1b6da\"], [0.4, \"#fde0ef\"], [0.5, \"#f7f7f7\"], [0.6, \"#e6f5d0\"], [0.7, \"#b8e186\"], [0.8, \"#7fbc41\"], [0.9, \"#4d9221\"], [1, \"#276419\"]], \"sequential\": [[0.0, \"#0d0887\"], [0.1111111111111111, \"#46039f\"], [0.2222222222222222, \"#7201a8\"], [0.3333333333333333, \"#9c179e\"], [0.4444444444444444, \"#bd3786\"], [0.5555555555555556, \"#d8576b\"], [0.6666666666666666, \"#ed7953\"], [0.7777777777777778, \"#fb9f3a\"], [0.8888888888888888, \"#fdca26\"], [1.0, \"#f0f921\"]], \"sequentialminus\": [[0.0, \"#0d0887\"], [0.1111111111111111, \"#46039f\"], [0.2222222222222222, \"#7201a8\"], [0.3333333333333333, \"#9c179e\"], [0.4444444444444444, \"#bd3786\"], [0.5555555555555556, \"#d8576b\"], [0.6666666666666666, \"#ed7953\"], [0.7777777777777778, \"#fb9f3a\"], [0.8888888888888888, \"#fdca26\"], [1.0, \"#f0f921\"]]}, \"colorway\": [\"#636efa\", \"#EF553B\", \"#00cc96\", \"#ab63fa\", \"#FFA15A\", \"#19d3f3\", \"#FF6692\", \"#B6E880\", \"#FF97FF\", \"#FECB52\"], \"font\": {\"color\": \"#2a3f5f\"}, \"geo\": {\"bgcolor\": \"white\", \"lakecolor\": \"white\", \"landcolor\": \"#E5ECF6\", \"showlakes\": true, \"showland\": true, \"subunitcolor\": \"white\"}, \"hoverlabel\": {\"align\": \"left\"}, \"hovermode\": \"closest\", \"mapbox\": {\"style\": \"light\"}, \"paper_bgcolor\": \"white\", \"plot_bgcolor\": \"#E5ECF6\", \"polar\": {\"angularaxis\": {\"gridcolor\": \"white\", \"linecolor\": \"white\", \"ticks\": \"\"}, \"bgcolor\": \"#E5ECF6\", \"radialaxis\": {\"gridcolor\": \"white\", \"linecolor\": \"white\", \"ticks\": \"\"}}, \"scene\": {\"xaxis\": {\"backgroundcolor\": \"#E5ECF6\", \"gridcolor\": \"white\", \"gridwidth\": 2, \"linecolor\": \"white\", \"showbackground\": true, \"ticks\": \"\", \"zerolinecolor\": \"white\"}, \"yaxis\": {\"backgroundcolor\": \"#E5ECF6\", \"gridcolor\": \"white\", \"gridwidth\": 2, \"linecolor\": \"white\", \"showbackground\": true, \"ticks\": \"\", \"zerolinecolor\": \"white\"}, \"zaxis\": {\"backgroundcolor\": \"#E5ECF6\", \"gridcolor\": \"white\", \"gridwidth\": 2, \"linecolor\": \"white\", \"showbackground\": true, \"ticks\": \"\", \"zerolinecolor\": \"white\"}}, \"shapedefaults\": {\"line\": {\"color\": \"#2a3f5f\"}}, \"ternary\": {\"aaxis\": {\"gridcolor\": \"white\", \"linecolor\": \"white\", \"ticks\": \"\"}, \"baxis\": {\"gridcolor\": \"white\", \"linecolor\": \"white\", \"ticks\": \"\"}, \"bgcolor\": \"#E5ECF6\", \"caxis\": {\"gridcolor\": \"white\", \"linecolor\": \"white\", \"ticks\": \"\"}}, \"title\": {\"x\": 0.05}, \"xaxis\": {\"automargin\": true, \"gridcolor\": \"white\", \"linecolor\": \"white\", \"ticks\": \"\", \"title\": {\"standoff\": 15}, \"zerolinecolor\": \"white\", \"zerolinewidth\": 2}, \"yaxis\": {\"automargin\": true, \"gridcolor\": \"white\", \"linecolor\": \"white\", \"ticks\": \"\", \"title\": {\"standoff\": 15}, \"zerolinecolor\": \"white\", \"zerolinewidth\": 2}}}},\n",
              "                        {\"responsive\": true}\n",
              "                    ).then(function(){\n",
              "                            \n",
              "var gd = document.getElementById('f8753c6b-9f47-4756-ab8e-d4e9a80528af');\n",
              "var x = new MutationObserver(function (mutations, observer) {{\n",
              "        var display = window.getComputedStyle(gd).display;\n",
              "        if (!display || display === 'none') {{\n",
              "            console.log([gd, 'removed!']);\n",
              "            Plotly.purge(gd);\n",
              "            observer.disconnect();\n",
              "        }}\n",
              "}});\n",
              "\n",
              "// Listen for the removal of the full notebook cells\n",
              "var notebookContainer = gd.closest('#notebook-container');\n",
              "if (notebookContainer) {{\n",
              "    x.observe(notebookContainer, {childList: true});\n",
              "}}\n",
              "\n",
              "// Listen for the clearing of the current output cell\n",
              "var outputEl = gd.closest('.output');\n",
              "if (outputEl) {{\n",
              "    x.observe(outputEl, {childList: true});\n",
              "}}\n",
              "\n",
              "                        })\n",
              "                };\n",
              "                \n",
              "            </script>\n",
              "        </div>\n",
              "</body>\n",
              "</html>"
            ]
          },
          "metadata": {}
        }
      ]
    },
    {
      "cell_type": "markdown",
      "metadata": {
        "id": "Nz4Hv18oP7NL"
      },
      "source": [
        "As we can see from above, the dataset has almost **no outliers.**"
      ]
    },
    {
      "cell_type": "code",
      "metadata": {
        "colab": {
          "base_uri": "https://localhost:8080/",
          "height": 300
        },
        "id": "8_gqvsbVc6AQ",
        "outputId": "2e8ae25a-e6dc-4942-ed45-433a6588e95d"
      },
      "source": [
        "X_train.describe()"
      ],
      "execution_count": 21,
      "outputs": [
        {
          "output_type": "execute_result",
          "data": {
            "text/html": [
              "<div>\n",
              "<style scoped>\n",
              "    .dataframe tbody tr th:only-of-type {\n",
              "        vertical-align: middle;\n",
              "    }\n",
              "\n",
              "    .dataframe tbody tr th {\n",
              "        vertical-align: top;\n",
              "    }\n",
              "\n",
              "    .dataframe thead th {\n",
              "        text-align: right;\n",
              "    }\n",
              "</style>\n",
              "<table border=\"1\" class=\"dataframe\">\n",
              "  <thead>\n",
              "    <tr style=\"text-align: right;\">\n",
              "      <th></th>\n",
              "      <th>SeniorCitizen</th>\n",
              "      <th>tenure</th>\n",
              "      <th>MonthlyCharges</th>\n",
              "      <th>TotalCharges</th>\n",
              "    </tr>\n",
              "  </thead>\n",
              "  <tbody>\n",
              "    <tr>\n",
              "      <th>count</th>\n",
              "      <td>4225.000000</td>\n",
              "      <td>4225.000000</td>\n",
              "      <td>4225.000000</td>\n",
              "      <td>4225.000000</td>\n",
              "    </tr>\n",
              "    <tr>\n",
              "      <th>mean</th>\n",
              "      <td>0.162604</td>\n",
              "      <td>32.357160</td>\n",
              "      <td>64.169053</td>\n",
              "      <td>2258.187669</td>\n",
              "    </tr>\n",
              "    <tr>\n",
              "      <th>std</th>\n",
              "      <td>0.369047</td>\n",
              "      <td>24.676362</td>\n",
              "      <td>30.235415</td>\n",
              "      <td>2259.861783</td>\n",
              "    </tr>\n",
              "    <tr>\n",
              "      <th>min</th>\n",
              "      <td>0.000000</td>\n",
              "      <td>0.000000</td>\n",
              "      <td>18.250000</td>\n",
              "      <td>18.850000</td>\n",
              "    </tr>\n",
              "    <tr>\n",
              "      <th>25%</th>\n",
              "      <td>0.000000</td>\n",
              "      <td>8.000000</td>\n",
              "      <td>34.000000</td>\n",
              "      <td>383.650000</td>\n",
              "    </tr>\n",
              "    <tr>\n",
              "      <th>50%</th>\n",
              "      <td>0.000000</td>\n",
              "      <td>29.000000</td>\n",
              "      <td>69.900000</td>\n",
              "      <td>1375.600000</td>\n",
              "    </tr>\n",
              "    <tr>\n",
              "      <th>75%</th>\n",
              "      <td>0.000000</td>\n",
              "      <td>56.000000</td>\n",
              "      <td>89.800000</td>\n",
              "      <td>3741.850000</td>\n",
              "    </tr>\n",
              "    <tr>\n",
              "      <th>max</th>\n",
              "      <td>1.000000</td>\n",
              "      <td>72.000000</td>\n",
              "      <td>118.650000</td>\n",
              "      <td>8684.800000</td>\n",
              "    </tr>\n",
              "  </tbody>\n",
              "</table>\n",
              "</div>"
            ],
            "text/plain": [
              "       SeniorCitizen       tenure  MonthlyCharges  TotalCharges\n",
              "count    4225.000000  4225.000000     4225.000000   4225.000000\n",
              "mean        0.162604    32.357160       64.169053   2258.187669\n",
              "std         0.369047    24.676362       30.235415   2259.861783\n",
              "min         0.000000     0.000000       18.250000     18.850000\n",
              "25%         0.000000     8.000000       34.000000    383.650000\n",
              "50%         0.000000    29.000000       69.900000   1375.600000\n",
              "75%         0.000000    56.000000       89.800000   3741.850000\n",
              "max         1.000000    72.000000      118.650000   8684.800000"
            ]
          },
          "metadata": {},
          "execution_count": 21
        }
      ]
    },
    {
      "cell_type": "code",
      "metadata": {
        "colab": {
          "base_uri": "https://localhost:8080/"
        },
        "id": "gFZgdPo_3qXc",
        "outputId": "b87eba7c-ddd0-4926-eafa-e1582557ed6d"
      },
      "source": [
        "#mode values\n",
        "for i in X_train.select_dtypes('number'):\n",
        "    print(f'{i}', \"mode is\", X_train[i].mode()[0])"
      ],
      "execution_count": 22,
      "outputs": [
        {
          "output_type": "stream",
          "name": "stdout",
          "text": [
            "SeniorCitizen mode is 0\n",
            "tenure mode is 1\n",
            "MonthlyCharges mode is 19.85\n",
            "TotalCharges mode is 20.2\n"
          ]
        }
      ]
    },
    {
      "cell_type": "markdown",
      "metadata": {
        "id": "JekgpOm3QPl2"
      },
      "source": [
        "### Summary\n",
        "\n",
        "1. The tenure column has a mean > mode, this indicates that the tenure column has a right skewed distribution.\n",
        "\n",
        "2. Monthly Charges and Total Charges columns have a mean > mode, this indicates that these two columns have a right skewed distribution."
      ]
    },
    {
      "cell_type": "code",
      "metadata": {
        "colab": {
          "base_uri": "https://localhost:8080/",
          "height": 423
        },
        "id": "z5gRMKAq6Ql6",
        "outputId": "6ed2e3ba-5a73-443e-8e79-3095537e12aa"
      },
      "source": [
        "y_train_ = pd.DataFrame(y_train)\n",
        "y_train_"
      ],
      "execution_count": 23,
      "outputs": [
        {
          "output_type": "execute_result",
          "data": {
            "text/html": [
              "<div>\n",
              "<style scoped>\n",
              "    .dataframe tbody tr th:only-of-type {\n",
              "        vertical-align: middle;\n",
              "    }\n",
              "\n",
              "    .dataframe tbody tr th {\n",
              "        vertical-align: top;\n",
              "    }\n",
              "\n",
              "    .dataframe thead th {\n",
              "        text-align: right;\n",
              "    }\n",
              "</style>\n",
              "<table border=\"1\" class=\"dataframe\">\n",
              "  <thead>\n",
              "    <tr style=\"text-align: right;\">\n",
              "      <th></th>\n",
              "      <th>Churn</th>\n",
              "    </tr>\n",
              "  </thead>\n",
              "  <tbody>\n",
              "    <tr>\n",
              "      <th>608</th>\n",
              "      <td>No</td>\n",
              "    </tr>\n",
              "    <tr>\n",
              "      <th>5007</th>\n",
              "      <td>No</td>\n",
              "    </tr>\n",
              "    <tr>\n",
              "      <th>5329</th>\n",
              "      <td>Yes</td>\n",
              "    </tr>\n",
              "    <tr>\n",
              "      <th>3485</th>\n",
              "      <td>Yes</td>\n",
              "    </tr>\n",
              "    <tr>\n",
              "      <th>6530</th>\n",
              "      <td>No</td>\n",
              "    </tr>\n",
              "    <tr>\n",
              "      <th>...</th>\n",
              "      <td>...</td>\n",
              "    </tr>\n",
              "    <tr>\n",
              "      <th>1265</th>\n",
              "      <td>No</td>\n",
              "    </tr>\n",
              "    <tr>\n",
              "      <th>3229</th>\n",
              "      <td>Yes</td>\n",
              "    </tr>\n",
              "    <tr>\n",
              "      <th>3810</th>\n",
              "      <td>No</td>\n",
              "    </tr>\n",
              "    <tr>\n",
              "      <th>2147</th>\n",
              "      <td>No</td>\n",
              "    </tr>\n",
              "    <tr>\n",
              "      <th>4252</th>\n",
              "      <td>No</td>\n",
              "    </tr>\n",
              "  </tbody>\n",
              "</table>\n",
              "<p>4225 rows × 1 columns</p>\n",
              "</div>"
            ],
            "text/plain": [
              "     Churn\n",
              "608     No\n",
              "5007    No\n",
              "5329   Yes\n",
              "3485   Yes\n",
              "6530    No\n",
              "...    ...\n",
              "1265    No\n",
              "3229   Yes\n",
              "3810    No\n",
              "2147    No\n",
              "4252    No\n",
              "\n",
              "[4225 rows x 1 columns]"
            ]
          },
          "metadata": {},
          "execution_count": 23
        }
      ]
    },
    {
      "cell_type": "markdown",
      "metadata": {
        "id": "8K6pRAX3egFr"
      },
      "source": [
        "--------------------\n",
        "# Data *Exploration*"
      ]
    },
    {
      "cell_type": "markdown",
      "metadata": {
        "id": "CAGXlkXzeRBz"
      },
      "source": [
        "### Treat Numerical Features"
      ]
    },
    {
      "cell_type": "code",
      "metadata": {
        "id": "b0IirV4v-zFH"
      },
      "source": [
        "#encode the label \n",
        "rename = {\n",
        "    \"No\" : 0,\n",
        "    \"Yes\" : 1\n",
        "}\n",
        "\n",
        "y_train = y_train.replace(rename)\n",
        "y_val = y_val.replace(rename)\n",
        "y_test = y_test.replace(rename)"
      ],
      "execution_count": 24,
      "outputs": []
    },
    {
      "cell_type": "code",
      "metadata": {
        "colab": {
          "base_uri": "https://localhost:8080/",
          "height": 423
        },
        "id": "-AkjyeRuAefB",
        "outputId": "c763ae94-2341-4350-db68-b0e92673240f"
      },
      "source": [
        "y_train_num = pd.DataFrame(y_train)\n",
        "y_train_num"
      ],
      "execution_count": 25,
      "outputs": [
        {
          "output_type": "execute_result",
          "data": {
            "text/html": [
              "<div>\n",
              "<style scoped>\n",
              "    .dataframe tbody tr th:only-of-type {\n",
              "        vertical-align: middle;\n",
              "    }\n",
              "\n",
              "    .dataframe tbody tr th {\n",
              "        vertical-align: top;\n",
              "    }\n",
              "\n",
              "    .dataframe thead th {\n",
              "        text-align: right;\n",
              "    }\n",
              "</style>\n",
              "<table border=\"1\" class=\"dataframe\">\n",
              "  <thead>\n",
              "    <tr style=\"text-align: right;\">\n",
              "      <th></th>\n",
              "      <th>Churn</th>\n",
              "    </tr>\n",
              "  </thead>\n",
              "  <tbody>\n",
              "    <tr>\n",
              "      <th>608</th>\n",
              "      <td>0</td>\n",
              "    </tr>\n",
              "    <tr>\n",
              "      <th>5007</th>\n",
              "      <td>0</td>\n",
              "    </tr>\n",
              "    <tr>\n",
              "      <th>5329</th>\n",
              "      <td>1</td>\n",
              "    </tr>\n",
              "    <tr>\n",
              "      <th>3485</th>\n",
              "      <td>1</td>\n",
              "    </tr>\n",
              "    <tr>\n",
              "      <th>6530</th>\n",
              "      <td>0</td>\n",
              "    </tr>\n",
              "    <tr>\n",
              "      <th>...</th>\n",
              "      <td>...</td>\n",
              "    </tr>\n",
              "    <tr>\n",
              "      <th>1265</th>\n",
              "      <td>0</td>\n",
              "    </tr>\n",
              "    <tr>\n",
              "      <th>3229</th>\n",
              "      <td>1</td>\n",
              "    </tr>\n",
              "    <tr>\n",
              "      <th>3810</th>\n",
              "      <td>0</td>\n",
              "    </tr>\n",
              "    <tr>\n",
              "      <th>2147</th>\n",
              "      <td>0</td>\n",
              "    </tr>\n",
              "    <tr>\n",
              "      <th>4252</th>\n",
              "      <td>0</td>\n",
              "    </tr>\n",
              "  </tbody>\n",
              "</table>\n",
              "<p>4225 rows × 1 columns</p>\n",
              "</div>"
            ],
            "text/plain": [
              "      Churn\n",
              "608       0\n",
              "5007      0\n",
              "5329      1\n",
              "3485      1\n",
              "6530      0\n",
              "...     ...\n",
              "1265      0\n",
              "3229      1\n",
              "3810      0\n",
              "2147      0\n",
              "4252      0\n",
              "\n",
              "[4225 rows x 1 columns]"
            ]
          },
          "metadata": {},
          "execution_count": 25
        }
      ]
    },
    {
      "cell_type": "code",
      "metadata": {
        "id": "iZs3X0xBAm9O"
      },
      "source": [
        "train_set = X_train.join(y_train_num)"
      ],
      "execution_count": 26,
      "outputs": []
    },
    {
      "cell_type": "code",
      "metadata": {
        "colab": {
          "base_uri": "https://localhost:8080/",
          "height": 395
        },
        "id": "wVzmSSMgd4IH",
        "outputId": "51eff5ab-5886-4340-9eea-c4642caf8805"
      },
      "source": [
        "#Pearson corr method to see linear correlation between feature to other feature and feature to label\n",
        "plt.figure(figsize=(8,5))\n",
        "sns.heatmap(train_set.corr(method='pearson'), annot=True)\n",
        "plt.show()"
      ],
      "execution_count": 27,
      "outputs": [
        {
          "output_type": "display_data",
          "data": {
            "image/png": "[encoded data removed]",
            "text/plain": [
              "<Figure size 576x360 with 2 Axes>"
            ]
          },
          "metadata": {
            "needs_background": "light"
          }
        }
      ]
    },
    {
      "cell_type": "markdown",
      "metadata": {
        "id": "lCTt1EDWSYCO"
      },
      "source": [
        "Feature tenure and Total Charges have a negative linear relationship with the target."
      ]
    },
    {
      "cell_type": "code",
      "metadata": {
        "colab": {
          "base_uri": "https://localhost:8080/",
          "height": 175
        },
        "id": "nR-OHL2-eF2M",
        "outputId": "fe8756a3-86e9-4777-b0cf-d2774dac9de7"
      },
      "source": [
        "#VIF\n",
        "num_features = train_set.select_dtypes('number').drop(['Churn'],axis=1)\n",
        "vif_data = pd.DataFrame()\n",
        "vif_data['feature'] = num_features.columns\n",
        "vif_data['VIF'] = [variance_inflation_factor(num_features.values, i) for i in range(len(num_features.columns))]\n",
        "vif_data"
      ],
      "execution_count": 28,
      "outputs": [
        {
          "output_type": "execute_result",
          "data": {
            "text/html": [
              "<div>\n",
              "<style scoped>\n",
              "    .dataframe tbody tr th:only-of-type {\n",
              "        vertical-align: middle;\n",
              "    }\n",
              "\n",
              "    .dataframe tbody tr th {\n",
              "        vertical-align: top;\n",
              "    }\n",
              "\n",
              "    .dataframe thead th {\n",
              "        text-align: right;\n",
              "    }\n",
              "</style>\n",
              "<table border=\"1\" class=\"dataframe\">\n",
              "  <thead>\n",
              "    <tr style=\"text-align: right;\">\n",
              "      <th></th>\n",
              "      <th>feature</th>\n",
              "      <th>VIF</th>\n",
              "    </tr>\n",
              "  </thead>\n",
              "  <tbody>\n",
              "    <tr>\n",
              "      <th>0</th>\n",
              "      <td>SeniorCitizen</td>\n",
              "      <td>1.257154</td>\n",
              "    </tr>\n",
              "    <tr>\n",
              "      <th>1</th>\n",
              "      <td>tenure</td>\n",
              "      <td>6.071484</td>\n",
              "    </tr>\n",
              "    <tr>\n",
              "      <th>2</th>\n",
              "      <td>MonthlyCharges</td>\n",
              "      <td>3.695565</td>\n",
              "    </tr>\n",
              "    <tr>\n",
              "      <th>3</th>\n",
              "      <td>TotalCharges</td>\n",
              "      <td>7.857121</td>\n",
              "    </tr>\n",
              "  </tbody>\n",
              "</table>\n",
              "</div>"
            ],
            "text/plain": [
              "          feature       VIF\n",
              "0   SeniorCitizen  1.257154\n",
              "1          tenure  6.071484\n",
              "2  MonthlyCharges  3.695565\n",
              "3    TotalCharges  7.857121"
            ]
          },
          "metadata": {},
          "execution_count": 28
        }
      ]
    },
    {
      "cell_type": "markdown",
      "metadata": {
        "id": "zAyhpi_WSuD4"
      },
      "source": [
        "From above we can see tenure and Total Charges have multicollinearity with other features. But we cannot remove that because the features important enough."
      ]
    },
    {
      "cell_type": "code",
      "metadata": {
        "colab": {
          "base_uri": "https://localhost:8080/",
          "height": 337
        },
        "id": "7V_R6F0AKrME",
        "outputId": "44ddf184-1fb0-4a1d-c461-047d21e33051"
      },
      "source": [
        "ax = (X_train['SeniorCitizen'].value_counts()*100.0 /len(X_train))\\\n",
        ".plot.pie(autopct='%.1f%%', labels = ['No', 'Yes'],figsize =(5,5), fontsize = 12)                                                                           \n",
        "ax.set_ylabel('Senior Citizens',fontsize = 12)\n",
        "ax.set_title('% of Senior Citizens', fontsize = 12)"
      ],
      "execution_count": 29,
      "outputs": [
        {
          "output_type": "execute_result",
          "data": {
            "text/plain": [
              "Text(0.5, 1.0, '% of Senior Citizens')"
            ]
          },
          "metadata": {},
          "execution_count": 29
        },
        {
          "output_type": "display_data",
          "data": {
            "image/png": "[encoded data removed]",
            "text/plain": [
              "<Figure size 360x360 with 1 Axes>"
            ]
          },
          "metadata": {}
        }
      ]
    },
    {
      "cell_type": "markdown",
      "metadata": {
        "id": "fJfBMHoaUrJw"
      },
      "source": [
        "We can see from the graph above that currently 16.3% of Telco's customers are old customers who have subscribed while 83.7% are new customers."
      ]
    },
    {
      "cell_type": "code",
      "metadata": {
        "colab": {
          "base_uri": "https://localhost:8080/",
          "height": 299
        },
        "id": "Bc6QARY4LByC",
        "outputId": "3f2af3c4-31c8-446d-d559-615988691488"
      },
      "source": [
        "ax = X_train['Contract'].value_counts().plot(kind = 'bar',rot = 0, width = 0.3)\n",
        "ax.set_ylabel('# of Customers')\n",
        "ax.set_title('# of Customers by Contract Type')"
      ],
      "execution_count": 30,
      "outputs": [
        {
          "output_type": "execute_result",
          "data": {
            "text/plain": [
              "Text(0.5, 1.0, '# of Customers by Contract Type')"
            ]
          },
          "metadata": {},
          "execution_count": 30
        },
        {
          "output_type": "display_data",
          "data": {
            "image/png": "[encoded data removed]",
            "text/plain": [
              "<Figure size 432x288 with 1 Axes>"
            ]
          },
          "metadata": {
            "needs_background": "light"
          }
        }
      ]
    },
    {
      "cell_type": "markdown",
      "metadata": {
        "id": "Q4DVWEhEVOeE"
      },
      "source": [
        "From the graph above, we can see that the distribution of contracts made by customers to Telco is mostly in the month-to-month type, while the least is in the one year type."
      ]
    },
    {
      "cell_type": "code",
      "metadata": {
        "colab": {
          "base_uri": "https://localhost:8080/",
          "height": 542
        },
        "id": "0Rc03a31MAas",
        "outputId": "b50c729c-f120-4c7e-b7a1-b758ff36ec0f"
      },
      "source": [
        "labels = X_train['PaymentMethod'].unique()\n",
        "values = X_train['PaymentMethod'].value_counts()\n",
        "\n",
        "fig = go.Figure(data=[go.Pie(labels=labels, values=values, hole=.3)])\n",
        "fig.update_layout(title_text=\"<b>Payment Method Distribution</b>\")\n",
        "fig.show()"
      ],
      "execution_count": 31,
      "outputs": [
        {
          "output_type": "display_data",
          "data": {
            "text/html": [
              "<html>\n",
              "<head><meta charset=\"utf-8\" /></head>\n",
              "<body>\n",
              "    <div>\n",
              "            <script src=\"https://cdnjs.cloudflare.com/ajax/libs/mathjax/2.7.5/MathJax.js?config=TeX-AMS-MML_SVG\"></script><script type=\"text/javascript\">if (window.MathJax) {MathJax.Hub.Config({SVG: {font: \"STIX-Web\"}});}</script>\n",
              "                <script type=\"text/javascript\">window.PlotlyConfig = {MathJaxConfig: 'local'};</script>\n",
              "        <script src=\"https://cdn.plot.ly/plotly-latest.min.js\"></script>    \n",
              "            <div id=\"9dfe09ea-7b20-4eab-b374-955020aa281a\" class=\"plotly-graph-div\" style=\"height:525px; width:100%;\"></div>\n",
              "            <script type=\"text/javascript\">\n",
              "                \n",
              "                    window.PLOTLYENV=window.PLOTLYENV || {};\n",
              "                    \n",
              "                if (document.getElementById(\"9dfe09ea-7b20-4eab-b374-955020aa281a\")) {\n",
              "                    Plotly.newPlot(\n",
              "                        '9dfe09ea-7b20-4eab-b374-955020aa281a',\n",
              "                        [{\"hole\": 0.3, \"labels\": [\"Bank transfer (automatic)\", \"Mailed check\", \"Credit card (automatic)\", \"Electronic check\"], \"type\": \"pie\", \"values\": [1413, 971, 932, 909]}],\n",
              "                        {\"template\": {\"data\": {\"bar\": [{\"error_x\": {\"color\": \"#2a3f5f\"}, \"error_y\": {\"color\": \"#2a3f5f\"}, \"marker\": {\"line\": {\"color\": \"#E5ECF6\", \"width\": 0.5}}, \"type\": \"bar\"}], \"barpolar\": [{\"marker\": {\"line\": {\"color\": \"#E5ECF6\", \"width\": 0.5}}, \"type\": \"barpolar\"}], \"carpet\": [{\"aaxis\": {\"endlinecolor\": \"#2a3f5f\", \"gridcolor\": \"white\", \"linecolor\": \"white\", \"minorgridcolor\": \"white\", \"startlinecolor\": \"#2a3f5f\"}, \"baxis\": {\"endlinecolor\": \"#2a3f5f\", \"gridcolor\": \"white\", \"linecolor\": \"white\", \"minorgridcolor\": \"white\", \"startlinecolor\": \"#2a3f5f\"}, \"type\": \"carpet\"}], \"choropleth\": [{\"colorbar\": {\"outlinewidth\": 0, \"ticks\": \"\"}, \"type\": \"choropleth\"}], \"contour\": [{\"colorbar\": {\"outlinewidth\": 0, \"ticks\": \"\"}, \"colorscale\": [[0.0, \"#0d0887\"], [0.1111111111111111, \"#46039f\"], [0.2222222222222222, \"#7201a8\"], [0.3333333333333333, \"#9c179e\"], [0.4444444444444444, \"#bd3786\"], [0.5555555555555556, \"#d8576b\"], [0.6666666666666666, \"#ed7953\"], [0.7777777777777778, \"#fb9f3a\"], [0.8888888888888888, \"#fdca26\"], [1.0, \"#f0f921\"]], \"type\": \"contour\"}], \"contourcarpet\": [{\"colorbar\": {\"outlinewidth\": 0, \"ticks\": \"\"}, \"type\": \"contourcarpet\"}], \"heatmap\": [{\"colorbar\": {\"outlinewidth\": 0, \"ticks\": \"\"}, \"colorscale\": [[0.0, \"#0d0887\"], [0.1111111111111111, \"#46039f\"], [0.2222222222222222, \"#7201a8\"], [0.3333333333333333, \"#9c179e\"], [0.4444444444444444, \"#bd3786\"], [0.5555555555555556, \"#d8576b\"], [0.6666666666666666, \"#ed7953\"], [0.7777777777777778, \"#fb9f3a\"], [0.8888888888888888, \"#fdca26\"], [1.0, \"#f0f921\"]], \"type\": \"heatmap\"}], \"heatmapgl\": [{\"colorbar\": {\"outlinewidth\": 0, \"ticks\": \"\"}, \"colorscale\": [[0.0, \"#0d0887\"], [0.1111111111111111, \"#46039f\"], [0.2222222222222222, \"#7201a8\"], [0.3333333333333333, \"#9c179e\"], [0.4444444444444444, \"#bd3786\"], [0.5555555555555556, \"#d8576b\"], [0.6666666666666666, \"#ed7953\"], [0.7777777777777778, \"#fb9f3a\"], [0.8888888888888888, \"#fdca26\"], [1.0, \"#f0f921\"]], \"type\": \"heatmapgl\"}], \"histogram\": [{\"marker\": {\"colorbar\": {\"outlinewidth\": 0, \"ticks\": \"\"}}, \"type\": \"histogram\"}], \"histogram2d\": [{\"colorbar\": {\"outlinewidth\": 0, \"ticks\": \"\"}, \"colorscale\": [[0.0, \"#0d0887\"], [0.1111111111111111, \"#46039f\"], [0.2222222222222222, \"#7201a8\"], [0.3333333333333333, \"#9c179e\"], [0.4444444444444444, \"#bd3786\"], [0.5555555555555556, \"#d8576b\"], [0.6666666666666666, \"#ed7953\"], [0.7777777777777778, \"#fb9f3a\"], [0.8888888888888888, \"#fdca26\"], [1.0, \"#f0f921\"]], \"type\": \"histogram2d\"}], \"histogram2dcontour\": [{\"colorbar\": {\"outlinewidth\": 0, \"ticks\": \"\"}, \"colorscale\": [[0.0, \"#0d0887\"], [0.1111111111111111, \"#46039f\"], [0.2222222222222222, \"#7201a8\"], [0.3333333333333333, \"#9c179e\"], [0.4444444444444444, \"#bd3786\"], [0.5555555555555556, \"#d8576b\"], [0.6666666666666666, \"#ed7953\"], [0.7777777777777778, \"#fb9f3a\"], [0.8888888888888888, \"#fdca26\"], [1.0, \"#f0f921\"]], \"type\": \"histogram2dcontour\"}], \"mesh3d\": [{\"colorbar\": {\"outlinewidth\": 0, \"ticks\": \"\"}, \"type\": \"mesh3d\"}], \"parcoords\": [{\"line\": {\"colorbar\": {\"outlinewidth\": 0, \"ticks\": \"\"}}, \"type\": \"parcoords\"}], \"pie\": [{\"automargin\": true, \"type\": \"pie\"}], \"scatter\": [{\"marker\": {\"colorbar\": {\"outlinewidth\": 0, \"ticks\": \"\"}}, \"type\": \"scatter\"}], \"scatter3d\": [{\"line\": {\"colorbar\": {\"outlinewidth\": 0, \"ticks\": \"\"}}, \"marker\": {\"colorbar\": {\"outlinewidth\": 0, \"ticks\": \"\"}}, \"type\": \"scatter3d\"}], \"scattercarpet\": [{\"marker\": {\"colorbar\": {\"outlinewidth\": 0, \"ticks\": \"\"}}, \"type\": \"scattercarpet\"}], \"scattergeo\": [{\"marker\": {\"colorbar\": {\"outlinewidth\": 0, \"ticks\": \"\"}}, \"type\": \"scattergeo\"}], \"scattergl\": [{\"marker\": {\"colorbar\": {\"outlinewidth\": 0, \"ticks\": \"\"}}, \"type\": \"scattergl\"}], \"scattermapbox\": [{\"marker\": {\"colorbar\": {\"outlinewidth\": 0, \"ticks\": \"\"}}, \"type\": \"scattermapbox\"}], \"scatterpolar\": [{\"marker\": {\"colorbar\": {\"outlinewidth\": 0, \"ticks\": \"\"}}, \"type\": \"scatterpolar\"}], \"scatterpolargl\": [{\"marker\": {\"colorbar\": {\"outlinewidth\": 0, \"ticks\": \"\"}}, \"type\": \"scatterpolargl\"}], \"scatterternary\": [{\"marker\": {\"colorbar\": {\"outlinewidth\": 0, \"ticks\": \"\"}}, \"type\": \"scatterternary\"}], \"surface\": [{\"colorbar\": {\"outlinewidth\": 0, \"ticks\": \"\"}, \"colorscale\": [[0.0, \"#0d0887\"], [0.1111111111111111, \"#46039f\"], [0.2222222222222222, \"#7201a8\"], [0.3333333333333333, \"#9c179e\"], [0.4444444444444444, \"#bd3786\"], [0.5555555555555556, \"#d8576b\"], [0.6666666666666666, \"#ed7953\"], [0.7777777777777778, \"#fb9f3a\"], [0.8888888888888888, \"#fdca26\"], [1.0, \"#f0f921\"]], \"type\": \"surface\"}], \"table\": [{\"cells\": {\"fill\": {\"color\": \"#EBF0F8\"}, \"line\": {\"color\": \"white\"}}, \"header\": {\"fill\": {\"color\": \"#C8D4E3\"}, \"line\": {\"color\": \"white\"}}, \"type\": \"table\"}]}, \"layout\": {\"annotationdefaults\": {\"arrowcolor\": \"#2a3f5f\", \"arrowhead\": 0, \"arrowwidth\": 1}, \"coloraxis\": {\"colorbar\": {\"outlinewidth\": 0, \"ticks\": \"\"}}, \"colorscale\": {\"diverging\": [[0, \"#8e0152\"], [0.1, \"#c51b7d\"], [0.2, \"#de77ae\"], [0.3, \"#f1b6da\"], [0.4, \"#fde0ef\"], [0.5, \"#f7f7f7\"], [0.6, \"#e6f5d0\"], [0.7, \"#b8e186\"], [0.8, \"#7fbc41\"], [0.9, \"#4d9221\"], [1, \"#276419\"]], \"sequential\": [[0.0, \"#0d0887\"], [0.1111111111111111, \"#46039f\"], [0.2222222222222222, \"#7201a8\"], [0.3333333333333333, \"#9c179e\"], [0.4444444444444444, \"#bd3786\"], [0.5555555555555556, \"#d8576b\"], [0.6666666666666666, \"#ed7953\"], [0.7777777777777778, \"#fb9f3a\"], [0.8888888888888888, \"#fdca26\"], [1.0, \"#f0f921\"]], \"sequentialminus\": [[0.0, \"#0d0887\"], [0.1111111111111111, \"#46039f\"], [0.2222222222222222, \"#7201a8\"], [0.3333333333333333, \"#9c179e\"], [0.4444444444444444, \"#bd3786\"], [0.5555555555555556, \"#d8576b\"], [0.6666666666666666, \"#ed7953\"], [0.7777777777777778, \"#fb9f3a\"], [0.8888888888888888, \"#fdca26\"], [1.0, \"#f0f921\"]]}, \"colorway\": [\"#636efa\", \"#EF553B\", \"#00cc96\", \"#ab63fa\", \"#FFA15A\", \"#19d3f3\", \"#FF6692\", \"#B6E880\", \"#FF97FF\", \"#FECB52\"], \"font\": {\"color\": \"#2a3f5f\"}, \"geo\": {\"bgcolor\": \"white\", \"lakecolor\": \"white\", \"landcolor\": \"#E5ECF6\", \"showlakes\": true, \"showland\": true, \"subunitcolor\": \"white\"}, \"hoverlabel\": {\"align\": \"left\"}, \"hovermode\": \"closest\", \"mapbox\": {\"style\": \"light\"}, \"paper_bgcolor\": \"white\", \"plot_bgcolor\": \"#E5ECF6\", \"polar\": {\"angularaxis\": {\"gridcolor\": \"white\", \"linecolor\": \"white\", \"ticks\": \"\"}, \"bgcolor\": \"#E5ECF6\", \"radialaxis\": {\"gridcolor\": \"white\", \"linecolor\": \"white\", \"ticks\": \"\"}}, \"scene\": {\"xaxis\": {\"backgroundcolor\": \"#E5ECF6\", \"gridcolor\": \"white\", \"gridwidth\": 2, \"linecolor\": \"white\", \"showbackground\": true, \"ticks\": \"\", \"zerolinecolor\": \"white\"}, \"yaxis\": {\"backgroundcolor\": \"#E5ECF6\", \"gridcolor\": \"white\", \"gridwidth\": 2, \"linecolor\": \"white\", \"showbackground\": true, \"ticks\": \"\", \"zerolinecolor\": \"white\"}, \"zaxis\": {\"backgroundcolor\": \"#E5ECF6\", \"gridcolor\": \"white\", \"gridwidth\": 2, \"linecolor\": \"white\", \"showbackground\": true, \"ticks\": \"\", \"zerolinecolor\": \"white\"}}, \"shapedefaults\": {\"line\": {\"color\": \"#2a3f5f\"}}, \"ternary\": {\"aaxis\": {\"gridcolor\": \"white\", \"linecolor\": \"white\", \"ticks\": \"\"}, \"baxis\": {\"gridcolor\": \"white\", \"linecolor\": \"white\", \"ticks\": \"\"}, \"bgcolor\": \"#E5ECF6\", \"caxis\": {\"gridcolor\": \"white\", \"linecolor\": \"white\", \"ticks\": \"\"}}, \"title\": {\"x\": 0.05}, \"xaxis\": {\"automargin\": true, \"gridcolor\": \"white\", \"linecolor\": \"white\", \"ticks\": \"\", \"title\": {\"standoff\": 15}, \"zerolinecolor\": \"white\", \"zerolinewidth\": 2}, \"yaxis\": {\"automargin\": true, \"gridcolor\": \"white\", \"linecolor\": \"white\", \"ticks\": \"\", \"title\": {\"standoff\": 15}, \"zerolinecolor\": \"white\", \"zerolinewidth\": 2}}}, \"title\": {\"text\": \"<b>Payment Method Distribution</b>\"}},\n",
              "                        {\"responsive\": true}\n",
              "                    ).then(function(){\n",
              "                            \n",
              "var gd = document.getElementById('9dfe09ea-7b20-4eab-b374-955020aa281a');\n",
              "var x = new MutationObserver(function (mutations, observer) {{\n",
              "        var display = window.getComputedStyle(gd).display;\n",
              "        if (!display || display === 'none') {{\n",
              "            console.log([gd, 'removed!']);\n",
              "            Plotly.purge(gd);\n",
              "            observer.disconnect();\n",
              "        }}\n",
              "}});\n",
              "\n",
              "// Listen for the removal of the full notebook cells\n",
              "var notebookContainer = gd.closest('#notebook-container');\n",
              "if (notebookContainer) {{\n",
              "    x.observe(notebookContainer, {childList: true});\n",
              "}}\n",
              "\n",
              "// Listen for the clearing of the current output cell\n",
              "var outputEl = gd.closest('.output');\n",
              "if (outputEl) {{\n",
              "    x.observe(outputEl, {childList: true});\n",
              "}}\n",
              "\n",
              "                        })\n",
              "                };\n",
              "                \n",
              "            </script>\n",
              "        </div>\n",
              "</body>\n",
              "</html>"
            ]
          },
          "metadata": {}
        }
      ]
    },
    {
      "cell_type": "markdown",
      "metadata": {
        "id": "bZGor_dPVVNa"
      },
      "source": [
        "We can see that the payment method that is widely used by customers is Bank Transfer and at least Electronic Check.\n",
        "The distribution of the bank transfer method is 33.4% while the Electronic Check is 21.5%."
      ]
    },
    {
      "cell_type": "code",
      "metadata": {
        "colab": {
          "base_uri": "https://localhost:8080/",
          "height": 295
        },
        "id": "7eP0bPRqLpz1",
        "outputId": "18cb0db5-f8af-4f87-b2d0-ec149fb2b4e2"
      },
      "source": [
        "sns.set_context(\"paper\",font_scale=1.1)\n",
        "ax = sns.kdeplot(X_train.MonthlyCharges[(y_train == 0) ],\n",
        "                color=\"Red\", shade = True);\n",
        "ax = sns.kdeplot(X_train.MonthlyCharges[(y_train == 1) ],\n",
        "                ax =ax, color=\"Blue\", shade= True);\n",
        "ax.legend([\"Not Churn\",\"Churn\"],loc='upper right');\n",
        "ax.set_ylabel('Density');\n",
        "ax.set_xlabel('Monthly Charges');\n",
        "ax.set_title('Distribution of monthly charges by churn');"
      ],
      "execution_count": 32,
      "outputs": [
        {
          "output_type": "display_data",
          "data": {
            "image/png": "[encoded data removed]",
            "text/plain": [
              "<Figure size 432x288 with 1 Axes>"
            ]
          },
          "metadata": {
            "needs_background": "light"
          }
        }
      ]
    },
    {
      "cell_type": "markdown",
      "metadata": {
        "id": "oqRWKBTSWz2S"
      },
      "source": [
        "Customers with higher Monthly Charges are also more likely to churn."
      ]
    },
    {
      "cell_type": "markdown",
      "metadata": {
        "id": "1rxRXHJo51Sl"
      },
      "source": [
        "### Categorical Feature Treatment"
      ]
    },
    {
      "cell_type": "code",
      "metadata": {
        "id": "ML6h8h2eZLdW"
      },
      "source": [
        "# We try to create new columns for just know how the correlation from categorical features\n",
        "\n",
        "X_test_ = X_test\n",
        "X_train_ = X_train\n",
        "\n",
        "X_test_ = X_test_.drop(['MonthlyCharges', 'TotalCharges', 'customerID', 'tenure'], axis=1)\n",
        "X_train_ = X_train_.drop(['MonthlyCharges', 'TotalCharges', 'customerID', 'tenure'], axis=1)"
      ],
      "execution_count": 33,
      "outputs": []
    },
    {
      "cell_type": "code",
      "metadata": {
        "colab": {
          "base_uri": "https://localhost:8080/"
        },
        "id": "zxNcVOCk1q0y",
        "outputId": "7ac5a862-f507-4bd7-c6d9-1ff4d56b351d"
      },
      "source": [
        "!pip install category_encoders"
      ],
      "execution_count": 34,
      "outputs": [
        {
          "output_type": "stream",
          "name": "stdout",
          "text": [
            "Collecting category_encoders\n",
            "  Downloading category_encoders-2.3.0-py2.py3-none-any.whl (82 kB)\n",
            "\u001b[?25l\r\u001b[K     |████                            | 10 kB 23.5 MB/s eta 0:00:01\r\u001b[K     |████████                        | 20 kB 25.2 MB/s eta 0:00:01\r\u001b[K     |████████████                    | 30 kB 11.7 MB/s eta 0:00:01\r\u001b[K     |████████████████                | 40 kB 8.9 MB/s eta 0:00:01\r\u001b[K     |████████████████████            | 51 kB 5.3 MB/s eta 0:00:01\r\u001b[K     |████████████████████████        | 61 kB 5.9 MB/s eta 0:00:01\r\u001b[K     |████████████████████████████    | 71 kB 5.7 MB/s eta 0:00:01\r\u001b[K     |███████████████████████████████▉| 81 kB 6.3 MB/s eta 0:00:01\r\u001b[K     |████████████████████████████████| 82 kB 378 kB/s \n",
            "\u001b[?25hRequirement already satisfied: statsmodels>=0.9.0 in /usr/local/lib/python3.7/dist-packages (from category_encoders) (0.10.2)\n",
            "Requirement already satisfied: scikit-learn>=0.20.0 in /usr/local/lib/python3.7/dist-packages (from category_encoders) (1.0.1)\n",
            "Requirement already satisfied: scipy>=1.0.0 in /usr/local/lib/python3.7/dist-packages (from category_encoders) (1.4.1)\n",
            "Requirement already satisfied: pandas>=0.21.1 in /usr/local/lib/python3.7/dist-packages (from category_encoders) (1.1.5)\n",
            "Requirement already satisfied: numpy>=1.14.0 in /usr/local/lib/python3.7/dist-packages (from category_encoders) (1.19.5)\n",
            "Requirement already satisfied: patsy>=0.5.1 in /usr/local/lib/python3.7/dist-packages (from category_encoders) (0.5.2)\n",
            "Requirement already satisfied: pytz>=2017.2 in /usr/local/lib/python3.7/dist-packages (from pandas>=0.21.1->category_encoders) (2018.9)\n",
            "Requirement already satisfied: python-dateutil>=2.7.3 in /usr/local/lib/python3.7/dist-packages (from pandas>=0.21.1->category_encoders) (2.8.2)\n",
            "Requirement already satisfied: six in /usr/local/lib/python3.7/dist-packages (from patsy>=0.5.1->category_encoders) (1.15.0)\n",
            "Requirement already satisfied: threadpoolctl>=2.0.0 in /usr/local/lib/python3.7/dist-packages (from scikit-learn>=0.20.0->category_encoders) (3.0.0)\n",
            "Requirement already satisfied: joblib>=0.11 in /usr/local/lib/python3.7/dist-packages (from scikit-learn>=0.20.0->category_encoders) (1.1.0)\n",
            "Installing collected packages: category-encoders\n",
            "Successfully installed category-encoders-2.3.0\n"
          ]
        }
      ]
    },
    {
      "cell_type": "code",
      "metadata": {
        "id": "GuLsypk5bX2W"
      },
      "source": [
        "import category_encoders as ce\n",
        "# Here we creat new column that already encode to plot\n",
        "OHE = ce.OneHotEncoder(cols=['gender', 'SeniorCitizen', 'Partner', 'Dependents', 'PhoneService',\n",
        "       'MultipleLines', 'InternetService', 'OnlineSecurity', 'OnlineBackup',\n",
        "       'DeviceProtection', 'TechSupport', 'StreamingTV', 'StreamingMovies',\n",
        "       'Contract', 'PaperlessBilling', 'PaymentMethod'],use_cat_names=True)\n",
        "# encode the categorical variables\n",
        "train_set = OHE.fit_transform(X_train_)"
      ],
      "execution_count": 35,
      "outputs": []
    },
    {
      "cell_type": "markdown",
      "metadata": {
        "id": "zPdRHlhaW8bd"
      },
      "source": [
        "### 10 features that have a high correlation score chi square."
      ]
    },
    {
      "cell_type": "code",
      "metadata": {
        "colab": {
          "base_uri": "https://localhost:8080/",
          "height": 855
        },
        "id": "OJrWXKf753nq",
        "outputId": "902a3e2d-3c7c-464b-b944-c84edee0d8e8"
      },
      "source": [
        "#Categorical Features Correlation\n",
        "#Create function prepare input to encode the features\n",
        "def prepare_input(X_train_, X_test_):\n",
        "  ohe = OneHotEncoder()\n",
        "  ohe.fit(X_train_)\n",
        "  X_train_chi = ohe.transform(X_train_)\n",
        "  X_test_chi = ohe.transform(X_test_)\n",
        "  return X_train_chi, X_test_chi\n",
        "\n",
        "#Create function prepare output to encode the target\n",
        "def prepare_output(y_train, y_test):\n",
        "  lb = LabelBinarizer()\n",
        "  lb.fit(y_train)\n",
        "  y_train_chi = lb.transform(y_train)\n",
        "  y_test_chi = lb.transform(y_test)\n",
        "  return y_train_chi, y_test_chi\n",
        "\n",
        "#Create function feature categorical selection using Chi2 and SelectKBest\n",
        "def select_features(X_train_, y_train, X_test_):\n",
        "  fs = SelectKBest(score_func=chi2, k='all')\n",
        "  fs.fit(X_train_, y_train)\n",
        "  X_train_fs = fs.transform(X_train_)\n",
        "  X_test_fs = fs.transform(X_test_)\n",
        "  return X_train_fs, X_test_fs, fs\n",
        "\n",
        "#apply function prepare input\n",
        "X_train_chi, X_test_chi = prepare_input(X_train_, X_test_)\n",
        "#apply fucntion prepare target\n",
        "y_train_chi, y_test_chi = prepare_output(y_train, y_test)\n",
        "# Feature Selection\n",
        "X_train_fs, X_test_fs, fs = select_features(X_train_chi, y_train_chi, X_test_chi)\n",
        "# What are scores for the features:\n",
        "for i in range(len(fs.scores_)):\n",
        "  if fs.scores_[i] >= 100 :\n",
        "    print('Feature %d: %f' % (i, fs.scores_[i]))\n",
        "# plot the scores\n",
        "features = train_set.columns\n",
        "feat_score = pd.DataFrame({'Features' : features, 'Feature_Score' : fs.scores_}).sort_values(by='Feature_Score', ascending=False)\n",
        "\n",
        "# Plot the feature_importance : only top 10\n",
        "plt.figure(figsize=(12,10))\n",
        "plt.barh(y=feat_score['Features'].iloc[:16], width=feat_score['Feature_Score'].iloc[:16])\n",
        "plt.xlabel(\"Feature Score\")\n",
        "plt.ylabel(\"Features\")\n",
        "plt.show()"
      ],
      "execution_count": 36,
      "outputs": [
        {
          "output_type": "stream",
          "name": "stdout",
          "text": [
            "Feature 14: 222.843854\n",
            "Feature 15: 172.488651\n",
            "Feature 16: 259.747420\n",
            "Feature 17: 172.488651\n",
            "Feature 19: 157.856966\n",
            "Feature 20: 172.488651\n",
            "Feature 22: 155.683984\n",
            "Feature 23: 172.488651\n",
            "Feature 25: 243.195428\n",
            "Feature 26: 172.488651\n",
            "Feature 29: 172.488651\n",
            "Feature 32: 172.488651\n",
            "Feature 34: 319.222466\n",
            "Feature 35: 103.117447\n",
            "Feature 36: 311.821549\n",
            "Feature 41: 239.563006\n"
          ]
        },
        {
          "output_type": "display_data",
          "data": {
            "image/png": "[encoded data removed]",
            "text/plain": [
              "<Figure size 864x720 with 1 Axes>"
            ]
          },
          "metadata": {
            "needs_background": "light"
          }
        }
      ]
    },
    {
      "cell_type": "markdown",
      "metadata": {
        "id": "lPFQVN6CXMQi"
      },
      "source": [
        "### 10 important features"
      ]
    },
    {
      "cell_type": "code",
      "metadata": {
        "colab": {
          "base_uri": "https://localhost:8080/",
          "height": 599
        },
        "id": "zL-4wylcbe45",
        "outputId": "dfddea09-9f56-4449-eb57-688372e5514d"
      },
      "source": [
        "# print the feature importance\n",
        "\n",
        "xgb_clf = XGBClassifier()\n",
        "xgb_clf.fit(train_set, y_train)\n",
        "\n",
        "features = train_set.columns\n",
        "feature_imp = xgb_clf.feature_importances_\n",
        "\n",
        "feat_imp_df = pd.DataFrame({'Features' : features, 'Feature_Importance' : feature_imp}).sort_values(by='Feature_Importance', ascending=False)\n",
        "\n",
        "# Plot the feature_importance : only top 10\n",
        "plt.figure(figsize=(12,10))\n",
        "plt.barh(y=feat_imp_df['Features'].iloc[ :16], width=feat_imp_df['Feature_Importance'].iloc[ :16])\n",
        "plt.xlabel(\"Feature Importance\")\n",
        "plt.ylabel(\"Features\")\n",
        "plt.show()"
      ],
      "execution_count": 37,
      "outputs": [
        {
          "output_type": "display_data",
          "data": {
            "image/png": "[encoded data removed]",
            "text/plain": [
              "<Figure size 864x720 with 1 Axes>"
            ]
          },
          "metadata": {
            "needs_background": "light"
          }
        }
      ]
    },
    {
      "cell_type": "code",
      "metadata": {
        "colab": {
          "base_uri": "https://localhost:8080/"
        },
        "id": "m-H-Z_K4jJtu",
        "outputId": "02a80793-4ef6-4553-d85b-34ec731ffa80"
      },
      "source": [
        "feat_imp_df['Features'][:10].values"
      ],
      "execution_count": 38,
      "outputs": [
        {
          "output_type": "execute_result",
          "data": {
            "text/plain": [
              "array(['Contract_Month-to-month', 'TechSupport_No', 'OnlineSecurity_No',\n",
              "       'InternetService_Fiber optic', 'PaymentMethod_Electronic check',\n",
              "       'Contract_Two year', 'OnlineBackup_No', 'OnlineSecurity_Yes',\n",
              "       'StreamingMovies_Yes', 'PaperlessBilling_No'], dtype=object)"
            ]
          },
          "metadata": {},
          "execution_count": 38
        }
      ]
    },
    {
      "cell_type": "markdown",
      "metadata": {
        "id": "CnwzcITDfWJO"
      },
      "source": [
        "------------\n",
        "# Data Preprocessing"
      ]
    },
    {
      "cell_type": "code",
      "metadata": {
        "id": "SLd0Gu3XfZqb"
      },
      "source": [
        "X_test = X_test.drop(['customerID'], axis=1)\n",
        "X_train = X_train.drop(['customerID'], axis=1)"
      ],
      "execution_count": 39,
      "outputs": []
    },
    {
      "cell_type": "code",
      "metadata": {
        "id": "4Ph_oxPHf9bF"
      },
      "source": [
        "X_val = X_val.drop(['customerID'], axis=1)"
      ],
      "execution_count": 40,
      "outputs": []
    },
    {
      "cell_type": "code",
      "metadata": {
        "colab": {
          "base_uri": "https://localhost:8080/"
        },
        "id": "YKpQoM0v4zIG",
        "outputId": "f1e5edf9-4de8-4808-facf-cad11690fb5d"
      },
      "source": [
        "X_train.select_dtypes('object').columns"
      ],
      "execution_count": 41,
      "outputs": [
        {
          "output_type": "execute_result",
          "data": {
            "text/plain": [
              "Index(['gender', 'Partner', 'Dependents', 'PhoneService', 'MultipleLines',\n",
              "       'InternetService', 'OnlineSecurity', 'OnlineBackup', 'DeviceProtection',\n",
              "       'TechSupport', 'StreamingTV', 'StreamingMovies', 'Contract',\n",
              "       'PaperlessBilling', 'PaymentMethod'],\n",
              "      dtype='object')"
            ]
          },
          "metadata": {},
          "execution_count": 41
        }
      ]
    },
    {
      "cell_type": "code",
      "metadata": {
        "colab": {
          "base_uri": "https://localhost:8080/",
          "height": 600
        },
        "id": "_SAq1dcbfeEi",
        "outputId": "3826938b-7392-44e4-fc01-cd09d7328d34"
      },
      "source": [
        "# creating instance of one-hot-encoder\n",
        "enc = OneHotEncoder(handle_unknown='ignore')\n",
        "# passing bridge-types-cat column (label encoded values of bridge_types)\n",
        "cols = ['gender', 'Partner', 'Dependents', 'PhoneService', 'MultipleLines',\n",
        "       'InternetService', 'OnlineSecurity', 'OnlineBackup', 'DeviceProtection',\n",
        "       'TechSupport', 'StreamingTV', 'StreamingMovies', 'Contract',\n",
        "       'PaperlessBilling', 'PaymentMethod']\n",
        "encoded_features = enc.fit(X_train[cols])\n",
        "encoded_features = enc.transform(X_train[cols])\n",
        "\n",
        "s = encoded_features.toarray()\n",
        "print(s)\n",
        "ohe_df = pd.DataFrame(s, columns=enc.get_feature_names())\n",
        "data_train = X_train.drop(['gender', 'Partner', 'Dependents', 'PhoneService', 'MultipleLines',\n",
        "       'InternetService', 'OnlineSecurity', 'OnlineBackup', 'DeviceProtection',\n",
        "       'TechSupport', 'StreamingTV', 'StreamingMovies', 'Contract',\n",
        "       'PaperlessBilling', 'PaymentMethod'], axis=1)\n",
        "data_train = data_train.reset_index()\n",
        "data_train = data_train.drop(['index'], axis=1)\n",
        "data_train = data_train.join(ohe_df)\n",
        "data_train"
      ],
      "execution_count": 42,
      "outputs": [
        {
          "output_type": "stream",
          "name": "stdout",
          "text": [
            "[[0. 1. 0. ... 0. 0. 0.]\n",
            " [0. 1. 1. ... 0. 0. 1.]\n",
            " [1. 0. 0. ... 0. 0. 0.]\n",
            " ...\n",
            " [0. 1. 0. ... 0. 1. 0.]\n",
            " [0. 1. 1. ... 0. 1. 0.]\n",
            " [1. 0. 1. ... 0. 0. 1.]]\n"
          ]
        },
        {
          "output_type": "execute_result",
          "data": {
            "text/html": [
              "<div>\n",
              "<style scoped>\n",
              "    .dataframe tbody tr th:only-of-type {\n",
              "        vertical-align: middle;\n",
              "    }\n",
              "\n",
              "    .dataframe tbody tr th {\n",
              "        vertical-align: top;\n",
              "    }\n",
              "\n",
              "    .dataframe thead th {\n",
              "        text-align: right;\n",
              "    }\n",
              "</style>\n",
              "<table border=\"1\" class=\"dataframe\">\n",
              "  <thead>\n",
              "    <tr style=\"text-align: right;\">\n",
              "      <th></th>\n",
              "      <th>SeniorCitizen</th>\n",
              "      <th>tenure</th>\n",
              "      <th>MonthlyCharges</th>\n",
              "      <th>TotalCharges</th>\n",
              "      <th>x0_Female</th>\n",
              "      <th>x0_Male</th>\n",
              "      <th>x1_No</th>\n",
              "      <th>x1_Yes</th>\n",
              "      <th>x2_No</th>\n",
              "      <th>x2_Yes</th>\n",
              "      <th>x3_No</th>\n",
              "      <th>x3_Yes</th>\n",
              "      <th>x4_No</th>\n",
              "      <th>x4_No phone service</th>\n",
              "      <th>x4_Yes</th>\n",
              "      <th>x5_DSL</th>\n",
              "      <th>x5_Fiber optic</th>\n",
              "      <th>x5_No</th>\n",
              "      <th>x6_No</th>\n",
              "      <th>x6_No internet service</th>\n",
              "      <th>x6_Yes</th>\n",
              "      <th>x7_No</th>\n",
              "      <th>x7_No internet service</th>\n",
              "      <th>x7_Yes</th>\n",
              "      <th>x8_No</th>\n",
              "      <th>x8_No internet service</th>\n",
              "      <th>x8_Yes</th>\n",
              "      <th>x9_No</th>\n",
              "      <th>x9_No internet service</th>\n",
              "      <th>x9_Yes</th>\n",
              "      <th>x10_No</th>\n",
              "      <th>x10_No internet service</th>\n",
              "      <th>x10_Yes</th>\n",
              "      <th>x11_No</th>\n",
              "      <th>x11_No internet service</th>\n",
              "      <th>x11_Yes</th>\n",
              "      <th>x12_Month-to-month</th>\n",
              "      <th>x12_One year</th>\n",
              "      <th>x12_Two year</th>\n",
              "      <th>x13_No</th>\n",
              "      <th>x13_Yes</th>\n",
              "      <th>x14_Bank transfer (automatic)</th>\n",
              "      <th>x14_Credit card (automatic)</th>\n",
              "      <th>x14_Electronic check</th>\n",
              "      <th>x14_Mailed check</th>\n",
              "    </tr>\n",
              "  </thead>\n",
              "  <tbody>\n",
              "    <tr>\n",
              "      <th>0</th>\n",
              "      <td>0</td>\n",
              "      <td>72</td>\n",
              "      <td>114.55</td>\n",
              "      <td>8306.05</td>\n",
              "      <td>0.0</td>\n",
              "      <td>1.0</td>\n",
              "      <td>0.0</td>\n",
              "      <td>1.0</td>\n",
              "      <td>0.0</td>\n",
              "      <td>1.0</td>\n",
              "      <td>0.0</td>\n",
              "      <td>1.0</td>\n",
              "      <td>0.0</td>\n",
              "      <td>0.0</td>\n",
              "      <td>1.0</td>\n",
              "      <td>0.0</td>\n",
              "      <td>1.0</td>\n",
              "      <td>0.0</td>\n",
              "      <td>0.0</td>\n",
              "      <td>0.0</td>\n",
              "      <td>1.0</td>\n",
              "      <td>0.0</td>\n",
              "      <td>0.0</td>\n",
              "      <td>1.0</td>\n",
              "      <td>0.0</td>\n",
              "      <td>0.0</td>\n",
              "      <td>1.0</td>\n",
              "      <td>0.0</td>\n",
              "      <td>0.0</td>\n",
              "      <td>1.0</td>\n",
              "      <td>0.0</td>\n",
              "      <td>0.0</td>\n",
              "      <td>1.0</td>\n",
              "      <td>0.0</td>\n",
              "      <td>0.0</td>\n",
              "      <td>1.0</td>\n",
              "      <td>0.0</td>\n",
              "      <td>0.0</td>\n",
              "      <td>1.0</td>\n",
              "      <td>1.0</td>\n",
              "      <td>0.0</td>\n",
              "      <td>1.0</td>\n",
              "      <td>0.0</td>\n",
              "      <td>0.0</td>\n",
              "      <td>0.0</td>\n",
              "    </tr>\n",
              "    <tr>\n",
              "      <th>1</th>\n",
              "      <td>0</td>\n",
              "      <td>25</td>\n",
              "      <td>20.60</td>\n",
              "      <td>541.50</td>\n",
              "      <td>0.0</td>\n",
              "      <td>1.0</td>\n",
              "      <td>1.0</td>\n",
              "      <td>0.0</td>\n",
              "      <td>1.0</td>\n",
              "      <td>0.0</td>\n",
              "      <td>0.0</td>\n",
              "      <td>1.0</td>\n",
              "      <td>1.0</td>\n",
              "      <td>0.0</td>\n",
              "      <td>0.0</td>\n",
              "      <td>0.0</td>\n",
              "      <td>0.0</td>\n",
              "      <td>1.0</td>\n",
              "      <td>0.0</td>\n",
              "      <td>1.0</td>\n",
              "      <td>0.0</td>\n",
              "      <td>0.0</td>\n",
              "      <td>1.0</td>\n",
              "      <td>0.0</td>\n",
              "      <td>0.0</td>\n",
              "      <td>1.0</td>\n",
              "      <td>0.0</td>\n",
              "      <td>0.0</td>\n",
              "      <td>1.0</td>\n",
              "      <td>0.0</td>\n",
              "      <td>0.0</td>\n",
              "      <td>1.0</td>\n",
              "      <td>0.0</td>\n",
              "      <td>0.0</td>\n",
              "      <td>1.0</td>\n",
              "      <td>0.0</td>\n",
              "      <td>1.0</td>\n",
              "      <td>0.0</td>\n",
              "      <td>0.0</td>\n",
              "      <td>1.0</td>\n",
              "      <td>0.0</td>\n",
              "      <td>0.0</td>\n",
              "      <td>0.0</td>\n",
              "      <td>0.0</td>\n",
              "      <td>1.0</td>\n",
              "    </tr>\n",
              "    <tr>\n",
              "      <th>2</th>\n",
              "      <td>0</td>\n",
              "      <td>25</td>\n",
              "      <td>34.00</td>\n",
              "      <td>853.00</td>\n",
              "      <td>1.0</td>\n",
              "      <td>0.0</td>\n",
              "      <td>0.0</td>\n",
              "      <td>1.0</td>\n",
              "      <td>1.0</td>\n",
              "      <td>0.0</td>\n",
              "      <td>1.0</td>\n",
              "      <td>0.0</td>\n",
              "      <td>0.0</td>\n",
              "      <td>1.0</td>\n",
              "      <td>0.0</td>\n",
              "      <td>1.0</td>\n",
              "      <td>0.0</td>\n",
              "      <td>0.0</td>\n",
              "      <td>1.0</td>\n",
              "      <td>0.0</td>\n",
              "      <td>0.0</td>\n",
              "      <td>1.0</td>\n",
              "      <td>0.0</td>\n",
              "      <td>0.0</td>\n",
              "      <td>1.0</td>\n",
              "      <td>0.0</td>\n",
              "      <td>0.0</td>\n",
              "      <td>1.0</td>\n",
              "      <td>0.0</td>\n",
              "      <td>0.0</td>\n",
              "      <td>0.0</td>\n",
              "      <td>0.0</td>\n",
              "      <td>1.0</td>\n",
              "      <td>1.0</td>\n",
              "      <td>0.0</td>\n",
              "      <td>0.0</td>\n",
              "      <td>1.0</td>\n",
              "      <td>0.0</td>\n",
              "      <td>0.0</td>\n",
              "      <td>0.0</td>\n",
              "      <td>1.0</td>\n",
              "      <td>1.0</td>\n",
              "      <td>0.0</td>\n",
              "      <td>0.0</td>\n",
              "      <td>0.0</td>\n",
              "    </tr>\n",
              "    <tr>\n",
              "      <th>3</th>\n",
              "      <td>0</td>\n",
              "      <td>2</td>\n",
              "      <td>73.25</td>\n",
              "      <td>131.05</td>\n",
              "      <td>0.0</td>\n",
              "      <td>1.0</td>\n",
              "      <td>1.0</td>\n",
              "      <td>0.0</td>\n",
              "      <td>1.0</td>\n",
              "      <td>0.0</td>\n",
              "      <td>0.0</td>\n",
              "      <td>1.0</td>\n",
              "      <td>0.0</td>\n",
              "      <td>0.0</td>\n",
              "      <td>1.0</td>\n",
              "      <td>0.0</td>\n",
              "      <td>1.0</td>\n",
              "      <td>0.0</td>\n",
              "      <td>1.0</td>\n",
              "      <td>0.0</td>\n",
              "      <td>0.0</td>\n",
              "      <td>1.0</td>\n",
              "      <td>0.0</td>\n",
              "      <td>0.0</td>\n",
              "      <td>1.0</td>\n",
              "      <td>0.0</td>\n",
              "      <td>0.0</td>\n",
              "      <td>1.0</td>\n",
              "      <td>0.0</td>\n",
              "      <td>0.0</td>\n",
              "      <td>1.0</td>\n",
              "      <td>0.0</td>\n",
              "      <td>0.0</td>\n",
              "      <td>1.0</td>\n",
              "      <td>0.0</td>\n",
              "      <td>0.0</td>\n",
              "      <td>1.0</td>\n",
              "      <td>0.0</td>\n",
              "      <td>0.0</td>\n",
              "      <td>0.0</td>\n",
              "      <td>1.0</td>\n",
              "      <td>0.0</td>\n",
              "      <td>1.0</td>\n",
              "      <td>0.0</td>\n",
              "      <td>0.0</td>\n",
              "    </tr>\n",
              "    <tr>\n",
              "      <th>4</th>\n",
              "      <td>1</td>\n",
              "      <td>63</td>\n",
              "      <td>36.10</td>\n",
              "      <td>2298.90</td>\n",
              "      <td>0.0</td>\n",
              "      <td>1.0</td>\n",
              "      <td>0.0</td>\n",
              "      <td>1.0</td>\n",
              "      <td>1.0</td>\n",
              "      <td>0.0</td>\n",
              "      <td>1.0</td>\n",
              "      <td>0.0</td>\n",
              "      <td>0.0</td>\n",
              "      <td>1.0</td>\n",
              "      <td>0.0</td>\n",
              "      <td>1.0</td>\n",
              "      <td>0.0</td>\n",
              "      <td>0.0</td>\n",
              "      <td>0.0</td>\n",
              "      <td>0.0</td>\n",
              "      <td>1.0</td>\n",
              "      <td>1.0</td>\n",
              "      <td>0.0</td>\n",
              "      <td>0.0</td>\n",
              "      <td>1.0</td>\n",
              "      <td>0.0</td>\n",
              "      <td>0.0</td>\n",
              "      <td>0.0</td>\n",
              "      <td>0.0</td>\n",
              "      <td>1.0</td>\n",
              "      <td>1.0</td>\n",
              "      <td>0.0</td>\n",
              "      <td>0.0</td>\n",
              "      <td>1.0</td>\n",
              "      <td>0.0</td>\n",
              "      <td>0.0</td>\n",
              "      <td>0.0</td>\n",
              "      <td>1.0</td>\n",
              "      <td>0.0</td>\n",
              "      <td>1.0</td>\n",
              "      <td>0.0</td>\n",
              "      <td>1.0</td>\n",
              "      <td>0.0</td>\n",
              "      <td>0.0</td>\n",
              "      <td>0.0</td>\n",
              "    </tr>\n",
              "    <tr>\n",
              "      <th>...</th>\n",
              "      <td>...</td>\n",
              "      <td>...</td>\n",
              "      <td>...</td>\n",
              "      <td>...</td>\n",
              "      <td>...</td>\n",
              "      <td>...</td>\n",
              "      <td>...</td>\n",
              "      <td>...</td>\n",
              "      <td>...</td>\n",
              "      <td>...</td>\n",
              "      <td>...</td>\n",
              "      <td>...</td>\n",
              "      <td>...</td>\n",
              "      <td>...</td>\n",
              "      <td>...</td>\n",
              "      <td>...</td>\n",
              "      <td>...</td>\n",
              "      <td>...</td>\n",
              "      <td>...</td>\n",
              "      <td>...</td>\n",
              "      <td>...</td>\n",
              "      <td>...</td>\n",
              "      <td>...</td>\n",
              "      <td>...</td>\n",
              "      <td>...</td>\n",
              "      <td>...</td>\n",
              "      <td>...</td>\n",
              "      <td>...</td>\n",
              "      <td>...</td>\n",
              "      <td>...</td>\n",
              "      <td>...</td>\n",
              "      <td>...</td>\n",
              "      <td>...</td>\n",
              "      <td>...</td>\n",
              "      <td>...</td>\n",
              "      <td>...</td>\n",
              "      <td>...</td>\n",
              "      <td>...</td>\n",
              "      <td>...</td>\n",
              "      <td>...</td>\n",
              "      <td>...</td>\n",
              "      <td>...</td>\n",
              "      <td>...</td>\n",
              "      <td>...</td>\n",
              "      <td>...</td>\n",
              "    </tr>\n",
              "    <tr>\n",
              "      <th>4220</th>\n",
              "      <td>1</td>\n",
              "      <td>56</td>\n",
              "      <td>94.80</td>\n",
              "      <td>5264.30</td>\n",
              "      <td>0.0</td>\n",
              "      <td>1.0</td>\n",
              "      <td>1.0</td>\n",
              "      <td>0.0</td>\n",
              "      <td>0.0</td>\n",
              "      <td>1.0</td>\n",
              "      <td>0.0</td>\n",
              "      <td>1.0</td>\n",
              "      <td>1.0</td>\n",
              "      <td>0.0</td>\n",
              "      <td>0.0</td>\n",
              "      <td>0.0</td>\n",
              "      <td>1.0</td>\n",
              "      <td>0.0</td>\n",
              "      <td>0.0</td>\n",
              "      <td>0.0</td>\n",
              "      <td>1.0</td>\n",
              "      <td>1.0</td>\n",
              "      <td>0.0</td>\n",
              "      <td>0.0</td>\n",
              "      <td>1.0</td>\n",
              "      <td>0.0</td>\n",
              "      <td>0.0</td>\n",
              "      <td>1.0</td>\n",
              "      <td>0.0</td>\n",
              "      <td>0.0</td>\n",
              "      <td>0.0</td>\n",
              "      <td>0.0</td>\n",
              "      <td>1.0</td>\n",
              "      <td>0.0</td>\n",
              "      <td>0.0</td>\n",
              "      <td>1.0</td>\n",
              "      <td>0.0</td>\n",
              "      <td>1.0</td>\n",
              "      <td>0.0</td>\n",
              "      <td>1.0</td>\n",
              "      <td>0.0</td>\n",
              "      <td>0.0</td>\n",
              "      <td>1.0</td>\n",
              "      <td>0.0</td>\n",
              "      <td>0.0</td>\n",
              "    </tr>\n",
              "    <tr>\n",
              "      <th>4221</th>\n",
              "      <td>0</td>\n",
              "      <td>12</td>\n",
              "      <td>94.20</td>\n",
              "      <td>1046.10</td>\n",
              "      <td>1.0</td>\n",
              "      <td>0.0</td>\n",
              "      <td>1.0</td>\n",
              "      <td>0.0</td>\n",
              "      <td>1.0</td>\n",
              "      <td>0.0</td>\n",
              "      <td>0.0</td>\n",
              "      <td>1.0</td>\n",
              "      <td>0.0</td>\n",
              "      <td>0.0</td>\n",
              "      <td>1.0</td>\n",
              "      <td>0.0</td>\n",
              "      <td>1.0</td>\n",
              "      <td>0.0</td>\n",
              "      <td>1.0</td>\n",
              "      <td>0.0</td>\n",
              "      <td>0.0</td>\n",
              "      <td>1.0</td>\n",
              "      <td>0.0</td>\n",
              "      <td>0.0</td>\n",
              "      <td>1.0</td>\n",
              "      <td>0.0</td>\n",
              "      <td>0.0</td>\n",
              "      <td>1.0</td>\n",
              "      <td>0.0</td>\n",
              "      <td>0.0</td>\n",
              "      <td>0.0</td>\n",
              "      <td>0.0</td>\n",
              "      <td>1.0</td>\n",
              "      <td>0.0</td>\n",
              "      <td>0.0</td>\n",
              "      <td>1.0</td>\n",
              "      <td>1.0</td>\n",
              "      <td>0.0</td>\n",
              "      <td>0.0</td>\n",
              "      <td>0.0</td>\n",
              "      <td>1.0</td>\n",
              "      <td>0.0</td>\n",
              "      <td>0.0</td>\n",
              "      <td>1.0</td>\n",
              "      <td>0.0</td>\n",
              "    </tr>\n",
              "    <tr>\n",
              "      <th>4222</th>\n",
              "      <td>0</td>\n",
              "      <td>1</td>\n",
              "      <td>44.55</td>\n",
              "      <td>44.55</td>\n",
              "      <td>0.0</td>\n",
              "      <td>1.0</td>\n",
              "      <td>0.0</td>\n",
              "      <td>1.0</td>\n",
              "      <td>0.0</td>\n",
              "      <td>1.0</td>\n",
              "      <td>0.0</td>\n",
              "      <td>1.0</td>\n",
              "      <td>1.0</td>\n",
              "      <td>0.0</td>\n",
              "      <td>0.0</td>\n",
              "      <td>1.0</td>\n",
              "      <td>0.0</td>\n",
              "      <td>0.0</td>\n",
              "      <td>1.0</td>\n",
              "      <td>0.0</td>\n",
              "      <td>0.0</td>\n",
              "      <td>1.0</td>\n",
              "      <td>0.0</td>\n",
              "      <td>0.0</td>\n",
              "      <td>1.0</td>\n",
              "      <td>0.0</td>\n",
              "      <td>0.0</td>\n",
              "      <td>1.0</td>\n",
              "      <td>0.0</td>\n",
              "      <td>0.0</td>\n",
              "      <td>1.0</td>\n",
              "      <td>0.0</td>\n",
              "      <td>0.0</td>\n",
              "      <td>1.0</td>\n",
              "      <td>0.0</td>\n",
              "      <td>0.0</td>\n",
              "      <td>1.0</td>\n",
              "      <td>0.0</td>\n",
              "      <td>0.0</td>\n",
              "      <td>1.0</td>\n",
              "      <td>0.0</td>\n",
              "      <td>0.0</td>\n",
              "      <td>0.0</td>\n",
              "      <td>1.0</td>\n",
              "      <td>0.0</td>\n",
              "    </tr>\n",
              "    <tr>\n",
              "      <th>4223</th>\n",
              "      <td>0</td>\n",
              "      <td>18</td>\n",
              "      <td>19.00</td>\n",
              "      <td>348.80</td>\n",
              "      <td>0.0</td>\n",
              "      <td>1.0</td>\n",
              "      <td>1.0</td>\n",
              "      <td>0.0</td>\n",
              "      <td>1.0</td>\n",
              "      <td>0.0</td>\n",
              "      <td>0.0</td>\n",
              "      <td>1.0</td>\n",
              "      <td>1.0</td>\n",
              "      <td>0.0</td>\n",
              "      <td>0.0</td>\n",
              "      <td>0.0</td>\n",
              "      <td>0.0</td>\n",
              "      <td>1.0</td>\n",
              "      <td>0.0</td>\n",
              "      <td>1.0</td>\n",
              "      <td>0.0</td>\n",
              "      <td>0.0</td>\n",
              "      <td>1.0</td>\n",
              "      <td>0.0</td>\n",
              "      <td>0.0</td>\n",
              "      <td>1.0</td>\n",
              "      <td>0.0</td>\n",
              "      <td>0.0</td>\n",
              "      <td>1.0</td>\n",
              "      <td>0.0</td>\n",
              "      <td>0.0</td>\n",
              "      <td>1.0</td>\n",
              "      <td>0.0</td>\n",
              "      <td>0.0</td>\n",
              "      <td>1.0</td>\n",
              "      <td>0.0</td>\n",
              "      <td>1.0</td>\n",
              "      <td>0.0</td>\n",
              "      <td>0.0</td>\n",
              "      <td>1.0</td>\n",
              "      <td>0.0</td>\n",
              "      <td>0.0</td>\n",
              "      <td>0.0</td>\n",
              "      <td>1.0</td>\n",
              "      <td>0.0</td>\n",
              "    </tr>\n",
              "    <tr>\n",
              "      <th>4224</th>\n",
              "      <td>0</td>\n",
              "      <td>19</td>\n",
              "      <td>56.10</td>\n",
              "      <td>1033.90</td>\n",
              "      <td>1.0</td>\n",
              "      <td>0.0</td>\n",
              "      <td>1.0</td>\n",
              "      <td>0.0</td>\n",
              "      <td>1.0</td>\n",
              "      <td>0.0</td>\n",
              "      <td>0.0</td>\n",
              "      <td>1.0</td>\n",
              "      <td>0.0</td>\n",
              "      <td>0.0</td>\n",
              "      <td>1.0</td>\n",
              "      <td>1.0</td>\n",
              "      <td>0.0</td>\n",
              "      <td>0.0</td>\n",
              "      <td>1.0</td>\n",
              "      <td>0.0</td>\n",
              "      <td>0.0</td>\n",
              "      <td>1.0</td>\n",
              "      <td>0.0</td>\n",
              "      <td>0.0</td>\n",
              "      <td>0.0</td>\n",
              "      <td>0.0</td>\n",
              "      <td>1.0</td>\n",
              "      <td>1.0</td>\n",
              "      <td>0.0</td>\n",
              "      <td>0.0</td>\n",
              "      <td>1.0</td>\n",
              "      <td>0.0</td>\n",
              "      <td>0.0</td>\n",
              "      <td>1.0</td>\n",
              "      <td>0.0</td>\n",
              "      <td>0.0</td>\n",
              "      <td>1.0</td>\n",
              "      <td>0.0</td>\n",
              "      <td>0.0</td>\n",
              "      <td>0.0</td>\n",
              "      <td>1.0</td>\n",
              "      <td>0.0</td>\n",
              "      <td>0.0</td>\n",
              "      <td>0.0</td>\n",
              "      <td>1.0</td>\n",
              "    </tr>\n",
              "  </tbody>\n",
              "</table>\n",
              "<p>4225 rows × 45 columns</p>\n",
              "</div>"
            ],
            "text/plain": [
              "      SeniorCitizen  tenure  ...  x14_Electronic check  x14_Mailed check\n",
              "0                 0      72  ...                   0.0               0.0\n",
              "1                 0      25  ...                   0.0               1.0\n",
              "2                 0      25  ...                   0.0               0.0\n",
              "3                 0       2  ...                   0.0               0.0\n",
              "4                 1      63  ...                   0.0               0.0\n",
              "...             ...     ...  ...                   ...               ...\n",
              "4220              1      56  ...                   0.0               0.0\n",
              "4221              0      12  ...                   1.0               0.0\n",
              "4222              0       1  ...                   1.0               0.0\n",
              "4223              0      18  ...                   1.0               0.0\n",
              "4224              0      19  ...                   0.0               1.0\n",
              "\n",
              "[4225 rows x 45 columns]"
            ]
          },
          "metadata": {},
          "execution_count": 42
        }
      ]
    },
    {
      "cell_type": "code",
      "metadata": {
        "colab": {
          "base_uri": "https://localhost:8080/"
        },
        "id": "HaQMVPrwEpZJ",
        "outputId": "58c25c63-2f77-4c72-d7f5-40492ae5b50e"
      },
      "source": [
        "print(X_val[X_val['TotalCharges'] == ' '])\n"
      ],
      "execution_count": 43,
      "outputs": [
        {
          "output_type": "stream",
          "name": "stdout",
          "text": [
            "      gender  SeniorCitizen Partner  ... PaymentMethod  MonthlyCharges TotalCharges\n",
            "936   Female              0     Yes  ...  Mailed check           80.85             \n",
            "753     Male              0      No  ...  Mailed check           20.25             \n",
            "1082    Male              0     Yes  ...  Mailed check           25.75             \n",
            "6670  Female              0     Yes  ...  Mailed check           73.35             \n",
            "\n",
            "[4 rows x 19 columns]\n"
          ]
        }
      ]
    },
    {
      "cell_type": "code",
      "metadata": {
        "id": "1po0BAcEFIC4"
      },
      "source": [
        "X_val['TotalCharges'] = X_val['TotalCharges'].apply(lambda x: x.strip()).replace('', np.nan)\n",
        "X_val['TotalCharges'] = X_val['TotalCharges'].fillna(X_val['TotalCharges'].median(), axis=0)"
      ],
      "execution_count": 44,
      "outputs": []
    },
    {
      "cell_type": "code",
      "metadata": {
        "id": "Xeey_4d7FhQ8"
      },
      "source": [
        "X_val['TotalCharges'] = X_val['TotalCharges'].astype('float64')"
      ],
      "execution_count": 45,
      "outputs": []
    },
    {
      "cell_type": "code",
      "metadata": {
        "colab": {
          "base_uri": "https://localhost:8080/",
          "height": 478
        },
        "id": "HTOZlf_GCyD3",
        "outputId": "41336234-b584-425a-f81b-1e5a694a6026"
      },
      "source": [
        "final_val_cat = enc.transform(X_val[cols]).toarray()\n",
        "ohe_df_val = pd.DataFrame(final_val_cat, columns=enc.get_feature_names())\n",
        "data_val = X_val.drop(['gender', 'Partner', 'Dependents', 'PhoneService', 'MultipleLines',\n",
        "       'InternetService', 'OnlineSecurity', 'OnlineBackup', 'DeviceProtection',\n",
        "       'TechSupport', 'StreamingTV', 'StreamingMovies', 'Contract',\n",
        "       'PaperlessBilling', 'PaymentMethod'], axis=1)\n",
        "data_val = data_val.reset_index()\n",
        "data_val = data_val.drop(['index'], axis=1)\n",
        "data_val = data_val.join(ohe_df_val)\n",
        "data_val"
      ],
      "execution_count": 46,
      "outputs": [
        {
          "output_type": "execute_result",
          "data": {
            "text/html": [
              "<div>\n",
              "<style scoped>\n",
              "    .dataframe tbody tr th:only-of-type {\n",
              "        vertical-align: middle;\n",
              "    }\n",
              "\n",
              "    .dataframe tbody tr th {\n",
              "        vertical-align: top;\n",
              "    }\n",
              "\n",
              "    .dataframe thead th {\n",
              "        text-align: right;\n",
              "    }\n",
              "</style>\n",
              "<table border=\"1\" class=\"dataframe\">\n",
              "  <thead>\n",
              "    <tr style=\"text-align: right;\">\n",
              "      <th></th>\n",
              "      <th>SeniorCitizen</th>\n",
              "      <th>tenure</th>\n",
              "      <th>MonthlyCharges</th>\n",
              "      <th>TotalCharges</th>\n",
              "      <th>x0_Female</th>\n",
              "      <th>x0_Male</th>\n",
              "      <th>x1_No</th>\n",
              "      <th>x1_Yes</th>\n",
              "      <th>x2_No</th>\n",
              "      <th>x2_Yes</th>\n",
              "      <th>x3_No</th>\n",
              "      <th>x3_Yes</th>\n",
              "      <th>x4_No</th>\n",
              "      <th>x4_No phone service</th>\n",
              "      <th>x4_Yes</th>\n",
              "      <th>x5_DSL</th>\n",
              "      <th>x5_Fiber optic</th>\n",
              "      <th>x5_No</th>\n",
              "      <th>x6_No</th>\n",
              "      <th>x6_No internet service</th>\n",
              "      <th>x6_Yes</th>\n",
              "      <th>x7_No</th>\n",
              "      <th>x7_No internet service</th>\n",
              "      <th>x7_Yes</th>\n",
              "      <th>x8_No</th>\n",
              "      <th>x8_No internet service</th>\n",
              "      <th>x8_Yes</th>\n",
              "      <th>x9_No</th>\n",
              "      <th>x9_No internet service</th>\n",
              "      <th>x9_Yes</th>\n",
              "      <th>x10_No</th>\n",
              "      <th>x10_No internet service</th>\n",
              "      <th>x10_Yes</th>\n",
              "      <th>x11_No</th>\n",
              "      <th>x11_No internet service</th>\n",
              "      <th>x11_Yes</th>\n",
              "      <th>x12_Month-to-month</th>\n",
              "      <th>x12_One year</th>\n",
              "      <th>x12_Two year</th>\n",
              "      <th>x13_No</th>\n",
              "      <th>x13_Yes</th>\n",
              "      <th>x14_Bank transfer (automatic)</th>\n",
              "      <th>x14_Credit card (automatic)</th>\n",
              "      <th>x14_Electronic check</th>\n",
              "      <th>x14_Mailed check</th>\n",
              "    </tr>\n",
              "  </thead>\n",
              "  <tbody>\n",
              "    <tr>\n",
              "      <th>0</th>\n",
              "      <td>0</td>\n",
              "      <td>53</td>\n",
              "      <td>19.75</td>\n",
              "      <td>1052.35</td>\n",
              "      <td>0.0</td>\n",
              "      <td>1.0</td>\n",
              "      <td>1.0</td>\n",
              "      <td>0.0</td>\n",
              "      <td>0.0</td>\n",
              "      <td>1.0</td>\n",
              "      <td>0.0</td>\n",
              "      <td>1.0</td>\n",
              "      <td>1.0</td>\n",
              "      <td>0.0</td>\n",
              "      <td>0.0</td>\n",
              "      <td>0.0</td>\n",
              "      <td>0.0</td>\n",
              "      <td>1.0</td>\n",
              "      <td>0.0</td>\n",
              "      <td>1.0</td>\n",
              "      <td>0.0</td>\n",
              "      <td>0.0</td>\n",
              "      <td>1.0</td>\n",
              "      <td>0.0</td>\n",
              "      <td>0.0</td>\n",
              "      <td>1.0</td>\n",
              "      <td>0.0</td>\n",
              "      <td>0.0</td>\n",
              "      <td>1.0</td>\n",
              "      <td>0.0</td>\n",
              "      <td>0.0</td>\n",
              "      <td>1.0</td>\n",
              "      <td>0.0</td>\n",
              "      <td>0.0</td>\n",
              "      <td>1.0</td>\n",
              "      <td>0.0</td>\n",
              "      <td>0.0</td>\n",
              "      <td>0.0</td>\n",
              "      <td>1.0</td>\n",
              "      <td>1.0</td>\n",
              "      <td>0.0</td>\n",
              "      <td>1.0</td>\n",
              "      <td>0.0</td>\n",
              "      <td>0.0</td>\n",
              "      <td>0.0</td>\n",
              "    </tr>\n",
              "    <tr>\n",
              "      <th>1</th>\n",
              "      <td>0</td>\n",
              "      <td>58</td>\n",
              "      <td>82.50</td>\n",
              "      <td>4828.05</td>\n",
              "      <td>0.0</td>\n",
              "      <td>1.0</td>\n",
              "      <td>0.0</td>\n",
              "      <td>1.0</td>\n",
              "      <td>0.0</td>\n",
              "      <td>1.0</td>\n",
              "      <td>0.0</td>\n",
              "      <td>1.0</td>\n",
              "      <td>0.0</td>\n",
              "      <td>0.0</td>\n",
              "      <td>1.0</td>\n",
              "      <td>0.0</td>\n",
              "      <td>1.0</td>\n",
              "      <td>0.0</td>\n",
              "      <td>1.0</td>\n",
              "      <td>0.0</td>\n",
              "      <td>0.0</td>\n",
              "      <td>1.0</td>\n",
              "      <td>0.0</td>\n",
              "      <td>0.0</td>\n",
              "      <td>1.0</td>\n",
              "      <td>0.0</td>\n",
              "      <td>0.0</td>\n",
              "      <td>1.0</td>\n",
              "      <td>0.0</td>\n",
              "      <td>0.0</td>\n",
              "      <td>0.0</td>\n",
              "      <td>0.0</td>\n",
              "      <td>1.0</td>\n",
              "      <td>1.0</td>\n",
              "      <td>0.0</td>\n",
              "      <td>0.0</td>\n",
              "      <td>0.0</td>\n",
              "      <td>0.0</td>\n",
              "      <td>1.0</td>\n",
              "      <td>1.0</td>\n",
              "      <td>0.0</td>\n",
              "      <td>1.0</td>\n",
              "      <td>0.0</td>\n",
              "      <td>0.0</td>\n",
              "      <td>0.0</td>\n",
              "    </tr>\n",
              "    <tr>\n",
              "      <th>2</th>\n",
              "      <td>0</td>\n",
              "      <td>42</td>\n",
              "      <td>49.55</td>\n",
              "      <td>2077.95</td>\n",
              "      <td>1.0</td>\n",
              "      <td>0.0</td>\n",
              "      <td>1.0</td>\n",
              "      <td>0.0</td>\n",
              "      <td>1.0</td>\n",
              "      <td>0.0</td>\n",
              "      <td>0.0</td>\n",
              "      <td>1.0</td>\n",
              "      <td>1.0</td>\n",
              "      <td>0.0</td>\n",
              "      <td>0.0</td>\n",
              "      <td>1.0</td>\n",
              "      <td>0.0</td>\n",
              "      <td>0.0</td>\n",
              "      <td>1.0</td>\n",
              "      <td>0.0</td>\n",
              "      <td>0.0</td>\n",
              "      <td>0.0</td>\n",
              "      <td>0.0</td>\n",
              "      <td>1.0</td>\n",
              "      <td>1.0</td>\n",
              "      <td>0.0</td>\n",
              "      <td>0.0</td>\n",
              "      <td>1.0</td>\n",
              "      <td>0.0</td>\n",
              "      <td>0.0</td>\n",
              "      <td>1.0</td>\n",
              "      <td>0.0</td>\n",
              "      <td>0.0</td>\n",
              "      <td>1.0</td>\n",
              "      <td>0.0</td>\n",
              "      <td>0.0</td>\n",
              "      <td>1.0</td>\n",
              "      <td>0.0</td>\n",
              "      <td>0.0</td>\n",
              "      <td>0.0</td>\n",
              "      <td>1.0</td>\n",
              "      <td>0.0</td>\n",
              "      <td>0.0</td>\n",
              "      <td>1.0</td>\n",
              "      <td>0.0</td>\n",
              "    </tr>\n",
              "    <tr>\n",
              "      <th>3</th>\n",
              "      <td>0</td>\n",
              "      <td>1</td>\n",
              "      <td>50.35</td>\n",
              "      <td>50.35</td>\n",
              "      <td>0.0</td>\n",
              "      <td>1.0</td>\n",
              "      <td>0.0</td>\n",
              "      <td>1.0</td>\n",
              "      <td>1.0</td>\n",
              "      <td>0.0</td>\n",
              "      <td>1.0</td>\n",
              "      <td>0.0</td>\n",
              "      <td>0.0</td>\n",
              "      <td>1.0</td>\n",
              "      <td>0.0</td>\n",
              "      <td>1.0</td>\n",
              "      <td>0.0</td>\n",
              "      <td>0.0</td>\n",
              "      <td>1.0</td>\n",
              "      <td>0.0</td>\n",
              "      <td>0.0</td>\n",
              "      <td>1.0</td>\n",
              "      <td>0.0</td>\n",
              "      <td>0.0</td>\n",
              "      <td>0.0</td>\n",
              "      <td>0.0</td>\n",
              "      <td>1.0</td>\n",
              "      <td>1.0</td>\n",
              "      <td>0.0</td>\n",
              "      <td>0.0</td>\n",
              "      <td>0.0</td>\n",
              "      <td>0.0</td>\n",
              "      <td>1.0</td>\n",
              "      <td>0.0</td>\n",
              "      <td>0.0</td>\n",
              "      <td>1.0</td>\n",
              "      <td>1.0</td>\n",
              "      <td>0.0</td>\n",
              "      <td>0.0</td>\n",
              "      <td>0.0</td>\n",
              "      <td>1.0</td>\n",
              "      <td>0.0</td>\n",
              "      <td>0.0</td>\n",
              "      <td>1.0</td>\n",
              "      <td>0.0</td>\n",
              "    </tr>\n",
              "    <tr>\n",
              "      <th>4</th>\n",
              "      <td>0</td>\n",
              "      <td>1</td>\n",
              "      <td>81.70</td>\n",
              "      <td>81.70</td>\n",
              "      <td>0.0</td>\n",
              "      <td>1.0</td>\n",
              "      <td>1.0</td>\n",
              "      <td>0.0</td>\n",
              "      <td>1.0</td>\n",
              "      <td>0.0</td>\n",
              "      <td>0.0</td>\n",
              "      <td>1.0</td>\n",
              "      <td>0.0</td>\n",
              "      <td>0.0</td>\n",
              "      <td>1.0</td>\n",
              "      <td>0.0</td>\n",
              "      <td>1.0</td>\n",
              "      <td>0.0</td>\n",
              "      <td>0.0</td>\n",
              "      <td>0.0</td>\n",
              "      <td>1.0</td>\n",
              "      <td>1.0</td>\n",
              "      <td>0.0</td>\n",
              "      <td>0.0</td>\n",
              "      <td>1.0</td>\n",
              "      <td>0.0</td>\n",
              "      <td>0.0</td>\n",
              "      <td>1.0</td>\n",
              "      <td>0.0</td>\n",
              "      <td>0.0</td>\n",
              "      <td>1.0</td>\n",
              "      <td>0.0</td>\n",
              "      <td>0.0</td>\n",
              "      <td>1.0</td>\n",
              "      <td>0.0</td>\n",
              "      <td>0.0</td>\n",
              "      <td>1.0</td>\n",
              "      <td>0.0</td>\n",
              "      <td>0.0</td>\n",
              "      <td>0.0</td>\n",
              "      <td>1.0</td>\n",
              "      <td>0.0</td>\n",
              "      <td>0.0</td>\n",
              "      <td>1.0</td>\n",
              "      <td>0.0</td>\n",
              "    </tr>\n",
              "    <tr>\n",
              "      <th>...</th>\n",
              "      <td>...</td>\n",
              "      <td>...</td>\n",
              "      <td>...</td>\n",
              "      <td>...</td>\n",
              "      <td>...</td>\n",
              "      <td>...</td>\n",
              "      <td>...</td>\n",
              "      <td>...</td>\n",
              "      <td>...</td>\n",
              "      <td>...</td>\n",
              "      <td>...</td>\n",
              "      <td>...</td>\n",
              "      <td>...</td>\n",
              "      <td>...</td>\n",
              "      <td>...</td>\n",
              "      <td>...</td>\n",
              "      <td>...</td>\n",
              "      <td>...</td>\n",
              "      <td>...</td>\n",
              "      <td>...</td>\n",
              "      <td>...</td>\n",
              "      <td>...</td>\n",
              "      <td>...</td>\n",
              "      <td>...</td>\n",
              "      <td>...</td>\n",
              "      <td>...</td>\n",
              "      <td>...</td>\n",
              "      <td>...</td>\n",
              "      <td>...</td>\n",
              "      <td>...</td>\n",
              "      <td>...</td>\n",
              "      <td>...</td>\n",
              "      <td>...</td>\n",
              "      <td>...</td>\n",
              "      <td>...</td>\n",
              "      <td>...</td>\n",
              "      <td>...</td>\n",
              "      <td>...</td>\n",
              "      <td>...</td>\n",
              "      <td>...</td>\n",
              "      <td>...</td>\n",
              "      <td>...</td>\n",
              "      <td>...</td>\n",
              "      <td>...</td>\n",
              "      <td>...</td>\n",
              "    </tr>\n",
              "    <tr>\n",
              "      <th>1404</th>\n",
              "      <td>0</td>\n",
              "      <td>54</td>\n",
              "      <td>79.85</td>\n",
              "      <td>4308.25</td>\n",
              "      <td>0.0</td>\n",
              "      <td>1.0</td>\n",
              "      <td>1.0</td>\n",
              "      <td>0.0</td>\n",
              "      <td>1.0</td>\n",
              "      <td>0.0</td>\n",
              "      <td>0.0</td>\n",
              "      <td>1.0</td>\n",
              "      <td>0.0</td>\n",
              "      <td>0.0</td>\n",
              "      <td>1.0</td>\n",
              "      <td>0.0</td>\n",
              "      <td>1.0</td>\n",
              "      <td>0.0</td>\n",
              "      <td>1.0</td>\n",
              "      <td>0.0</td>\n",
              "      <td>0.0</td>\n",
              "      <td>0.0</td>\n",
              "      <td>0.0</td>\n",
              "      <td>1.0</td>\n",
              "      <td>1.0</td>\n",
              "      <td>0.0</td>\n",
              "      <td>0.0</td>\n",
              "      <td>1.0</td>\n",
              "      <td>0.0</td>\n",
              "      <td>0.0</td>\n",
              "      <td>1.0</td>\n",
              "      <td>0.0</td>\n",
              "      <td>0.0</td>\n",
              "      <td>1.0</td>\n",
              "      <td>0.0</td>\n",
              "      <td>0.0</td>\n",
              "      <td>1.0</td>\n",
              "      <td>0.0</td>\n",
              "      <td>0.0</td>\n",
              "      <td>0.0</td>\n",
              "      <td>1.0</td>\n",
              "      <td>1.0</td>\n",
              "      <td>0.0</td>\n",
              "      <td>0.0</td>\n",
              "      <td>0.0</td>\n",
              "    </tr>\n",
              "    <tr>\n",
              "      <th>1405</th>\n",
              "      <td>0</td>\n",
              "      <td>42</td>\n",
              "      <td>20.25</td>\n",
              "      <td>854.90</td>\n",
              "      <td>0.0</td>\n",
              "      <td>1.0</td>\n",
              "      <td>0.0</td>\n",
              "      <td>1.0</td>\n",
              "      <td>0.0</td>\n",
              "      <td>1.0</td>\n",
              "      <td>0.0</td>\n",
              "      <td>1.0</td>\n",
              "      <td>1.0</td>\n",
              "      <td>0.0</td>\n",
              "      <td>0.0</td>\n",
              "      <td>0.0</td>\n",
              "      <td>0.0</td>\n",
              "      <td>1.0</td>\n",
              "      <td>0.0</td>\n",
              "      <td>1.0</td>\n",
              "      <td>0.0</td>\n",
              "      <td>0.0</td>\n",
              "      <td>1.0</td>\n",
              "      <td>0.0</td>\n",
              "      <td>0.0</td>\n",
              "      <td>1.0</td>\n",
              "      <td>0.0</td>\n",
              "      <td>0.0</td>\n",
              "      <td>1.0</td>\n",
              "      <td>0.0</td>\n",
              "      <td>0.0</td>\n",
              "      <td>1.0</td>\n",
              "      <td>0.0</td>\n",
              "      <td>0.0</td>\n",
              "      <td>1.0</td>\n",
              "      <td>0.0</td>\n",
              "      <td>0.0</td>\n",
              "      <td>1.0</td>\n",
              "      <td>0.0</td>\n",
              "      <td>1.0</td>\n",
              "      <td>0.0</td>\n",
              "      <td>0.0</td>\n",
              "      <td>0.0</td>\n",
              "      <td>0.0</td>\n",
              "      <td>1.0</td>\n",
              "    </tr>\n",
              "    <tr>\n",
              "      <th>1406</th>\n",
              "      <td>0</td>\n",
              "      <td>34</td>\n",
              "      <td>116.25</td>\n",
              "      <td>3899.05</td>\n",
              "      <td>0.0</td>\n",
              "      <td>1.0</td>\n",
              "      <td>1.0</td>\n",
              "      <td>0.0</td>\n",
              "      <td>1.0</td>\n",
              "      <td>0.0</td>\n",
              "      <td>0.0</td>\n",
              "      <td>1.0</td>\n",
              "      <td>0.0</td>\n",
              "      <td>0.0</td>\n",
              "      <td>1.0</td>\n",
              "      <td>0.0</td>\n",
              "      <td>1.0</td>\n",
              "      <td>0.0</td>\n",
              "      <td>0.0</td>\n",
              "      <td>0.0</td>\n",
              "      <td>1.0</td>\n",
              "      <td>0.0</td>\n",
              "      <td>0.0</td>\n",
              "      <td>1.0</td>\n",
              "      <td>0.0</td>\n",
              "      <td>0.0</td>\n",
              "      <td>1.0</td>\n",
              "      <td>0.0</td>\n",
              "      <td>0.0</td>\n",
              "      <td>1.0</td>\n",
              "      <td>0.0</td>\n",
              "      <td>0.0</td>\n",
              "      <td>1.0</td>\n",
              "      <td>0.0</td>\n",
              "      <td>0.0</td>\n",
              "      <td>1.0</td>\n",
              "      <td>0.0</td>\n",
              "      <td>1.0</td>\n",
              "      <td>0.0</td>\n",
              "      <td>1.0</td>\n",
              "      <td>0.0</td>\n",
              "      <td>0.0</td>\n",
              "      <td>1.0</td>\n",
              "      <td>0.0</td>\n",
              "      <td>0.0</td>\n",
              "    </tr>\n",
              "    <tr>\n",
              "      <th>1407</th>\n",
              "      <td>0</td>\n",
              "      <td>72</td>\n",
              "      <td>105.25</td>\n",
              "      <td>7609.75</td>\n",
              "      <td>0.0</td>\n",
              "      <td>1.0</td>\n",
              "      <td>0.0</td>\n",
              "      <td>1.0</td>\n",
              "      <td>0.0</td>\n",
              "      <td>1.0</td>\n",
              "      <td>0.0</td>\n",
              "      <td>1.0</td>\n",
              "      <td>0.0</td>\n",
              "      <td>0.0</td>\n",
              "      <td>1.0</td>\n",
              "      <td>0.0</td>\n",
              "      <td>1.0</td>\n",
              "      <td>0.0</td>\n",
              "      <td>0.0</td>\n",
              "      <td>0.0</td>\n",
              "      <td>1.0</td>\n",
              "      <td>1.0</td>\n",
              "      <td>0.0</td>\n",
              "      <td>0.0</td>\n",
              "      <td>0.0</td>\n",
              "      <td>0.0</td>\n",
              "      <td>1.0</td>\n",
              "      <td>1.0</td>\n",
              "      <td>0.0</td>\n",
              "      <td>0.0</td>\n",
              "      <td>0.0</td>\n",
              "      <td>0.0</td>\n",
              "      <td>1.0</td>\n",
              "      <td>0.0</td>\n",
              "      <td>0.0</td>\n",
              "      <td>1.0</td>\n",
              "      <td>0.0</td>\n",
              "      <td>0.0</td>\n",
              "      <td>1.0</td>\n",
              "      <td>1.0</td>\n",
              "      <td>0.0</td>\n",
              "      <td>1.0</td>\n",
              "      <td>0.0</td>\n",
              "      <td>0.0</td>\n",
              "      <td>0.0</td>\n",
              "    </tr>\n",
              "    <tr>\n",
              "      <th>1408</th>\n",
              "      <td>0</td>\n",
              "      <td>33</td>\n",
              "      <td>103.70</td>\n",
              "      <td>3467.00</td>\n",
              "      <td>1.0</td>\n",
              "      <td>0.0</td>\n",
              "      <td>0.0</td>\n",
              "      <td>1.0</td>\n",
              "      <td>0.0</td>\n",
              "      <td>1.0</td>\n",
              "      <td>0.0</td>\n",
              "      <td>1.0</td>\n",
              "      <td>0.0</td>\n",
              "      <td>0.0</td>\n",
              "      <td>1.0</td>\n",
              "      <td>0.0</td>\n",
              "      <td>1.0</td>\n",
              "      <td>0.0</td>\n",
              "      <td>0.0</td>\n",
              "      <td>0.0</td>\n",
              "      <td>1.0</td>\n",
              "      <td>1.0</td>\n",
              "      <td>0.0</td>\n",
              "      <td>0.0</td>\n",
              "      <td>0.0</td>\n",
              "      <td>0.0</td>\n",
              "      <td>1.0</td>\n",
              "      <td>1.0</td>\n",
              "      <td>0.0</td>\n",
              "      <td>0.0</td>\n",
              "      <td>0.0</td>\n",
              "      <td>0.0</td>\n",
              "      <td>1.0</td>\n",
              "      <td>0.0</td>\n",
              "      <td>0.0</td>\n",
              "      <td>1.0</td>\n",
              "      <td>0.0</td>\n",
              "      <td>1.0</td>\n",
              "      <td>0.0</td>\n",
              "      <td>0.0</td>\n",
              "      <td>1.0</td>\n",
              "      <td>0.0</td>\n",
              "      <td>0.0</td>\n",
              "      <td>0.0</td>\n",
              "      <td>1.0</td>\n",
              "    </tr>\n",
              "  </tbody>\n",
              "</table>\n",
              "<p>1409 rows × 45 columns</p>\n",
              "</div>"
            ],
            "text/plain": [
              "      SeniorCitizen  tenure  ...  x14_Electronic check  x14_Mailed check\n",
              "0                 0      53  ...                   0.0               0.0\n",
              "1                 0      58  ...                   0.0               0.0\n",
              "2                 0      42  ...                   1.0               0.0\n",
              "3                 0       1  ...                   1.0               0.0\n",
              "4                 0       1  ...                   1.0               0.0\n",
              "...             ...     ...  ...                   ...               ...\n",
              "1404              0      54  ...                   0.0               0.0\n",
              "1405              0      42  ...                   0.0               1.0\n",
              "1406              0      34  ...                   0.0               0.0\n",
              "1407              0      72  ...                   0.0               0.0\n",
              "1408              0      33  ...                   0.0               1.0\n",
              "\n",
              "[1409 rows x 45 columns]"
            ]
          },
          "metadata": {},
          "execution_count": 46
        }
      ]
    },
    {
      "cell_type": "code",
      "metadata": {
        "colab": {
          "base_uri": "https://localhost:8080/",
          "height": 607
        },
        "id": "KWvvqwzgorYH",
        "outputId": "1d4dfdbc-1ddd-4622-9892-0bb282f2c0c2"
      },
      "source": [
        "# print the feature importance\n",
        "\n",
        "xgb_clf = XGBClassifier()\n",
        "xgb_clf.fit(data_train, y_train)\n",
        "\n",
        "features = data_train.columns\n",
        "feature_imp = xgb_clf.feature_importances_\n",
        "\n",
        "feat_imp_df = pd.DataFrame({'Features' : features, 'Feature_Importance' : feature_imp}).sort_values(by='Feature_Importance', ascending=False)\n",
        "\n",
        "# Plot the feature_importance : only top 10\n",
        "plt.figure(figsize=(12,10))\n",
        "plt.barh(y=feat_imp_df['Features'].iloc[ :16], width=feat_imp_df['Feature_Importance'].iloc[ :16])\n",
        "plt.xlabel(\"Feature Importance\")\n",
        "plt.ylabel(\"Features\")\n",
        "plt.show()"
      ],
      "execution_count": 47,
      "outputs": [
        {
          "output_type": "display_data",
          "data": {
            "image/png": "[encoded data removed]",
            "text/plain": [
              "<Figure size 864x720 with 1 Axes>"
            ]
          },
          "metadata": {
            "needs_background": "light"
          }
        }
      ]
    },
    {
      "cell_type": "code",
      "metadata": {
        "colab": {
          "base_uri": "https://localhost:8080/"
        },
        "id": "SHZel3wopI34",
        "outputId": "1ad0fcea-7311-4a94-a506-3e6def6920b8"
      },
      "source": [
        "feat_imp_df['Features'][:10].values"
      ],
      "execution_count": 48,
      "outputs": [
        {
          "output_type": "execute_result",
          "data": {
            "text/plain": [
              "array(['x12_Month-to-month', 'x5_Fiber optic', 'x9_No', 'x6_No',\n",
              "       'x14_Electronic check', 'tenure', 'x12_Two year', 'x5_No',\n",
              "       'x13_No', 'x12_One year'], dtype=object)"
            ]
          },
          "metadata": {},
          "execution_count": 48
        }
      ]
    },
    {
      "cell_type": "code",
      "metadata": {
        "id": "S0CxOggMpVxn"
      },
      "source": [
        "data_train_ = data_train[['x12_Month-to-month', 'x5_Fiber optic', 'x9_No', 'x6_No',\n",
        "       'x14_Electronic check', 'tenure', 'x12_Two year', 'x5_No',\n",
        "       'x13_No', 'x12_One year']]\n",
        "data_val_ = data_val[['x12_Month-to-month', 'x5_Fiber optic', 'x9_No', 'x6_No',\n",
        "       'x14_Electronic check', 'tenure', 'x12_Two year', 'x5_No',\n",
        "       'x13_No', 'x12_One year']]"
      ],
      "execution_count": 49,
      "outputs": []
    },
    {
      "cell_type": "code",
      "metadata": {
        "id": "naWYpJzzi_aN"
      },
      "source": [
        "#scaling \n",
        "from sklearn.preprocessing import StandardScaler\n",
        "ss = StandardScaler()\n",
        "final_train_ = ss.fit(data_train_)\n",
        "final_train_ = ss.transform(data_train_)\n",
        "final_val_ = ss.transform(data_val_)"
      ],
      "execution_count": 50,
      "outputs": []
    },
    {
      "cell_type": "code",
      "metadata": {
        "id": "OrnDkjCTJd6E"
      },
      "source": [
        "#scaling \n",
        "from sklearn.preprocessing import StandardScaler\n",
        "ss = StandardScaler()\n",
        "final_train = ss.fit(data_train)\n",
        "final_train = ss.transform(data_train)\n",
        "final_val = ss.transform(data_val)"
      ],
      "execution_count": 51,
      "outputs": []
    },
    {
      "cell_type": "markdown",
      "metadata": {
        "id": "8nLAvQgUlGH-"
      },
      "source": [
        "# Building the model\n",
        "\n",
        "\n"
      ]
    },
    {
      "cell_type": "markdown",
      "metadata": {
        "id": "HTJcAVCSt0Re"
      },
      "source": [
        "### Pipeline of Model building, model evaluate and model optimizer (model improvement)"
      ]
    },
    {
      "cell_type": "code",
      "metadata": {
        "colab": {
          "base_uri": "https://localhost:8080/"
        },
        "id": "kiWu8ixC4IDh",
        "outputId": "dd4e6d44-37b5-4e93-da13-5fc201cd2dd8"
      },
      "source": [
        "data_train.shape"
      ],
      "execution_count": 52,
      "outputs": [
        {
          "output_type": "execute_result",
          "data": {
            "text/plain": [
              "(4225, 45)"
            ]
          },
          "metadata": {},
          "execution_count": 52
        }
      ]
    },
    {
      "cell_type": "markdown",
      "metadata": {
        "id": "1n1yNyQEqg7r"
      },
      "source": [
        "Here we will try to use train and test data that have been feature selection in accordance with the previous important features. **With activation function layers 1 and 2 with ReLU and for output with sigmoid.**\n",
        "\n",
        "Here we normalize to normalize the data."
      ]
    },
    {
      "cell_type": "code",
      "metadata": {
        "id": "_fpZAtt5NNqa"
      },
      "source": [
        "# data normalizer\n",
        "normalizer1 = tf.keras.layers.Normalization(axis=-1)\n",
        "normalizer1.adapt(final_train_)"
      ],
      "execution_count": 80,
      "outputs": []
    },
    {
      "cell_type": "markdown",
      "metadata": {
        "id": "yb6RswHRyrCX"
      },
      "source": [
        "## Using adam optimizer"
      ]
    },
    {
      "cell_type": "code",
      "metadata": {
        "id": "oIhDisYz2O5D"
      },
      "source": [
        "# Define Model's Architecture\n",
        "\n",
        "def get_uncompiled_model_1():\n",
        "  model = tf.keras.Sequential([\n",
        "                               normalizer1,\n",
        "                               tf.keras.layers.Dense(100, activation='relu'),\n",
        "                               tf.keras.layers.Dense(300, activation='relu'),\n",
        "                               tf.keras.layers.Dense(1, activation='sigmoid')              \n",
        "  ])\n",
        "  return model\n",
        "\n",
        "\n",
        "# Define Training Configuration (Optimizer, Loss, Metrics)\n",
        "def get_compiled_model_1():\n",
        "    model = get_uncompiled_model_1()\n",
        "    model.compile(\n",
        "        optimizer=\"adam\",\n",
        "        loss=tf.keras.losses.BinaryCrossentropy(from_logits=True),\n",
        "        metrics=[\"accuracy\"],\n",
        "    )\n",
        "    return model"
      ],
      "execution_count": 81,
      "outputs": []
    },
    {
      "cell_type": "markdown",
      "metadata": {
        "id": "VYuu6DmarseG"
      },
      "source": [
        "### Earlystopping callbacks"
      ]
    },
    {
      "cell_type": "code",
      "metadata": {
        "id": "0z7MbwWQQwUv"
      },
      "source": [
        "from keras.callbacks import EarlyStopping\n",
        "earlystop = EarlyStopping(monitor = 'val_loss',\n",
        "                          min_delta = 2,\n",
        "                          patience = 5,\n",
        "                          verbose = 1,\n",
        "                          restore_best_weights = True)"
      ],
      "execution_count": 86,
      "outputs": []
    },
    {
      "cell_type": "code",
      "metadata": {
        "colab": {
          "base_uri": "https://localhost:8080/"
        },
        "id": "W9XF5TN_KNCL",
        "outputId": "83595c8b-4bb2-44c7-92f1-29decd6118f4"
      },
      "source": [
        "# Train Program\n",
        "\n",
        "## First, let's create a training Dataset instance.\n",
        "train_dataset_ = tf.data.Dataset.from_tensor_slices((final_train_, y_train))\n",
        "\n",
        "## Shuffle and slice train dataset.\n",
        "train_dataset_ = train_dataset_.shuffle(buffer_size=1024).batch(5)\n",
        "\n",
        "## Now we get a test dataset.\n",
        "test_dataset_ = tf.data.Dataset.from_tensor_slices((data_test_, y_test))\n",
        "test_dataset_ = test_dataset_.batch(5)\n",
        "\n",
        "## Call model to be compiled\n",
        "model = get_compiled_model_1()\n",
        "\n",
        "## Since the dataset already takes care of batching, we don't pass a `batch_size` argument.\n",
        "model.fit(train_dataset_, epochs=50, callbacks=earlystop)\n",
        "\n",
        "## Evaluate on a dataset.\n",
        "print(\"\\nEvaluate on test data\")\n",
        "result = model.evaluate(test_dataset_)\n",
        "print('Test - Loss     : ', result[0])\n",
        "print('Test - Accuracy : ', result[1])\n",
        "print('')"
      ],
      "execution_count": 87,
      "outputs": [
        {
          "output_type": "stream",
          "name": "stdout",
          "text": [
            "Epoch 1/50\n",
            "842/845 [============================>.] - ETA: 0s - loss: 0.4334 - accuracy: 0.7886WARNING:tensorflow:Early stopping conditioned on metric `val_loss` which is not available. Available metrics are: loss,accuracy\n",
            "845/845 [==============================] - 4s 4ms/step - loss: 0.4324 - accuracy: 0.7893\n",
            "Epoch 2/50\n",
            "837/845 [============================>.] - ETA: 0s - loss: 0.4239 - accuracy: 0.7928WARNING:tensorflow:Early stopping conditioned on metric `val_loss` which is not available. Available metrics are: loss,accuracy\n",
            "845/845 [==============================] - 3s 4ms/step - loss: 0.4242 - accuracy: 0.7927\n",
            "Epoch 3/50\n",
            "841/845 [============================>.] - ETA: 0s - loss: 0.4185 - accuracy: 0.7993WARNING:tensorflow:Early stopping conditioned on metric `val_loss` which is not available. Available metrics are: loss,accuracy\n",
            "845/845 [==============================] - 3s 4ms/step - loss: 0.4176 - accuracy: 0.7998\n",
            "Epoch 4/50\n",
            "834/845 [============================>.] - ETA: 0s - loss: 0.4173 - accuracy: 0.8019WARNING:tensorflow:Early stopping conditioned on metric `val_loss` which is not available. Available metrics are: loss,accuracy\n",
            "845/845 [==============================] - 3s 4ms/step - loss: 0.4171 - accuracy: 0.8024\n",
            "Epoch 5/50\n",
            "837/845 [============================>.] - ETA: 0s - loss: 0.4158 - accuracy: 0.7995WARNING:tensorflow:Early stopping conditioned on metric `val_loss` which is not available. Available metrics are: loss,accuracy\n",
            "845/845 [==============================] - 3s 4ms/step - loss: 0.4159 - accuracy: 0.7993\n",
            "Epoch 6/50\n",
            "835/845 [============================>.] - ETA: 0s - loss: 0.4168 - accuracy: 0.7978WARNING:tensorflow:Early stopping conditioned on metric `val_loss` which is not available. Available metrics are: loss,accuracy\n",
            "845/845 [==============================] - 3s 4ms/step - loss: 0.4163 - accuracy: 0.7979\n",
            "Epoch 7/50\n",
            "839/845 [============================>.] - ETA: 0s - loss: 0.4128 - accuracy: 0.8026WARNING:tensorflow:Early stopping conditioned on metric `val_loss` which is not available. Available metrics are: loss,accuracy\n",
            "845/845 [==============================] - 3s 4ms/step - loss: 0.4124 - accuracy: 0.8028\n",
            "Epoch 8/50\n",
            "839/845 [============================>.] - ETA: 0s - loss: 0.4140 - accuracy: 0.8036WARNING:tensorflow:Early stopping conditioned on metric `val_loss` which is not available. Available metrics are: loss,accuracy\n",
            "845/845 [==============================] - 3s 4ms/step - loss: 0.4137 - accuracy: 0.8036\n",
            "Epoch 9/50\n",
            "845/845 [==============================] - ETA: 0s - loss: 0.4121 - accuracy: 0.8009WARNING:tensorflow:Early stopping conditioned on metric `val_loss` which is not available. Available metrics are: loss,accuracy\n",
            "845/845 [==============================] - 3s 4ms/step - loss: 0.4121 - accuracy: 0.8009\n",
            "Epoch 10/50\n",
            "837/845 [============================>.] - ETA: 0s - loss: 0.4121 - accuracy: 0.8026WARNING:tensorflow:Early stopping conditioned on metric `val_loss` which is not available. Available metrics are: loss,accuracy\n",
            "845/845 [==============================] - 3s 4ms/step - loss: 0.4116 - accuracy: 0.8033\n",
            "Epoch 11/50\n",
            "836/845 [============================>.] - ETA: 0s - loss: 0.4096 - accuracy: 0.8005WARNING:tensorflow:Early stopping conditioned on metric `val_loss` which is not available. Available metrics are: loss,accuracy\n",
            "845/845 [==============================] - 3s 4ms/step - loss: 0.4097 - accuracy: 0.8009\n",
            "Epoch 12/50\n",
            "845/845 [==============================] - ETA: 0s - loss: 0.4091 - accuracy: 0.8028WARNING:tensorflow:Early stopping conditioned on metric `val_loss` which is not available. Available metrics are: loss,accuracy\n",
            "845/845 [==============================] - 3s 4ms/step - loss: 0.4091 - accuracy: 0.8028\n",
            "Epoch 13/50\n",
            "842/845 [============================>.] - ETA: 0s - loss: 0.4087 - accuracy: 0.8017WARNING:tensorflow:Early stopping conditioned on metric `val_loss` which is not available. Available metrics are: loss,accuracy\n",
            "845/845 [==============================] - 3s 4ms/step - loss: 0.4081 - accuracy: 0.8019\n",
            "Epoch 14/50\n",
            "844/845 [============================>.] - ETA: 0s - loss: 0.4077 - accuracy: 0.8038WARNING:tensorflow:Early stopping conditioned on metric `val_loss` which is not available. Available metrics are: loss,accuracy\n",
            "845/845 [==============================] - 3s 4ms/step - loss: 0.4076 - accuracy: 0.8038\n",
            "Epoch 15/50\n",
            "836/845 [============================>.] - ETA: 0s - loss: 0.4061 - accuracy: 0.8057WARNING:tensorflow:Early stopping conditioned on metric `val_loss` which is not available. Available metrics are: loss,accuracy\n",
            "845/845 [==============================] - 3s 4ms/step - loss: 0.4068 - accuracy: 0.8050\n",
            "Epoch 16/50\n",
            "843/845 [============================>.] - ETA: 0s - loss: 0.4064 - accuracy: 0.8017WARNING:tensorflow:Early stopping conditioned on metric `val_loss` which is not available. Available metrics are: loss,accuracy\n",
            "845/845 [==============================] - 3s 4ms/step - loss: 0.4062 - accuracy: 0.8017\n",
            "Epoch 17/50\n",
            "845/845 [==============================] - ETA: 0s - loss: 0.4057 - accuracy: 0.8052WARNING:tensorflow:Early stopping conditioned on metric `val_loss` which is not available. Available metrics are: loss,accuracy\n",
            "845/845 [==============================] - 3s 4ms/step - loss: 0.4057 - accuracy: 0.8052\n",
            "Epoch 18/50\n",
            "844/845 [============================>.] - ETA: 0s - loss: 0.4048 - accuracy: 0.8052WARNING:tensorflow:Early stopping conditioned on metric `val_loss` which is not available. Available metrics are: loss,accuracy\n",
            "845/845 [==============================] - 3s 4ms/step - loss: 0.4048 - accuracy: 0.8050\n",
            "Epoch 19/50\n",
            "842/845 [============================>.] - ETA: 0s - loss: 0.4021 - accuracy: 0.8050WARNING:tensorflow:Early stopping conditioned on metric `val_loss` which is not available. Available metrics are: loss,accuracy\n",
            "845/845 [==============================] - 3s 4ms/step - loss: 0.4026 - accuracy: 0.8045\n",
            "Epoch 20/50\n",
            "841/845 [============================>.] - ETA: 0s - loss: 0.4018 - accuracy: 0.8064WARNING:tensorflow:Early stopping conditioned on metric `val_loss` which is not available. Available metrics are: loss,accuracy\n",
            "845/845 [==============================] - 3s 4ms/step - loss: 0.4023 - accuracy: 0.8066\n",
            "Epoch 21/50\n",
            "842/845 [============================>.] - ETA: 0s - loss: 0.4025 - accuracy: 0.8038WARNING:tensorflow:Early stopping conditioned on metric `val_loss` which is not available. Available metrics are: loss,accuracy\n",
            "845/845 [==============================] - 4s 4ms/step - loss: 0.4026 - accuracy: 0.8038\n",
            "Epoch 22/50\n",
            "841/845 [============================>.] - ETA: 0s - loss: 0.4009 - accuracy: 0.8036WARNING:tensorflow:Early stopping conditioned on metric `val_loss` which is not available. Available metrics are: loss,accuracy\n",
            "845/845 [==============================] - 4s 4ms/step - loss: 0.4014 - accuracy: 0.8033\n",
            "Epoch 23/50\n",
            "845/845 [==============================] - ETA: 0s - loss: 0.3995 - accuracy: 0.8040WARNING:tensorflow:Early stopping conditioned on metric `val_loss` which is not available. Available metrics are: loss,accuracy\n",
            "845/845 [==============================] - 4s 4ms/step - loss: 0.3995 - accuracy: 0.8040\n",
            "Epoch 24/50\n",
            "833/845 [============================>.] - ETA: 0s - loss: 0.3994 - accuracy: 0.8082WARNING:tensorflow:Early stopping conditioned on metric `val_loss` which is not available. Available metrics are: loss,accuracy\n",
            "845/845 [==============================] - 3s 4ms/step - loss: 0.3985 - accuracy: 0.8088\n",
            "Epoch 25/50\n",
            "840/845 [============================>.] - ETA: 0s - loss: 0.3984 - accuracy: 0.8060WARNING:tensorflow:Early stopping conditioned on metric `val_loss` which is not available. Available metrics are: loss,accuracy\n",
            "845/845 [==============================] - 3s 4ms/step - loss: 0.3984 - accuracy: 0.8054\n",
            "Epoch 26/50\n",
            "836/845 [============================>.] - ETA: 0s - loss: 0.3972 - accuracy: 0.8077WARNING:tensorflow:Early stopping conditioned on metric `val_loss` which is not available. Available metrics are: loss,accuracy\n",
            "845/845 [==============================] - 3s 4ms/step - loss: 0.3970 - accuracy: 0.8083\n",
            "Epoch 27/50\n",
            "845/845 [==============================] - ETA: 0s - loss: 0.3988 - accuracy: 0.8064WARNING:tensorflow:Early stopping conditioned on metric `val_loss` which is not available. Available metrics are: loss,accuracy\n",
            "845/845 [==============================] - 3s 4ms/step - loss: 0.3988 - accuracy: 0.8064\n",
            "Epoch 28/50\n",
            "837/845 [============================>.] - ETA: 0s - loss: 0.3947 - accuracy: 0.8096WARNING:tensorflow:Early stopping conditioned on metric `val_loss` which is not available. Available metrics are: loss,accuracy\n",
            "845/845 [==============================] - 3s 4ms/step - loss: 0.3948 - accuracy: 0.8088\n",
            "Epoch 29/50\n",
            "835/845 [============================>.] - ETA: 0s - loss: 0.3944 - accuracy: 0.8055WARNING:tensorflow:Early stopping conditioned on metric `val_loss` which is not available. Available metrics are: loss,accuracy\n",
            "845/845 [==============================] - 4s 4ms/step - loss: 0.3941 - accuracy: 0.8062\n",
            "Epoch 30/50\n",
            "837/845 [============================>.] - ETA: 0s - loss: 0.3938 - accuracy: 0.8057WARNING:tensorflow:Early stopping conditioned on metric `val_loss` which is not available. Available metrics are: loss,accuracy\n",
            "845/845 [==============================] - 3s 4ms/step - loss: 0.3960 - accuracy: 0.8043\n",
            "Epoch 31/50\n",
            "835/845 [============================>.] - ETA: 0s - loss: 0.3954 - accuracy: 0.8096WARNING:tensorflow:Early stopping conditioned on metric `val_loss` which is not available. Available metrics are: loss,accuracy\n",
            "845/845 [==============================] - 3s 4ms/step - loss: 0.3949 - accuracy: 0.8102\n",
            "Epoch 32/50\n",
            "844/845 [============================>.] - ETA: 0s - loss: 0.3948 - accuracy: 0.8109WARNING:tensorflow:Early stopping conditioned on metric `val_loss` which is not available. Available metrics are: loss,accuracy\n",
            "845/845 [==============================] - 3s 4ms/step - loss: 0.3947 - accuracy: 0.8109\n",
            "Epoch 33/50\n",
            "838/845 [============================>.] - ETA: 0s - loss: 0.3916 - accuracy: 0.8076WARNING:tensorflow:Early stopping conditioned on metric `val_loss` which is not available. Available metrics are: loss,accuracy\n",
            "845/845 [==============================] - 4s 4ms/step - loss: 0.3925 - accuracy: 0.8069\n",
            "Epoch 34/50\n",
            "845/845 [==============================] - ETA: 0s - loss: 0.3924 - accuracy: 0.8092WARNING:tensorflow:Early stopping conditioned on metric `val_loss` which is not available. Available metrics are: loss,accuracy\n",
            "845/845 [==============================] - 4s 4ms/step - loss: 0.3924 - accuracy: 0.8092\n",
            "Epoch 35/50\n",
            "835/845 [============================>.] - ETA: 0s - loss: 0.3923 - accuracy: 0.8096WARNING:tensorflow:Early stopping conditioned on metric `val_loss` which is not available. Available metrics are: loss,accuracy\n",
            "845/845 [==============================] - 3s 4ms/step - loss: 0.3914 - accuracy: 0.8102\n",
            "Epoch 36/50\n",
            "841/845 [============================>.] - ETA: 0s - loss: 0.3937 - accuracy: 0.8078WARNING:tensorflow:Early stopping conditioned on metric `val_loss` which is not available. Available metrics are: loss,accuracy\n",
            "845/845 [==============================] - 3s 4ms/step - loss: 0.3931 - accuracy: 0.8085\n",
            "Epoch 37/50\n",
            "844/845 [============================>.] - ETA: 0s - loss: 0.3908 - accuracy: 0.8126WARNING:tensorflow:Early stopping conditioned on metric `val_loss` which is not available. Available metrics are: loss,accuracy\n",
            "845/845 [==============================] - 3s 4ms/step - loss: 0.3908 - accuracy: 0.8125\n",
            "Epoch 38/50\n",
            "839/845 [============================>.] - ETA: 0s - loss: 0.3912 - accuracy: 0.8088WARNING:tensorflow:Early stopping conditioned on metric `val_loss` which is not available. Available metrics are: loss,accuracy\n",
            "845/845 [==============================] - 3s 4ms/step - loss: 0.3913 - accuracy: 0.8092\n",
            "Epoch 39/50\n",
            "843/845 [============================>.] - ETA: 0s - loss: 0.3904 - accuracy: 0.8095WARNING:tensorflow:Early stopping conditioned on metric `val_loss` which is not available. Available metrics are: loss,accuracy\n",
            "845/845 [==============================] - 3s 4ms/step - loss: 0.3900 - accuracy: 0.8097\n",
            "Epoch 40/50\n",
            "833/845 [============================>.] - ETA: 0s - loss: 0.3881 - accuracy: 0.8122WARNING:tensorflow:Early stopping conditioned on metric `val_loss` which is not available. Available metrics are: loss,accuracy\n",
            "845/845 [==============================] - 3s 4ms/step - loss: 0.3898 - accuracy: 0.8116\n",
            "Epoch 41/50\n",
            "841/845 [============================>.] - ETA: 0s - loss: 0.3908 - accuracy: 0.8071WARNING:tensorflow:Early stopping conditioned on metric `val_loss` which is not available. Available metrics are: loss,accuracy\n",
            "845/845 [==============================] - 4s 4ms/step - loss: 0.3900 - accuracy: 0.8078\n",
            "Epoch 42/50\n",
            "843/845 [============================>.] - ETA: 0s - loss: 0.3877 - accuracy: 0.8095WARNING:tensorflow:Early stopping conditioned on metric `val_loss` which is not available. Available metrics are: loss,accuracy\n",
            "845/845 [==============================] - 3s 4ms/step - loss: 0.3879 - accuracy: 0.8095\n",
            "Epoch 43/50\n",
            "840/845 [============================>.] - ETA: 0s - loss: 0.3888 - accuracy: 0.8093WARNING:tensorflow:Early stopping conditioned on metric `val_loss` which is not available. Available metrics are: loss,accuracy\n",
            "845/845 [==============================] - 3s 4ms/step - loss: 0.3887 - accuracy: 0.8095\n",
            "Epoch 44/50\n",
            "844/845 [============================>.] - ETA: 0s - loss: 0.3878 - accuracy: 0.8114WARNING:tensorflow:Early stopping conditioned on metric `val_loss` which is not available. Available metrics are: loss,accuracy\n",
            "845/845 [==============================] - 4s 4ms/step - loss: 0.3879 - accuracy: 0.8114\n",
            "Epoch 45/50\n",
            "838/845 [============================>.] - ETA: 0s - loss: 0.3874 - accuracy: 0.8103WARNING:tensorflow:Early stopping conditioned on metric `val_loss` which is not available. Available metrics are: loss,accuracy\n",
            "845/845 [==============================] - 3s 4ms/step - loss: 0.3874 - accuracy: 0.8102\n",
            "Epoch 46/50\n",
            "837/845 [============================>.] - ETA: 0s - loss: 0.3872 - accuracy: 0.8105WARNING:tensorflow:Early stopping conditioned on metric `val_loss` which is not available. Available metrics are: loss,accuracy\n",
            "845/845 [==============================] - 4s 4ms/step - loss: 0.3867 - accuracy: 0.8111\n",
            "Epoch 47/50\n",
            "833/845 [============================>.] - ETA: 0s - loss: 0.3869 - accuracy: 0.8113WARNING:tensorflow:Early stopping conditioned on metric `val_loss` which is not available. Available metrics are: loss,accuracy\n",
            "845/845 [==============================] - 3s 4ms/step - loss: 0.3870 - accuracy: 0.8099\n",
            "Epoch 48/50\n",
            "840/845 [============================>.] - ETA: 0s - loss: 0.3851 - accuracy: 0.8081WARNING:tensorflow:Early stopping conditioned on metric `val_loss` which is not available. Available metrics are: loss,accuracy\n",
            "845/845 [==============================] - 3s 4ms/step - loss: 0.3854 - accuracy: 0.8078\n",
            "Epoch 49/50\n",
            "834/845 [============================>.] - ETA: 0s - loss: 0.3866 - accuracy: 0.8082WARNING:tensorflow:Early stopping conditioned on metric `val_loss` which is not available. Available metrics are: loss,accuracy\n",
            "845/845 [==============================] - 3s 4ms/step - loss: 0.3867 - accuracy: 0.8073\n",
            "Epoch 50/50\n",
            "839/845 [============================>.] - ETA: 0s - loss: 0.3865 - accuracy: 0.8100WARNING:tensorflow:Early stopping conditioned on metric `val_loss` which is not available. Available metrics are: loss,accuracy\n",
            "845/845 [==============================] - 3s 4ms/step - loss: 0.3855 - accuracy: 0.8104\n",
            "\n",
            "Evaluate on test data\n",
            "282/282 [==============================] - 1s 3ms/step - loss: 11.3022 - accuracy: 0.7324\n",
            "Test - Loss     :  11.30219841003418\n",
            "Test - Accuracy :  0.7324343323707581\n",
            "\n"
          ]
        }
      ]
    },
    {
      "cell_type": "markdown",
      "metadata": {
        "id": "inrDl-1-yvaG"
      },
      "source": [
        "## Using adamax optimizer"
      ]
    },
    {
      "cell_type": "code",
      "metadata": {
        "id": "dBnh-s1GxqIn"
      },
      "source": [
        "# Define Model's Architecture\n",
        "\n",
        "def get_uncompiled_model():\n",
        "  model = tf.keras.Sequential([\n",
        "                               normalizer1,\n",
        "                               tf.keras.layers.Dense(100, activation='relu'),\n",
        "                               tf.keras.layers.Dense(300, activation='relu'),\n",
        "                               tf.keras.layers.Dense(1, activation='sigmoid')              \n",
        "  ])\n",
        "  return model\n",
        "\n",
        "\n",
        "# Define Training Configuration (Optimizer, Loss, Metrics)\n",
        "def get_compiled_model():\n",
        "    model = get_uncompiled_model()\n",
        "    model.compile(\n",
        "        optimizer=\"Adamax\",\n",
        "        loss=tf.keras.losses.BinaryCrossentropy(from_logits=True),\n",
        "        metrics=[\"accuracy\"],\n",
        "    )\n",
        "    return model"
      ],
      "execution_count": 88,
      "outputs": []
    },
    {
      "cell_type": "code",
      "metadata": {
        "colab": {
          "base_uri": "https://localhost:8080/"
        },
        "id": "3rSyCyXkxlfN",
        "outputId": "4d0fae66-4edc-46da-96e8-197ab805212a"
      },
      "source": [
        "# Train Program\n",
        "\n",
        "## First, let's create a training Dataset instance.\n",
        "train_dataset_ = tf.data.Dataset.from_tensor_slices((final_train_, y_train))\n",
        "\n",
        "## Shuffle and slice train dataset.\n",
        "train_dataset_ = train_dataset_.shuffle(buffer_size=1024).batch(5)\n",
        "\n",
        "## Now we get a test dataset.\n",
        "test_dataset_ = tf.data.Dataset.from_tensor_slices((data_test_, y_test))\n",
        "test_dataset_ = test_dataset_.batch(5)\n",
        "\n",
        "## Call model to be compiled\n",
        "model = get_compiled_model()\n",
        "\n",
        "## Since the dataset already takes care of batching, we don't pass a `batch_size` argument.\n",
        "model.fit(train_dataset_, epochs=50, callbacks=earlystop)\n",
        "\n",
        "## Evaluate on a dataset.\n",
        "print(\"\\nEvaluate on test data\")\n",
        "result = model.evaluate(test_dataset_)\n",
        "print('Test - Loss     : ', result[0])\n",
        "print('Test - Accuracy : ', result[1])\n",
        "print('')"
      ],
      "execution_count": 89,
      "outputs": [
        {
          "output_type": "stream",
          "name": "stdout",
          "text": [
            "Epoch 1/50\n",
            "838/845 [============================>.] - ETA: 0s - loss: 0.4312 - accuracy: 0.7971WARNING:tensorflow:Early stopping conditioned on metric `val_loss` which is not available. Available metrics are: loss,accuracy\n",
            "845/845 [==============================] - 4s 4ms/step - loss: 0.4312 - accuracy: 0.7972\n",
            "Epoch 2/50\n",
            "845/845 [==============================] - ETA: 0s - loss: 0.4201 - accuracy: 0.7974WARNING:tensorflow:Early stopping conditioned on metric `val_loss` which is not available. Available metrics are: loss,accuracy\n",
            "845/845 [==============================] - 3s 4ms/step - loss: 0.4201 - accuracy: 0.7974\n",
            "Epoch 3/50\n",
            "838/845 [============================>.] - ETA: 0s - loss: 0.4184 - accuracy: 0.8010WARNING:tensorflow:Early stopping conditioned on metric `val_loss` which is not available. Available metrics are: loss,accuracy\n",
            "845/845 [==============================] - 3s 4ms/step - loss: 0.4181 - accuracy: 0.8014\n",
            "Epoch 4/50\n",
            "841/845 [============================>.] - ETA: 0s - loss: 0.4151 - accuracy: 0.7988WARNING:tensorflow:Early stopping conditioned on metric `val_loss` which is not available. Available metrics are: loss,accuracy\n",
            "845/845 [==============================] - 3s 4ms/step - loss: 0.4148 - accuracy: 0.7986\n",
            "Epoch 5/50\n",
            "842/845 [============================>.] - ETA: 0s - loss: 0.4152 - accuracy: 0.8010WARNING:tensorflow:Early stopping conditioned on metric `val_loss` which is not available. Available metrics are: loss,accuracy\n",
            "845/845 [==============================] - 4s 4ms/step - loss: 0.4146 - accuracy: 0.8012\n",
            "Epoch 6/50\n",
            "840/845 [============================>.] - ETA: 0s - loss: 0.4126 - accuracy: 0.8012WARNING:tensorflow:Early stopping conditioned on metric `val_loss` which is not available. Available metrics are: loss,accuracy\n",
            "845/845 [==============================] - 3s 4ms/step - loss: 0.4130 - accuracy: 0.8012\n",
            "Epoch 7/50\n",
            "836/845 [============================>.] - ETA: 0s - loss: 0.4132 - accuracy: 0.8000WARNING:tensorflow:Early stopping conditioned on metric `val_loss` which is not available. Available metrics are: loss,accuracy\n",
            "845/845 [==============================] - 3s 4ms/step - loss: 0.4125 - accuracy: 0.8005\n",
            "Epoch 8/50\n",
            "843/845 [============================>.] - ETA: 0s - loss: 0.4109 - accuracy: 0.7993WARNING:tensorflow:Early stopping conditioned on metric `val_loss` which is not available. Available metrics are: loss,accuracy\n",
            "845/845 [==============================] - 3s 4ms/step - loss: 0.4110 - accuracy: 0.7993\n",
            "Epoch 9/50\n",
            "845/845 [==============================] - ETA: 0s - loss: 0.4104 - accuracy: 0.7988WARNING:tensorflow:Early stopping conditioned on metric `val_loss` which is not available. Available metrics are: loss,accuracy\n",
            "845/845 [==============================] - 3s 4ms/step - loss: 0.4104 - accuracy: 0.7988\n",
            "Epoch 10/50\n",
            "845/845 [==============================] - ETA: 0s - loss: 0.4103 - accuracy: 0.7998WARNING:tensorflow:Early stopping conditioned on metric `val_loss` which is not available. Available metrics are: loss,accuracy\n",
            "845/845 [==============================] - 3s 4ms/step - loss: 0.4103 - accuracy: 0.7998\n",
            "Epoch 11/50\n",
            "845/845 [==============================] - ETA: 0s - loss: 0.4086 - accuracy: 0.8047WARNING:tensorflow:Early stopping conditioned on metric `val_loss` which is not available. Available metrics are: loss,accuracy\n",
            "845/845 [==============================] - 3s 4ms/step - loss: 0.4086 - accuracy: 0.8047\n",
            "Epoch 12/50\n",
            "839/845 [============================>.] - ETA: 0s - loss: 0.4100 - accuracy: 0.8021WARNING:tensorflow:Early stopping conditioned on metric `val_loss` which is not available. Available metrics are: loss,accuracy\n",
            "845/845 [==============================] - 3s 4ms/step - loss: 0.4088 - accuracy: 0.8031\n",
            "Epoch 13/50\n",
            "841/845 [============================>.] - ETA: 0s - loss: 0.4082 - accuracy: 0.8019WARNING:tensorflow:Early stopping conditioned on metric `val_loss` which is not available. Available metrics are: loss,accuracy\n",
            "845/845 [==============================] - 3s 4ms/step - loss: 0.4079 - accuracy: 0.8021\n",
            "Epoch 14/50\n",
            "842/845 [============================>.] - ETA: 0s - loss: 0.4072 - accuracy: 0.8031WARNING:tensorflow:Early stopping conditioned on metric `val_loss` which is not available. Available metrics are: loss,accuracy\n",
            "845/845 [==============================] - 3s 4ms/step - loss: 0.4074 - accuracy: 0.8031\n",
            "Epoch 15/50\n",
            "845/845 [==============================] - ETA: 0s - loss: 0.4073 - accuracy: 0.8038WARNING:tensorflow:Early stopping conditioned on metric `val_loss` which is not available. Available metrics are: loss,accuracy\n",
            "845/845 [==============================] - 4s 4ms/step - loss: 0.4073 - accuracy: 0.8038\n",
            "Epoch 16/50\n",
            "836/845 [============================>.] - ETA: 0s - loss: 0.4060 - accuracy: 0.8031WARNING:tensorflow:Early stopping conditioned on metric `val_loss` which is not available. Available metrics are: loss,accuracy\n",
            "845/845 [==============================] - 3s 4ms/step - loss: 0.4065 - accuracy: 0.8028\n",
            "Epoch 17/50\n",
            "839/845 [============================>.] - ETA: 0s - loss: 0.4061 - accuracy: 0.8055WARNING:tensorflow:Early stopping conditioned on metric `val_loss` which is not available. Available metrics are: loss,accuracy\n",
            "845/845 [==============================] - 3s 4ms/step - loss: 0.4061 - accuracy: 0.8057\n",
            "Epoch 18/50\n",
            "839/845 [============================>.] - ETA: 0s - loss: 0.4048 - accuracy: 0.8036WARNING:tensorflow:Early stopping conditioned on metric `val_loss` which is not available. Available metrics are: loss,accuracy\n",
            "845/845 [==============================] - 3s 4ms/step - loss: 0.4050 - accuracy: 0.8033\n",
            "Epoch 19/50\n",
            "840/845 [============================>.] - ETA: 0s - loss: 0.4054 - accuracy: 0.8033WARNING:tensorflow:Early stopping conditioned on metric `val_loss` which is not available. Available metrics are: loss,accuracy\n",
            "845/845 [==============================] - 4s 4ms/step - loss: 0.4052 - accuracy: 0.8033\n",
            "Epoch 20/50\n",
            "835/845 [============================>.] - ETA: 0s - loss: 0.4039 - accuracy: 0.8067WARNING:tensorflow:Early stopping conditioned on metric `val_loss` which is not available. Available metrics are: loss,accuracy\n",
            "845/845 [==============================] - 3s 4ms/step - loss: 0.4044 - accuracy: 0.8062\n",
            "Epoch 21/50\n",
            "838/845 [============================>.] - ETA: 0s - loss: 0.4052 - accuracy: 0.8019WARNING:tensorflow:Early stopping conditioned on metric `val_loss` which is not available. Available metrics are: loss,accuracy\n",
            "845/845 [==============================] - 3s 4ms/step - loss: 0.4044 - accuracy: 0.8024\n",
            "Epoch 22/50\n",
            "841/845 [============================>.] - ETA: 0s - loss: 0.4033 - accuracy: 0.8033WARNING:tensorflow:Early stopping conditioned on metric `val_loss` which is not available. Available metrics are: loss,accuracy\n",
            "845/845 [==============================] - 4s 4ms/step - loss: 0.4041 - accuracy: 0.8031\n",
            "Epoch 23/50\n",
            "844/845 [============================>.] - ETA: 0s - loss: 0.4038 - accuracy: 0.8071WARNING:tensorflow:Early stopping conditioned on metric `val_loss` which is not available. Available metrics are: loss,accuracy\n",
            "845/845 [==============================] - 3s 4ms/step - loss: 0.4040 - accuracy: 0.8071\n",
            "Epoch 24/50\n",
            "845/845 [==============================] - ETA: 0s - loss: 0.4028 - accuracy: 0.8064WARNING:tensorflow:Early stopping conditioned on metric `val_loss` which is not available. Available metrics are: loss,accuracy\n",
            "845/845 [==============================] - 3s 4ms/step - loss: 0.4028 - accuracy: 0.8064\n",
            "Epoch 25/50\n",
            "840/845 [============================>.] - ETA: 0s - loss: 0.4033 - accuracy: 0.8050WARNING:tensorflow:Early stopping conditioned on metric `val_loss` which is not available. Available metrics are: loss,accuracy\n",
            "845/845 [==============================] - 3s 4ms/step - loss: 0.4025 - accuracy: 0.8057\n",
            "Epoch 26/50\n",
            "838/845 [============================>.] - ETA: 0s - loss: 0.4025 - accuracy: 0.8053WARNING:tensorflow:Early stopping conditioned on metric `val_loss` which is not available. Available metrics are: loss,accuracy\n",
            "845/845 [==============================] - 3s 4ms/step - loss: 0.4024 - accuracy: 0.8052\n",
            "Epoch 27/50\n",
            "844/845 [============================>.] - ETA: 0s - loss: 0.4019 - accuracy: 0.8038WARNING:tensorflow:Early stopping conditioned on metric `val_loss` which is not available. Available metrics are: loss,accuracy\n",
            "845/845 [==============================] - 4s 4ms/step - loss: 0.4015 - accuracy: 0.8040\n",
            "Epoch 28/50\n",
            "842/845 [============================>.] - ETA: 0s - loss: 0.4015 - accuracy: 0.8059WARNING:tensorflow:Early stopping conditioned on metric `val_loss` which is not available. Available metrics are: loss,accuracy\n",
            "845/845 [==============================] - 4s 4ms/step - loss: 0.4015 - accuracy: 0.8057\n",
            "Epoch 29/50\n",
            "842/845 [============================>.] - ETA: 0s - loss: 0.4021 - accuracy: 0.8048WARNING:tensorflow:Early stopping conditioned on metric `val_loss` which is not available. Available metrics are: loss,accuracy\n",
            "845/845 [==============================] - 3s 4ms/step - loss: 0.4019 - accuracy: 0.8047\n",
            "Epoch 30/50\n",
            "838/845 [============================>.] - ETA: 0s - loss: 0.4013 - accuracy: 0.8060WARNING:tensorflow:Early stopping conditioned on metric `val_loss` which is not available. Available metrics are: loss,accuracy\n",
            "845/845 [==============================] - 3s 4ms/step - loss: 0.4014 - accuracy: 0.8059\n",
            "Epoch 31/50\n",
            "837/845 [============================>.] - ETA: 0s - loss: 0.4004 - accuracy: 0.8043WARNING:tensorflow:Early stopping conditioned on metric `val_loss` which is not available. Available metrics are: loss,accuracy\n",
            "845/845 [==============================] - 3s 4ms/step - loss: 0.3999 - accuracy: 0.8047\n",
            "Epoch 32/50\n",
            "834/845 [============================>.] - ETA: 0s - loss: 0.4007 - accuracy: 0.8046WARNING:tensorflow:Early stopping conditioned on metric `val_loss` which is not available. Available metrics are: loss,accuracy\n",
            "845/845 [==============================] - 3s 4ms/step - loss: 0.3996 - accuracy: 0.8059\n",
            "Epoch 33/50\n",
            "834/845 [============================>.] - ETA: 0s - loss: 0.3988 - accuracy: 0.8060WARNING:tensorflow:Early stopping conditioned on metric `val_loss` which is not available. Available metrics are: loss,accuracy\n",
            "845/845 [==============================] - 3s 4ms/step - loss: 0.4000 - accuracy: 0.8052\n",
            "Epoch 34/50\n",
            "839/845 [============================>.] - ETA: 0s - loss: 0.4004 - accuracy: 0.8048WARNING:tensorflow:Early stopping conditioned on metric `val_loss` which is not available. Available metrics are: loss,accuracy\n",
            "845/845 [==============================] - 3s 4ms/step - loss: 0.3997 - accuracy: 0.8054\n",
            "Epoch 35/50\n",
            "834/845 [============================>.] - ETA: 0s - loss: 0.3976 - accuracy: 0.8060WARNING:tensorflow:Early stopping conditioned on metric `val_loss` which is not available. Available metrics are: loss,accuracy\n",
            "845/845 [==============================] - 3s 4ms/step - loss: 0.3998 - accuracy: 0.8054\n",
            "Epoch 36/50\n",
            "835/845 [============================>.] - ETA: 0s - loss: 0.3983 - accuracy: 0.8069WARNING:tensorflow:Early stopping conditioned on metric `val_loss` which is not available. Available metrics are: loss,accuracy\n",
            "845/845 [==============================] - 3s 4ms/step - loss: 0.3992 - accuracy: 0.8062\n",
            "Epoch 37/50\n",
            "842/845 [============================>.] - ETA: 0s - loss: 0.3982 - accuracy: 0.8078WARNING:tensorflow:Early stopping conditioned on metric `val_loss` which is not available. Available metrics are: loss,accuracy\n",
            "845/845 [==============================] - 3s 4ms/step - loss: 0.3991 - accuracy: 0.8076\n",
            "Epoch 38/50\n",
            "836/845 [============================>.] - ETA: 0s - loss: 0.4006 - accuracy: 0.8026WARNING:tensorflow:Early stopping conditioned on metric `val_loss` which is not available. Available metrics are: loss,accuracy\n",
            "845/845 [==============================] - 4s 4ms/step - loss: 0.3987 - accuracy: 0.8038\n",
            "Epoch 39/50\n",
            "834/845 [============================>.] - ETA: 0s - loss: 0.3981 - accuracy: 0.8070WARNING:tensorflow:Early stopping conditioned on metric `val_loss` which is not available. Available metrics are: loss,accuracy\n",
            "845/845 [==============================] - 4s 4ms/step - loss: 0.3984 - accuracy: 0.8064\n",
            "Epoch 40/50\n",
            "842/845 [============================>.] - ETA: 0s - loss: 0.3974 - accuracy: 0.8055WARNING:tensorflow:Early stopping conditioned on metric `val_loss` which is not available. Available metrics are: loss,accuracy\n",
            "845/845 [==============================] - 3s 4ms/step - loss: 0.3980 - accuracy: 0.8052\n",
            "Epoch 41/50\n",
            "834/845 [============================>.] - ETA: 0s - loss: 0.3962 - accuracy: 0.8067WARNING:tensorflow:Early stopping conditioned on metric `val_loss` which is not available. Available metrics are: loss,accuracy\n",
            "845/845 [==============================] - 4s 4ms/step - loss: 0.3970 - accuracy: 0.8057\n",
            "Epoch 42/50\n",
            "839/845 [============================>.] - ETA: 0s - loss: 0.3980 - accuracy: 0.8057WARNING:tensorflow:Early stopping conditioned on metric `val_loss` which is not available. Available metrics are: loss,accuracy\n",
            "845/845 [==============================] - 4s 4ms/step - loss: 0.3976 - accuracy: 0.8057\n",
            "Epoch 43/50\n",
            "833/845 [============================>.] - ETA: 0s - loss: 0.3965 - accuracy: 0.8017WARNING:tensorflow:Early stopping conditioned on metric `val_loss` which is not available. Available metrics are: loss,accuracy\n",
            "845/845 [==============================] - 4s 4ms/step - loss: 0.3970 - accuracy: 0.8019\n",
            "Epoch 44/50\n",
            "842/845 [============================>.] - ETA: 0s - loss: 0.3976 - accuracy: 0.8050WARNING:tensorflow:Early stopping conditioned on metric `val_loss` which is not available. Available metrics are: loss,accuracy\n",
            "845/845 [==============================] - 4s 4ms/step - loss: 0.3974 - accuracy: 0.8052\n",
            "Epoch 45/50\n",
            "835/845 [============================>.] - ETA: 0s - loss: 0.3961 - accuracy: 0.8050WARNING:tensorflow:Early stopping conditioned on metric `val_loss` which is not available. Available metrics are: loss,accuracy\n",
            "845/845 [==============================] - 3s 4ms/step - loss: 0.3963 - accuracy: 0.8050\n",
            "Epoch 46/50\n",
            "842/845 [============================>.] - ETA: 0s - loss: 0.3961 - accuracy: 0.8067WARNING:tensorflow:Early stopping conditioned on metric `val_loss` which is not available. Available metrics are: loss,accuracy\n",
            "845/845 [==============================] - 4s 4ms/step - loss: 0.3956 - accuracy: 0.8066\n",
            "Epoch 47/50\n",
            "843/845 [============================>.] - ETA: 0s - loss: 0.3961 - accuracy: 0.8069WARNING:tensorflow:Early stopping conditioned on metric `val_loss` which is not available. Available metrics are: loss,accuracy\n",
            "845/845 [==============================] - 4s 4ms/step - loss: 0.3962 - accuracy: 0.8071\n",
            "Epoch 48/50\n",
            "836/845 [============================>.] - ETA: 0s - loss: 0.3957 - accuracy: 0.8060WARNING:tensorflow:Early stopping conditioned on metric `val_loss` which is not available. Available metrics are: loss,accuracy\n",
            "845/845 [==============================] - 3s 4ms/step - loss: 0.3956 - accuracy: 0.8057\n",
            "Epoch 49/50\n",
            "835/845 [============================>.] - ETA: 0s - loss: 0.3957 - accuracy: 0.8072WARNING:tensorflow:Early stopping conditioned on metric `val_loss` which is not available. Available metrics are: loss,accuracy\n",
            "845/845 [==============================] - 4s 4ms/step - loss: 0.3949 - accuracy: 0.8078\n",
            "Epoch 50/50\n",
            "840/845 [============================>.] - ETA: 0s - loss: 0.3957 - accuracy: 0.8043WARNING:tensorflow:Early stopping conditioned on metric `val_loss` which is not available. Available metrics are: loss,accuracy\n",
            "845/845 [==============================] - 3s 4ms/step - loss: 0.3949 - accuracy: 0.8050\n",
            "\n",
            "Evaluate on test data\n",
            "282/282 [==============================] - 1s 3ms/step - loss: 5.4844 - accuracy: 0.7289\n",
            "Test - Loss     :  5.484382152557373\n",
            "Test - Accuracy :  0.7288857102394104\n",
            "\n"
          ]
        }
      ]
    },
    {
      "cell_type": "code",
      "metadata": {
        "id": "18muKBbiSELO",
        "colab": {
          "base_uri": "https://localhost:8080/"
        },
        "outputId": "3eed498d-7a6b-4310-f5dc-47021934dd0f"
      },
      "source": [
        "model.summary()"
      ],
      "execution_count": 65,
      "outputs": [
        {
          "output_type": "stream",
          "name": "stdout",
          "text": [
            "Model: \"sequential_3\"\n",
            "_________________________________________________________________\n",
            " Layer (type)                Output Shape              Param #   \n",
            "=================================================================\n",
            " normalization_1 (Normalizat  (None, 10)               21        \n",
            " ion)                                                            \n",
            "                                                                 \n",
            " dense_9 (Dense)             (None, 100)               1100      \n",
            "                                                                 \n",
            " dense_10 (Dense)            (None, 300)               30300     \n",
            "                                                                 \n",
            " dense_11 (Dense)            (None, 1)                 301       \n",
            "                                                                 \n",
            "=================================================================\n",
            "Total params: 31,722\n",
            "Trainable params: 31,701\n",
            "Non-trainable params: 21\n",
            "_________________________________________________________________\n"
          ]
        }
      ]
    },
    {
      "cell_type": "code",
      "metadata": {
        "colab": {
          "base_uri": "https://localhost:8080/",
          "height": 533
        },
        "id": "eR5nesIJT52O",
        "outputId": "af1d098f-d9ee-4c79-e676-5915319a7bf5"
      },
      "source": [
        "keras.utils.plot_model(model, show_shapes=True)"
      ],
      "execution_count": 66,
      "outputs": [
        {
          "output_type": "execute_result",
          "data": {
            "image/png": "[encoded data removed]",
            "text/plain": [
              "<IPython.core.display.Image object>"
            ]
          },
          "metadata": {},
          "execution_count": 66
        }
      ]
    },
    {
      "cell_type": "code",
      "metadata": {
        "colab": {
          "base_uri": "https://localhost:8080/"
        },
        "id": "88yfwPX8VH-G",
        "outputId": "37d677a7-9d0d-488a-857c-eaec00c62234"
      },
      "source": [
        "# Check How Many Batch Groups\n",
        "\n",
        "print('Number of Batch - Train : ', tf.data.experimental.cardinality(train_dataset).numpy())\n",
        "print('Number of Batch - Test  : ', tf.data.experimental.cardinality(test_dataset).numpy())"
      ],
      "execution_count": null,
      "outputs": [
        {
          "output_type": "stream",
          "name": "stdout",
          "text": [
            "Number of Batch - Train :  423\n",
            "Number of Batch - Test  :  141\n"
          ]
        }
      ]
    },
    {
      "cell_type": "markdown",
      "metadata": {
        "id": "4T9LuV-QmQAm"
      },
      "source": [
        "### Validation"
      ]
    },
    {
      "cell_type": "code",
      "metadata": {
        "colab": {
          "base_uri": "https://localhost:8080/"
        },
        "id": "KgLIBwG3WR_l",
        "outputId": "2eb9eb30-6f9a-414a-8508-ed414f4b5a9a"
      },
      "source": [
        "# Train ANN with Validation Data\n",
        "\n",
        "## Prepare the training dataset\n",
        "train_dataset = tf.data.Dataset.from_tensor_slices((final_train_, y_train))\n",
        "train_dataset = train_dataset.shuffle(buffer_size=1024).batch(5)\n",
        "\n",
        "## Call model to be compiled\n",
        "model = get_compiled_model_2()\n",
        "\n",
        "## Prepare the validation dataset\n",
        "val_dataset = tf.data.Dataset.from_tensor_slices((final_val_, y_val))\n",
        "val_dataset = val_dataset.batch(5)\n",
        "\n",
        "## Train with validation data\n",
        "model.fit(train_dataset, epochs=50, validation_data=val_dataset)\n",
        "\n",
        "## Evaluate on a dataset.\n",
        "print(\"\\nEvaluate on test data\")\n",
        "result = model.evaluate(val_dataset)\n",
        "print('Test - Loss     : ', result[0])\n",
        "print('Test - Accuracy : ', result[1])\n",
        "print('')"
      ],
      "execution_count": 90,
      "outputs": [
        {
          "output_type": "stream",
          "name": "stdout",
          "text": [
            "Epoch 1/50\n",
            "845/845 [==============================] - 5s 5ms/step - loss: 0.4339 - accuracy: 0.7865 - val_loss: 0.4222 - val_accuracy: 0.8155\n",
            "Epoch 2/50\n",
            "845/845 [==============================] - 4s 5ms/step - loss: 0.4242 - accuracy: 0.7964 - val_loss: 0.4267 - val_accuracy: 0.8098\n",
            "Epoch 3/50\n",
            "845/845 [==============================] - 4s 5ms/step - loss: 0.4210 - accuracy: 0.7950 - val_loss: 0.4164 - val_accuracy: 0.8155\n",
            "Epoch 4/50\n",
            "845/845 [==============================] - 4s 5ms/step - loss: 0.4199 - accuracy: 0.7979 - val_loss: 0.4246 - val_accuracy: 0.8119\n",
            "Epoch 5/50\n",
            "845/845 [==============================] - 4s 5ms/step - loss: 0.4170 - accuracy: 0.7998 - val_loss: 0.4308 - val_accuracy: 0.8247\n",
            "Epoch 6/50\n",
            "845/845 [==============================] - 4s 5ms/step - loss: 0.4169 - accuracy: 0.7972 - val_loss: 0.4296 - val_accuracy: 0.8211\n",
            "Epoch 7/50\n",
            "845/845 [==============================] - 4s 5ms/step - loss: 0.4158 - accuracy: 0.8026 - val_loss: 0.4306 - val_accuracy: 0.8219\n",
            "Epoch 8/50\n",
            "845/845 [==============================] - 4s 5ms/step - loss: 0.4127 - accuracy: 0.8021 - val_loss: 0.4391 - val_accuracy: 0.8098\n",
            "Epoch 9/50\n",
            "845/845 [==============================] - 4s 5ms/step - loss: 0.4142 - accuracy: 0.7991 - val_loss: 0.4283 - val_accuracy: 0.8155\n",
            "Epoch 10/50\n",
            "845/845 [==============================] - 4s 5ms/step - loss: 0.4123 - accuracy: 0.8036 - val_loss: 0.4233 - val_accuracy: 0.8197\n",
            "Epoch 11/50\n",
            "845/845 [==============================] - 4s 5ms/step - loss: 0.4110 - accuracy: 0.8012 - val_loss: 0.4355 - val_accuracy: 0.8211\n",
            "Epoch 12/50\n",
            "845/845 [==============================] - 4s 5ms/step - loss: 0.4106 - accuracy: 0.8024 - val_loss: 0.4293 - val_accuracy: 0.8133\n",
            "Epoch 13/50\n",
            "845/845 [==============================] - 4s 5ms/step - loss: 0.4085 - accuracy: 0.8002 - val_loss: 0.4326 - val_accuracy: 0.8112\n",
            "Epoch 14/50\n",
            "845/845 [==============================] - 4s 5ms/step - loss: 0.4094 - accuracy: 0.8012 - val_loss: 0.4268 - val_accuracy: 0.8162\n",
            "Epoch 15/50\n",
            "845/845 [==============================] - 4s 5ms/step - loss: 0.4061 - accuracy: 0.8045 - val_loss: 0.4341 - val_accuracy: 0.8141\n",
            "Epoch 16/50\n",
            "845/845 [==============================] - 4s 5ms/step - loss: 0.4058 - accuracy: 0.8038 - val_loss: 0.4277 - val_accuracy: 0.8119\n",
            "Epoch 17/50\n",
            "845/845 [==============================] - 4s 5ms/step - loss: 0.4044 - accuracy: 0.8026 - val_loss: 0.4372 - val_accuracy: 0.8155\n",
            "Epoch 18/50\n",
            "845/845 [==============================] - 4s 5ms/step - loss: 0.4038 - accuracy: 0.8040 - val_loss: 0.4392 - val_accuracy: 0.8133\n",
            "Epoch 19/50\n",
            "845/845 [==============================] - 4s 5ms/step - loss: 0.4038 - accuracy: 0.8009 - val_loss: 0.4425 - val_accuracy: 0.8112\n",
            "Epoch 20/50\n",
            "845/845 [==============================] - 4s 5ms/step - loss: 0.4024 - accuracy: 0.8033 - val_loss: 0.4381 - val_accuracy: 0.8105\n",
            "Epoch 21/50\n",
            "845/845 [==============================] - 4s 5ms/step - loss: 0.4008 - accuracy: 0.8066 - val_loss: 0.4455 - val_accuracy: 0.8119\n",
            "Epoch 22/50\n",
            "845/845 [==============================] - 4s 5ms/step - loss: 0.4009 - accuracy: 0.8066 - val_loss: 0.4377 - val_accuracy: 0.8119\n",
            "Epoch 23/50\n",
            "845/845 [==============================] - 4s 5ms/step - loss: 0.4007 - accuracy: 0.8059 - val_loss: 0.4433 - val_accuracy: 0.8155\n",
            "Epoch 24/50\n",
            "845/845 [==============================] - 4s 5ms/step - loss: 0.3990 - accuracy: 0.8071 - val_loss: 0.4499 - val_accuracy: 0.8126\n",
            "Epoch 25/50\n",
            "845/845 [==============================] - 4s 5ms/step - loss: 0.3986 - accuracy: 0.8050 - val_loss: 0.4573 - val_accuracy: 0.8119\n",
            "Epoch 26/50\n",
            "845/845 [==============================] - 4s 5ms/step - loss: 0.3968 - accuracy: 0.8069 - val_loss: 0.4569 - val_accuracy: 0.8098\n",
            "Epoch 27/50\n",
            "845/845 [==============================] - 4s 5ms/step - loss: 0.3968 - accuracy: 0.8111 - val_loss: 0.4598 - val_accuracy: 0.8119\n",
            "Epoch 28/50\n",
            "845/845 [==============================] - 4s 5ms/step - loss: 0.3963 - accuracy: 0.8076 - val_loss: 0.4674 - val_accuracy: 0.8183\n",
            "Epoch 29/50\n",
            "845/845 [==============================] - 4s 5ms/step - loss: 0.3975 - accuracy: 0.8043 - val_loss: 0.4502 - val_accuracy: 0.8141\n",
            "Epoch 30/50\n",
            "845/845 [==============================] - 4s 5ms/step - loss: 0.3950 - accuracy: 0.8076 - val_loss: 0.4617 - val_accuracy: 0.8055\n",
            "Epoch 31/50\n",
            "845/845 [==============================] - 4s 5ms/step - loss: 0.3950 - accuracy: 0.8076 - val_loss: 0.4625 - val_accuracy: 0.8126\n",
            "Epoch 32/50\n",
            "845/845 [==============================] - 4s 5ms/step - loss: 0.3957 - accuracy: 0.8080 - val_loss: 0.4680 - val_accuracy: 0.8133\n",
            "Epoch 33/50\n",
            "845/845 [==============================] - 4s 5ms/step - loss: 0.3925 - accuracy: 0.8095 - val_loss: 0.4726 - val_accuracy: 0.8112\n",
            "Epoch 34/50\n",
            "845/845 [==============================] - 5s 6ms/step - loss: 0.3923 - accuracy: 0.8092 - val_loss: 0.4716 - val_accuracy: 0.8126\n",
            "Epoch 35/50\n",
            "845/845 [==============================] - 4s 5ms/step - loss: 0.3928 - accuracy: 0.8092 - val_loss: 0.4777 - val_accuracy: 0.8155\n",
            "Epoch 36/50\n",
            "845/845 [==============================] - 4s 5ms/step - loss: 0.3928 - accuracy: 0.8062 - val_loss: 0.4787 - val_accuracy: 0.8119\n",
            "Epoch 37/50\n",
            "845/845 [==============================] - 4s 5ms/step - loss: 0.3927 - accuracy: 0.8064 - val_loss: 0.4737 - val_accuracy: 0.8091\n",
            "Epoch 38/50\n",
            "845/845 [==============================] - 4s 5ms/step - loss: 0.3909 - accuracy: 0.8104 - val_loss: 0.4813 - val_accuracy: 0.8155\n",
            "Epoch 39/50\n",
            "845/845 [==============================] - 4s 5ms/step - loss: 0.3905 - accuracy: 0.8028 - val_loss: 0.4823 - val_accuracy: 0.7991\n",
            "Epoch 40/50\n",
            "845/845 [==============================] - 4s 5ms/step - loss: 0.3900 - accuracy: 0.8080 - val_loss: 0.4722 - val_accuracy: 0.8119\n",
            "Epoch 41/50\n",
            "845/845 [==============================] - 4s 5ms/step - loss: 0.3898 - accuracy: 0.8125 - val_loss: 0.4698 - val_accuracy: 0.8077\n",
            "Epoch 42/50\n",
            "845/845 [==============================] - 4s 5ms/step - loss: 0.3882 - accuracy: 0.8095 - val_loss: 0.4899 - val_accuracy: 0.8084\n",
            "Epoch 43/50\n",
            "845/845 [==============================] - 4s 5ms/step - loss: 0.3897 - accuracy: 0.8092 - val_loss: 0.4857 - val_accuracy: 0.8148\n",
            "Epoch 44/50\n",
            "845/845 [==============================] - 4s 5ms/step - loss: 0.3881 - accuracy: 0.8102 - val_loss: 0.4948 - val_accuracy: 0.8126\n",
            "Epoch 45/50\n",
            "845/845 [==============================] - 4s 5ms/step - loss: 0.3883 - accuracy: 0.8069 - val_loss: 0.4934 - val_accuracy: 0.8105\n",
            "Epoch 46/50\n",
            "845/845 [==============================] - 4s 5ms/step - loss: 0.3891 - accuracy: 0.8088 - val_loss: 0.4877 - val_accuracy: 0.8055\n",
            "Epoch 47/50\n",
            "845/845 [==============================] - 4s 5ms/step - loss: 0.3875 - accuracy: 0.8076 - val_loss: 0.4842 - val_accuracy: 0.8105\n",
            "Epoch 48/50\n",
            "845/845 [==============================] - 4s 5ms/step - loss: 0.3860 - accuracy: 0.8104 - val_loss: 0.4966 - val_accuracy: 0.8013\n",
            "Epoch 49/50\n",
            "845/845 [==============================] - 4s 5ms/step - loss: 0.3864 - accuracy: 0.8092 - val_loss: 0.5025 - val_accuracy: 0.8077\n",
            "Epoch 50/50\n",
            "845/845 [==============================] - 4s 5ms/step - loss: 0.3851 - accuracy: 0.8130 - val_loss: 0.5018 - val_accuracy: 0.8062\n",
            "\n",
            "Evaluate on test data\n",
            "282/282 [==============================] - 1s 3ms/step - loss: 0.5018 - accuracy: 0.8062\n",
            "Test - Loss     :  0.5017935037612915\n",
            "Test - Accuracy :  0.8062455654144287\n",
            "\n"
          ]
        }
      ]
    },
    {
      "cell_type": "code",
      "metadata": {
        "id": "XObyMPlAUr3H"
      },
      "source": [
        "history = model.fit(final_train_, y_train, epochs=100,\n",
        "                    validation_data=(final_val_, y_val),verbose=0)"
      ],
      "execution_count": 67,
      "outputs": []
    },
    {
      "cell_type": "code",
      "metadata": {
        "colab": {
          "base_uri": "https://localhost:8080/",
          "height": 325
        },
        "id": "bzpT6WHkUeye",
        "outputId": "47721361-a9fc-44f2-a0d0-f592a8354621"
      },
      "source": [
        "# Create plot of history model\n",
        "pd.DataFrame(history.history).plot(figsize=(8, 5))\n",
        "plt.grid(True)\n",
        "plt.gca().set_ylim(0, 1)\n",
        "plt.show()"
      ],
      "execution_count": 68,
      "outputs": [
        {
          "output_type": "display_data",
          "data": {
            "image/png": "[encoded data removed]",
            "text/plain": [
              "<Figure size 576x360 with 1 Axes>"
            ]
          },
          "metadata": {
            "needs_background": "light"
          }
        }
      ]
    },
    {
      "cell_type": "markdown",
      "metadata": {
        "id": "ITT0nZO9-Rys"
      },
      "source": [
        "# Model inference"
      ]
    },
    {
      "cell_type": "code",
      "metadata": {
        "id": "6cNQOA4tfdrE"
      },
      "source": [
        "# Convert TotalCharges into float type\n",
        "X_test['TotalCharges'] = X_test['TotalCharges'].apply(lambda x: x.strip()).replace('', np.nan)\n",
        "X_test['TotalCharges'] = X_test['TotalCharges'].fillna(X_test['TotalCharges'].median(), axis=0)\n",
        "X_test['TotalCharges'] = X_test['TotalCharges'].astype('float64')\n"
      ],
      "execution_count": 57,
      "outputs": []
    },
    {
      "cell_type": "code",
      "metadata": {
        "id": "7H_h4a3w6bWR"
      },
      "source": [
        "\n",
        "# Apply transform to data test\n",
        "final_test_cat = enc.transform(X_test[cols]).toarray()\n",
        "ohe_df_test = pd.DataFrame(final_test_cat, columns=enc.get_feature_names())\n",
        "data_test = X_test.drop(['gender', 'Partner', 'Dependents', 'PhoneService', 'MultipleLines',\n",
        "       'InternetService', 'OnlineSecurity', 'OnlineBackup', 'DeviceProtection',\n",
        "       'TechSupport', 'StreamingTV', 'StreamingMovies', 'Contract',\n",
        "       'PaperlessBilling', 'PaymentMethod'], axis=1)\n",
        "data_test = data_test.reset_index()\n",
        "data_test = data_test.drop(['index'], axis=1)\n",
        "data_test = data_test.join(ohe_df_val)\n",
        "data_tests = np.array(data_test)"
      ],
      "execution_count": 58,
      "outputs": []
    },
    {
      "cell_type": "code",
      "metadata": {
        "colab": {
          "base_uri": "https://localhost:8080/"
        },
        "id": "Y9MwqUbufKoC",
        "outputId": "2c8b8849-94c3-4b26-dba6-a03607d3337b"
      },
      "source": [
        "#Apply data_test into transform one hot encode\n",
        "data_test_ = data_test[['x12_Month-to-month', 'x5_Fiber optic', 'x9_No', 'x6_No',\n",
        "       'x14_Electronic check', 'tenure', 'x12_Two year', 'x5_No',\n",
        "       'x13_No', 'x12_One year']]\n",
        "data_test_ = np.array(data_test_)\n",
        "\n",
        "\n",
        "# Predict\n",
        "y_pred_model1 = model.predict(data_test_)\n",
        "y_pred_model1"
      ],
      "execution_count": 69,
      "outputs": [
        {
          "output_type": "execute_result",
          "data": {
            "text/plain": [
              "array([[0.0000e+00],\n",
              "       [4.2278e-04],\n",
              "       [4.4123e-01],\n",
              "       ...,\n",
              "       [1.0092e-19],\n",
              "       [2.2758e-09],\n",
              "       [0.0000e+00]], dtype=float32)"
            ]
          },
          "metadata": {},
          "execution_count": 69
        }
      ]
    },
    {
      "cell_type": "code",
      "metadata": {
        "colab": {
          "base_uri": "https://localhost:8080/"
        },
        "id": "WrWsMDl1-NVx",
        "outputId": "3454d015-3711-413e-8724-b7551b09f92b"
      },
      "source": [
        "## Prepare the validation dataset\n",
        "test_set = tf.data.Dataset.from_tensor_slices((data_test_, y_test))\n",
        "test_set = test_set.batch(64)\n",
        "\n",
        "## Evaluate on a dataset.\n",
        "print(\"\\nEvaluate on test data\")\n",
        "result = model.evaluate(test_set)\n",
        "print('Test - Loss     : ', result[0])\n",
        "print('Test - Accuracy : ', result[1])\n",
        "print('')"
      ],
      "execution_count": 71,
      "outputs": [
        {
          "output_type": "stream",
          "name": "stdout",
          "text": [
            "\n",
            "Evaluate on test data\n",
            "23/23 [==============================] - 0s 3ms/step - loss: 14.0917 - accuracy: 0.7339\n",
            "Test - Loss     :  14.091690063476562\n",
            "Test - Accuracy :  0.733853816986084\n",
            "\n"
          ]
        }
      ]
    },
    {
      "cell_type": "markdown",
      "metadata": {
        "id": "ydcwVlgJnSC6"
      },
      "source": [
        "# Model Save"
      ]
    },
    {
      "cell_type": "code",
      "metadata": {
        "id": "0kyCp4oznWX0"
      },
      "source": [
        "model.save(\"my_milestone1_model.h5\")"
      ],
      "execution_count": 104,
      "outputs": []
    },
    {
      "cell_type": "markdown",
      "metadata": {
        "id": "DHyTa0ibwG4T"
      },
      "source": [
        "# EDA Analysis\n",
        "\n",
        "1. Telco dataset it doesn't contain any missing values. But in Total charges column contains a few of whitespaces.\n",
        "\n",
        "2. Currently 16.3% of Telco's customers are old customers who have subscribed while 83.7% are new customers.\n",
        "\n",
        "3. Distribution of contracts made by customers to Telco is mostly in the month-to-month type, while the least is in the one year type.\n",
        "\n",
        "4. The payment method that is widely used by customers is Bank Transfer and at least Electronic Check.\n",
        "The distribution of the bank transfer method is 33.4% while the Electronic Check is 21.5%.\n",
        "\n",
        "5. Customers with higher Monthly Charges are also more likely to churn."
      ]
    },
    {
      "cell_type": "markdown",
      "metadata": {
        "id": "Nzerf_A_xP7H"
      },
      "source": [
        "# Model Analysis\n",
        "\n",
        "1. The model uses adam and adamax optimizer, and the best result is adam optimizer.\n",
        "\n",
        "2. Accuracy test and loss on the model, namely\n",
        "\n",
        "    Test - Loss : 11.30219841003418\n",
        "\n",
        "    Test - Accuracy : 0.7324343323707581\n",
        "\n",
        "3. Validation test and loss accuracy\n",
        "\n",
        "    Test - Loss     :  0.5017935037612915\n",
        "\n",
        "    Test - Accuracy :  0.8062455654144287\n",
        "\n",
        "4. The results of accuracy validation and the model are not far off so that it can be said that the model can represent the data well.\n",
        "\n",
        "5. The model is very flat so the increase is not significant enough as seen from the test and loss accuracy. So it needs to be improved by handling the target data offset."
      ]
    }
  ]
}